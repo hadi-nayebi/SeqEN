{
  "cells": [
    {
      "cell_type": "code",
      "source": [
        "from pathlib import Path\n",
        "git_repo_path = Path('/content/SeqEN')\n",
        "if not git_repo_path.exists():\n",
        "  !git clone https://github.com/hadi-nayebi/SeqEN.git\n",
        "from os import chdir\n",
        "chdir('/content/SeqEN')\n",
        "!git pull\n",
        "!pip install -r '/content/SeqEN/requirements.txt'"
      ],
      "metadata": {
        "id": "3-mWvce8U6fX"
      },
      "id": "3-mWvce8U6fX",
      "execution_count": null,
      "outputs": []
    },
    {
      "cell_type": "code",
      "source": [
        "from sys import path\n",
        "if '/content/SeqEN/' not in path:\n",
        "  path.insert(0,'/content/SeqEN/')"
      ],
      "metadata": {
        "id": "YT6Yvw8QWAGS"
      },
      "id": "YT6Yvw8QWAGS",
      "execution_count": 4,
      "outputs": []
    },
    {
      "cell_type": "code",
      "source": [
        "uname = \"hadinayebi\"\n",
        "!git config --global user.email '$uname@gmail.com'\n",
        "!git config --global user.name '$uname'\n",
        "from getpass import getpass\n",
        "password = getpass('Password:')"
      ],
      "metadata": {
        "id": "ERQF3vNJldTc",
        "outputId": "367da5a8-ff98-4e81-bccd-9ae5e20a86df",
        "colab": {
          "base_uri": "https://localhost:8080/"
        }
      },
      "id": "ERQF3vNJldTc",
      "execution_count": 11,
      "outputs": [
        {
          "name": "stdout",
          "output_type": "stream",
          "text": [
            "Password:··········\n"
          ]
        }
      ]
    },
    {
      "cell_type": "code",
      "source": [
        "from SeqEN2.session import Session\n",
        "from SeqEN2.model.model import Model"
      ],
      "metadata": {
        "id": "cRXdlJITWH4o"
      },
      "id": "cRXdlJITWH4o",
      "execution_count": 5,
      "outputs": []
    },
    {
      "cell_type": "code",
      "source": [
        "session = NewSession()\n",
        "model_name = 'dummy_gc'\n",
        "arch = 'gen1'\n",
        "model_type = 'AE'\n",
        "dataset = 'w_20_KeggSeq_ndx_wpACT'\n",
        "run_title = 'prototyping_consensus_acc'\n",
        "w = 20"
      ],
      "metadata": {
        "id": "A5kuxgqAZS5t"
      },
      "id": "A5kuxgqAZS5t",
      "execution_count": null,
      "outputs": []
    },
    {
      "cell_type": "code",
      "source": [
        "!git add ."
      ],
      "metadata": {
        "id": "MhnHPBSYlW93"
      },
      "id": "MhnHPBSYlW93",
      "execution_count": 12,
      "outputs": []
    },
    {
      "cell_type": "code",
      "source": [
        "!git commit -m \"setting up gcolab\"\n",
        "!git push"
      ],
      "metadata": {
        "id": "Re5cZLr1ldhP",
        "outputId": "2a8d5099-4bcc-49ec-c26f-38ca2eed2289",
        "colab": {
          "base_uri": "https://localhost:8080/"
        }
      },
      "id": "Re5cZLr1ldhP",
      "execution_count": 13,
      "outputs": [
        {
          "output_type": "stream",
          "name": "stdout",
          "text": [
            "On branch main\n",
            "Your branch is up to date with 'origin/main'.\n",
            "\n",
            "nothing to commit, working tree clean\n",
            "fatal: could not read Username for 'https://github.com': No such device or address\n"
          ]
        }
      ]
    },
    {
      "cell_type": "code",
      "source": [
        ""
      ],
      "metadata": {
        "id": "kgUOMqhUldlo"
      },
      "id": "kgUOMqhUldlo",
      "execution_count": null,
      "outputs": []
    },
    {
      "cell_type": "code",
      "source": [
        ""
      ],
      "metadata": {
        "id": "V6taRr3JmH4D"
      },
      "id": "V6taRr3JmH4D",
      "execution_count": null,
      "outputs": []
    },
    {
      "cell_type": "code",
      "source": [
        ""
      ],
      "metadata": {
        "id": "l-Z7UDRjldtH"
      },
      "id": "l-Z7UDRjldtH",
      "execution_count": null,
      "outputs": []
    }
  ],
  "metadata": {
    "colab": {
      "name": "colab_space.ipynb",
      "provenance": []
    },
    "language_info": {
      "name": "python"
    },
    "kernelspec": {
      "name": "python3",
      "display_name": "Python 3"
    }
  },
  "nbformat": 4,
  "nbformat_minor": 5
}