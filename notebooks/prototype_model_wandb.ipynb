{
 "cells": [
  {
   "cell_type": "code",
   "execution_count": 1,
   "id": "380719b2-152c-4d04-a4dd-0e3391efd317",
   "metadata": {},
   "outputs": [],
   "source": [
    "from SeqEN2.model.model import Model\n",
    "from SeqEN2.model.model import AdversarialAutoencoder\n",
    "from IPython.display import clear_output"
   ]
  },
  {
   "cell_type": "code",
   "execution_count": 2,
   "id": "e3528a05-b533-46ed-8b25-0cc3a3de3a6f",
   "metadata": {},
   "outputs": [],
   "source": [
    "from os.path import dirname\n",
    "import wandb\n",
    "from torch.nn import Module, Sequential, Dropout, NLLLoss, MSELoss\n",
    "from torch.nn import Linear, Conv1d, ConvTranspose1d\n",
    "from torch.nn import Tanh, ReLU, LogSoftmax, Softmax\n",
    "from torch.nn import MaxPool1d, Flatten, Unflatten\n",
    "from torch.nn.functional import one_hot\n",
    "from torch import tensor, zeros, ones, optim, randperm, transpose, argmax\n",
    "from torch import cuda, device, save, float32, no_grad, argmax\n",
    "from torch import sum as torch_sum\n",
    "from SeqEN2.utils.data_loader import DataLoader\n",
    "from pytorch_lightning.loggers import WandbLogger\n",
    "from pytorch_lightning import Trainer\n",
    "from pathlib import Path"
   ]
  },
  {
   "cell_type": "code",
   "execution_count": 3,
   "id": "6e7b0c17-9b08-404d-b2b3-52e19cd31bbd",
   "metadata": {},
   "outputs": [
    {
     "name": "stdout",
     "output_type": "stream",
     "text": [
      "\u001b[34m\u001b[1mwandb\u001b[0m: Currently logged in as: \u001b[33mhadinayebi\u001b[0m (use `wandb login --relogin` to force relogin)\n"
     ]
    }
   ],
   "source": [
    "!wandb login"
   ]
  },
  {
   "cell_type": "code",
   "execution_count": null,
   "id": "ffb23e44-8bc0-4e79-984c-e36583294dda",
   "metadata": {},
   "outputs": [],
   "source": []
  },
  {
   "cell_type": "code",
   "execution_count": null,
   "id": "5825d6c7-6854-4a94-b4d8-b4a8a90c3028",
   "metadata": {},
   "outputs": [],
   "source": []
  },
  {
   "cell_type": "code",
   "execution_count": 4,
   "id": "3272a59d-b631-40a2-bbce-870977fc8533",
   "metadata": {},
   "outputs": [],
   "source": [
    "class NewModel(Model):\n",
    "    pass"
   ]
  },
  {
   "cell_type": "code",
   "execution_count": null,
   "id": "692fb900-d7a2-426d-84dc-65ee8a0245bf",
   "metadata": {},
   "outputs": [],
   "source": []
  },
  {
   "cell_type": "code",
   "execution_count": 5,
   "id": "0726dc4c-d27c-4883-9b8b-49f10115998c",
   "metadata": {},
   "outputs": [
    {
     "name": "stderr",
     "output_type": "stream",
     "text": [
      "Failed to detect the name of this notebook, you can set it manually with the WANDB_NOTEBOOK_NAME environment variable to enable code saving.\n",
      "\u001b[34m\u001b[1mwandb\u001b[0m: Currently logged in as: \u001b[33mhadinayebi\u001b[0m (use `wandb login --relogin` to force relogin)\n"
     ]
    },
    {
     "data": {
      "text/html": [
       "\n",
       "                    Syncing run <strong><a href=\"https://wandb.ai/hadinayebi/test/runs/1nwaky1c\" target=\"_blank\">ethereal-waterfall-25</a></strong> to <a href=\"https://wandb.ai/hadinayebi/test\" target=\"_blank\">Weights & Biases</a> (<a href=\"https://docs.wandb.com/integrations/jupyter.html\" target=\"_blank\">docs</a>).<br/>\n",
       "\n",
       "                "
      ],
      "text/plain": [
       "<IPython.core.display.HTML object>"
      ]
     },
     "metadata": {},
     "output_type": "display_data"
    }
   ],
   "source": [
    "model = NewModel(\n",
    "    name=\"test\",\n",
    "    train_data=\"../data/w_20_KeggSeq_ndx_wpACT/batch_0.csv.gz\",\n",
    "    test_data=\"../data/w_20_KeggSeq_ndx_wpACT/batch_1.csv.gz\",\n",
    "    d0=21,\n",
    "    d1=8,\n",
    "    dn=10,\n",
    "    w=20,\n",
    "    lr=0.01,\n",
    ")"
   ]
  },
  {
   "cell_type": "code",
   "execution_count": 6,
   "id": "762eb1d5-d902-485b-b24e-53120cb80e61",
   "metadata": {
    "tags": []
   },
   "outputs": [
    {
     "ename": "KeyboardInterrupt",
     "evalue": "",
     "output_type": "error",
     "traceback": [
      "\u001b[0;31m---------------------------------------------------------------------------\u001b[0m",
      "\u001b[0;31mKeyboardInterrupt\u001b[0m                         Traceback (most recent call last)",
      "\u001b[0;32m/var/folders/kp/v03j_nl16632jlw_xj5z___00000gn/T/ipykernel_25499/422940254.py\u001b[0m in \u001b[0;36m<module>\u001b[0;34m\u001b[0m\n\u001b[0;32m----> 1\u001b[0;31m \u001b[0mmodel\u001b[0m\u001b[0;34m.\u001b[0m\u001b[0mtrain\u001b[0m\u001b[0;34m(\u001b[0m\u001b[0mrun_title\u001b[0m\u001b[0;34m=\u001b[0m\u001b[0;34m'full_model'\u001b[0m\u001b[0;34m)\u001b[0m\u001b[0;34m\u001b[0m\u001b[0;34m\u001b[0m\u001b[0m\n\u001b[0m",
      "\u001b[0;32m~/R/EG_HN_R/LabNoteBook/20211025:A/SeqEN/SeqEN2/model/model.py\u001b[0m in \u001b[0;36mtrain\u001b[0;34m(self, epochs, batch_size, num_test_items, test_interval, run_title)\u001b[0m\n\u001b[1;32m    247\u001b[0m                     \u001b[0miter_for_test\u001b[0m \u001b[0;34m=\u001b[0m \u001b[0;36m0\u001b[0m\u001b[0;34m\u001b[0m\u001b[0;34m\u001b[0m\u001b[0m\n\u001b[1;32m    248\u001b[0m                     \u001b[0;32mfor\u001b[0m \u001b[0mtest_batch\u001b[0m \u001b[0;32min\u001b[0m \u001b[0mself\u001b[0m\u001b[0;34m.\u001b[0m\u001b[0mdata_loader\u001b[0m\u001b[0;34m.\u001b[0m\u001b[0mget_test_batch\u001b[0m\u001b[0;34m(\u001b[0m\u001b[0mnum_test_items\u001b[0m\u001b[0;34m=\u001b[0m\u001b[0mnum_test_items\u001b[0m\u001b[0;34m)\u001b[0m\u001b[0;34m:\u001b[0m\u001b[0;34m\u001b[0m\u001b[0;34m\u001b[0m\u001b[0m\n\u001b[0;32m--> 249\u001b[0;31m                         \u001b[0mself\u001b[0m\u001b[0;34m.\u001b[0m\u001b[0mtest_batch\u001b[0m\u001b[0;34m(\u001b[0m\u001b[0mtest_batch\u001b[0m\u001b[0;34m)\u001b[0m\u001b[0;34m\u001b[0m\u001b[0;34m\u001b[0m\u001b[0m\n\u001b[0m\u001b[1;32m    250\u001b[0m                 \u001b[0mwandb\u001b[0m\u001b[0;34m.\u001b[0m\u001b[0mlog\u001b[0m\u001b[0;34m(\u001b[0m\u001b[0;34m{\u001b[0m\u001b[0;34m\"counter\"\u001b[0m\u001b[0;34m:\u001b[0m \u001b[0mcounter\u001b[0m\u001b[0;34m}\u001b[0m\u001b[0;34m)\u001b[0m\u001b[0;34m\u001b[0m\u001b[0;34m\u001b[0m\u001b[0m\n\u001b[1;32m    251\u001b[0m \u001b[0;34m\u001b[0m\u001b[0m\n",
      "\u001b[0;32m~/R/EG_HN_R/LabNoteBook/20211025:A/SeqEN/SeqEN2/model/model.py\u001b[0m in \u001b[0;36mtrain_batch\u001b[0;34m(self, input_vals)\u001b[0m\n\u001b[1;32m    176\u001b[0m         \u001b[0mone_hot_input\u001b[0m \u001b[0;34m=\u001b[0m \u001b[0mone_hot\u001b[0m\u001b[0;34m(\u001b[0m\u001b[0minput_ndx\u001b[0m\u001b[0;34m,\u001b[0m \u001b[0mnum_classes\u001b[0m\u001b[0;34m=\u001b[0m\u001b[0mself\u001b[0m\u001b[0;34m.\u001b[0m\u001b[0md0\u001b[0m\u001b[0;34m)\u001b[0m \u001b[0;34m*\u001b[0m \u001b[0;36m1.0\u001b[0m\u001b[0;34m\u001b[0m\u001b[0;34m\u001b[0m\u001b[0m\n\u001b[1;32m    177\u001b[0m         \u001b[0;31m# train encoder_decoder\u001b[0m\u001b[0;34m\u001b[0m\u001b[0;34m\u001b[0m\u001b[0m\n\u001b[0;32m--> 178\u001b[0;31m         \u001b[0mself\u001b[0m\u001b[0;34m.\u001b[0m\u001b[0mreconstructor_optimizer\u001b[0m\u001b[0;34m.\u001b[0m\u001b[0mzero_grad\u001b[0m\u001b[0;34m(\u001b[0m\u001b[0;34m)\u001b[0m\u001b[0;34m\u001b[0m\u001b[0;34m\u001b[0m\u001b[0m\n\u001b[0m\u001b[1;32m    179\u001b[0m         \u001b[0mreconstructor_output\u001b[0m \u001b[0;34m=\u001b[0m \u001b[0mself\u001b[0m\u001b[0;34m.\u001b[0m\u001b[0mautoencoder\u001b[0m\u001b[0;34m.\u001b[0m\u001b[0mforward_encoder_decoder\u001b[0m\u001b[0;34m(\u001b[0m\u001b[0mone_hot_input\u001b[0m\u001b[0;34m)\u001b[0m\u001b[0;34m\u001b[0m\u001b[0;34m\u001b[0m\u001b[0m\n\u001b[1;32m    180\u001b[0m         \u001b[0mreconstructor_loss\u001b[0m \u001b[0;34m=\u001b[0m \u001b[0mself\u001b[0m\u001b[0;34m.\u001b[0m\u001b[0mcriterion_NLLLoss\u001b[0m\u001b[0;34m(\u001b[0m\u001b[0mreconstructor_output\u001b[0m\u001b[0;34m,\u001b[0m \u001b[0minput_ndx\u001b[0m\u001b[0;34m.\u001b[0m\u001b[0mreshape\u001b[0m\u001b[0;34m(\u001b[0m\u001b[0;34m(\u001b[0m\u001b[0;34m-\u001b[0m\u001b[0;36m1\u001b[0m\u001b[0;34m,\u001b[0m\u001b[0;34m)\u001b[0m\u001b[0;34m)\u001b[0m\u001b[0;34m)\u001b[0m\u001b[0;34m\u001b[0m\u001b[0;34m\u001b[0m\u001b[0m\n",
      "\u001b[0;31mKeyboardInterrupt\u001b[0m: "
     ]
    }
   ],
   "source": [
    "model.train(run_title=\"full_model\")"
   ]
  },
  {
   "cell_type": "code",
   "execution_count": null,
   "id": "b65260dd-cbc6-4f13-b5c8-9c09111e6565",
   "metadata": {},
   "outputs": [
    {
     "name": "stderr",
     "output_type": "stream",
     "text": [
      "wandb: Network error (ReadTimeout), entering retry loop.\n"
     ]
    }
   ],
   "source": [
    "# model.initialize_training_components()\n",
    "# for batch in model.data_loader.get_train_batch(10):\n",
    "#     model.train_batch(batch)\n",
    "#     clear_output(wait=True)"
   ]
  },
  {
   "cell_type": "code",
   "execution_count": 6,
   "id": "99933506-985f-41b7-8115-03d2feddbcb1",
   "metadata": {},
   "outputs": [],
   "source": [
    "# model.initialize_training_components()\n",
    "# for test_batch in model.data_loader.get_test_batch(num_test_items=1):\n",
    "#     model.test_batch(test_batch)\n",
    "#     # clear_output(wait=True)"
   ]
  },
  {
   "cell_type": "code",
   "execution_count": null,
   "id": "55c86c53-0c9d-4941-82a2-23731a44c0c1",
   "metadata": {},
   "outputs": [],
   "source": []
  },
  {
   "cell_type": "code",
   "execution_count": null,
   "id": "652d5e34-f532-47d3-96ff-2d2fe7e8357c",
   "metadata": {},
   "outputs": [],
   "source": []
  },
  {
   "cell_type": "code",
   "execution_count": null,
   "id": "3b042f97-28b7-4908-83ac-866576a7cec2",
   "metadata": {},
   "outputs": [],
   "source": []
  },
  {
   "cell_type": "code",
   "execution_count": null,
   "id": "64e01b7e-c3e9-4c8e-a704-f8b38631c81d",
   "metadata": {},
   "outputs": [],
   "source": []
  },
  {
   "cell_type": "code",
   "execution_count": null,
   "id": "f9665a4f-9c50-45ef-8b5a-ff5c151a6374",
   "metadata": {},
   "outputs": [],
   "source": []
  },
  {
   "cell_type": "code",
   "execution_count": null,
   "id": "7e1a917d-37c0-49ec-bcfa-9ea2a7914dce",
   "metadata": {},
   "outputs": [],
   "source": []
  },
  {
   "cell_type": "code",
   "execution_count": null,
   "id": "71043be0-ab3e-49c9-b62a-2eabdeaa10e8",
   "metadata": {},
   "outputs": [],
   "source": []
  },
  {
   "cell_type": "code",
   "execution_count": null,
   "id": "c61eccb2-5a12-43b5-9bf3-c215c4340214",
   "metadata": {},
   "outputs": [],
   "source": []
  },
  {
   "cell_type": "code",
   "execution_count": null,
   "id": "ee2d9d05-4b71-4107-a827-8e149e53d62e",
   "metadata": {},
   "outputs": [],
   "source": []
  },
  {
   "cell_type": "code",
   "execution_count": null,
   "id": "b5fbe957-ef62-4eca-a98e-6fc954091d17",
   "metadata": {},
   "outputs": [],
   "source": []
  },
  {
   "cell_type": "code",
   "execution_count": 6,
   "id": "09c25cb9-8371-4d6e-8aef-04ddf82d1258",
   "metadata": {},
   "outputs": [],
   "source": [
    "import pandas as pd"
   ]
  },
  {
   "cell_type": "code",
   "execution_count": 9,
   "id": "59d24b7d-a078-41e6-92e7-62eb5f3a1ea2",
   "metadata": {},
   "outputs": [],
   "source": [
    "df = pd.read_csv(\"../data/w_20_KeggSeq_ndx_wpACT/batch_0.csv.gz\", index_col=0)"
   ]
  },
  {
   "cell_type": "code",
   "execution_count": 13,
   "id": "eebc8338-1933-4fb5-85d4-8098afb44363",
   "metadata": {},
   "outputs": [],
   "source": [
    "df = df.sample(frac=1).reset_index(drop=True)"
   ]
  },
  {
   "cell_type": "code",
   "execution_count": 17,
   "id": "d75b944b-c891-4e10-bd3b-8adb7ec6cb80",
   "metadata": {},
   "outputs": [
    {
     "data": {
      "text/plain": [
       "array([[ 8.  ,  7.  , 15.  ,  7.  ,  8.  ,  2.  ,  5.  , 11.  , 14.  ,\n",
       "        14.  , 17.  ,  2.  ,  8.  , 16.  ,  7.  , 18.  ,  4.  , 19.  ,\n",
       "        14.  ,  6.  ,  0.  ,  1.  ],\n",
       "       [14.  ,  7.  ,  5.  ,  5.  , 18.  , 18.  , 11.  ,  1.  , 13.  ,\n",
       "        10.  ,  7.  , 18.  , 11.  ,  4.  ,  7.  ,  1.  ,  7.  ,  7.  ,\n",
       "        14.  ,  6.  ,  0.  ,  1.  ],\n",
       "       [18.  ,  6.  ,  1.  ,  6.  ,  2.  , 11.  ,  9.  , 19.  ,  8.  ,\n",
       "        14.  ,  6.  ,  6.  , 14.  ,  5.  ,  9.  ,  7.  ,  8.  , 10.  ,\n",
       "        11.  ,  9.  ,  0.  ,  1.  ],\n",
       "       [ 5.  ,  1.  ,  9.  , 19.  ,  1.  ,  7.  , 12.  , 18.  , 13.  ,\n",
       "        17.  , 16.  , 17.  ,  6.  ,  2.  ,  9.  ,  5.  ,  5.  ,  4.  ,\n",
       "        13.  , 16.  ,  0.  ,  1.  ],\n",
       "       [13.  ,  5.  ,  4.  ,  1.  ,  5.  ,  7.  ,  8.  ,  5.  ,  1.  ,\n",
       "        17.  , 14.  ,  4.  ,  8.  , 19.  ,  8.  , 18.  , 17.  ,  8.  ,\n",
       "        14.  , 17.  ,  0.  ,  1.  ],\n",
       "       [14.  ,  4.  , 13.  ,  9.  , 14.  , 18.  ,  6.  ,  1.  ,  6.  ,\n",
       "         2.  , 11.  ,  9.  , 14.  ,  8.  , 17.  ,  7.  ,  4.  , 14.  ,\n",
       "         5.  ,  9.  ,  0.  ,  1.  ],\n",
       "       [ 1.  , 10.  ,  6.  ,  6.  , 10.  ,  6.  , 10.  , 12.  , 19.  ,\n",
       "        14.  , 18.  ,  9.  , 19.  ,  5.  ,  3.  ,  2.  , 14.  ,  4.  ,\n",
       "         6.  , 12.  ,  0.21,  0.79],\n",
       "       [ 4.  ,  5.  ,  6.  , 10.  ,  4.  , 10.  ,  8.  ,  6.  , 14.  ,\n",
       "        19.  ,  9.  ,  8.  ,  4.  , 11.  , 11.  ,  7.  ,  4.  , 11.  ,\n",
       "        17.  ,  4.  ,  0.95,  0.05],\n",
       "       [11.  ,  7.  , 16.  ,  9.  , 13.  , 19.  ,  6.  , 19.  ,  7.  ,\n",
       "         6.  , 16.  ,  7.  ,  7.  ,  6.  ,  3.  , 11.  ,  3.  , 19.  ,\n",
       "        18.  ,  5.  ,  0.  ,  1.  ],\n",
       "       [ 8.  , 10.  ,  4.  ,  5.  ,  8.  , 10.  , 13.  , 16.  ,  6.  ,\n",
       "        16.  ,  6.  , 10.  ,  2.  ,  3.  , 10.  ,  6.  ,  8.  , 18.  ,\n",
       "         6.  ,  7.  ,  1.  ,  0.  ]])"
      ]
     },
     "execution_count": 17,
     "metadata": {},
     "output_type": "execute_result"
    }
   ],
   "source": [
    "df.iloc[0:10].values"
   ]
  },
  {
   "cell_type": "code",
   "execution_count": 15,
   "id": "31cead74-f440-45b8-b98d-efd22adcbc31",
   "metadata": {},
   "outputs": [
    {
     "data": {
      "text/html": [
       "<div>\n",
       "<style scoped>\n",
       "    .dataframe tbody tr th:only-of-type {\n",
       "        vertical-align: middle;\n",
       "    }\n",
       "\n",
       "    .dataframe tbody tr th {\n",
       "        vertical-align: top;\n",
       "    }\n",
       "\n",
       "    .dataframe thead th {\n",
       "        text-align: right;\n",
       "    }\n",
       "</style>\n",
       "<table border=\"1\" class=\"dataframe\">\n",
       "  <thead>\n",
       "    <tr style=\"text-align: right;\">\n",
       "      <th></th>\n",
       "      <th>f0</th>\n",
       "      <th>f1</th>\n",
       "      <th>f2</th>\n",
       "      <th>f3</th>\n",
       "      <th>f4</th>\n",
       "      <th>f5</th>\n",
       "      <th>f6</th>\n",
       "      <th>f7</th>\n",
       "      <th>f8</th>\n",
       "      <th>f9</th>\n",
       "      <th>...</th>\n",
       "      <th>f12</th>\n",
       "      <th>f13</th>\n",
       "      <th>f14</th>\n",
       "      <th>f15</th>\n",
       "      <th>f16</th>\n",
       "      <th>f17</th>\n",
       "      <th>f18</th>\n",
       "      <th>f19</th>\n",
       "      <th>p</th>\n",
       "      <th>n</th>\n",
       "    </tr>\n",
       "  </thead>\n",
       "  <tbody>\n",
       "    <tr>\n",
       "      <th>0</th>\n",
       "      <td>8</td>\n",
       "      <td>7</td>\n",
       "      <td>15</td>\n",
       "      <td>7</td>\n",
       "      <td>8</td>\n",
       "      <td>2</td>\n",
       "      <td>5</td>\n",
       "      <td>11</td>\n",
       "      <td>14</td>\n",
       "      <td>14</td>\n",
       "      <td>...</td>\n",
       "      <td>8</td>\n",
       "      <td>16</td>\n",
       "      <td>7</td>\n",
       "      <td>18</td>\n",
       "      <td>4</td>\n",
       "      <td>19</td>\n",
       "      <td>14</td>\n",
       "      <td>6</td>\n",
       "      <td>0.0</td>\n",
       "      <td>1.0</td>\n",
       "    </tr>\n",
       "    <tr>\n",
       "      <th>1</th>\n",
       "      <td>14</td>\n",
       "      <td>7</td>\n",
       "      <td>5</td>\n",
       "      <td>5</td>\n",
       "      <td>18</td>\n",
       "      <td>18</td>\n",
       "      <td>11</td>\n",
       "      <td>1</td>\n",
       "      <td>13</td>\n",
       "      <td>10</td>\n",
       "      <td>...</td>\n",
       "      <td>11</td>\n",
       "      <td>4</td>\n",
       "      <td>7</td>\n",
       "      <td>1</td>\n",
       "      <td>7</td>\n",
       "      <td>7</td>\n",
       "      <td>14</td>\n",
       "      <td>6</td>\n",
       "      <td>0.0</td>\n",
       "      <td>1.0</td>\n",
       "    </tr>\n",
       "    <tr>\n",
       "      <th>2</th>\n",
       "      <td>18</td>\n",
       "      <td>6</td>\n",
       "      <td>1</td>\n",
       "      <td>6</td>\n",
       "      <td>2</td>\n",
       "      <td>11</td>\n",
       "      <td>9</td>\n",
       "      <td>19</td>\n",
       "      <td>8</td>\n",
       "      <td>14</td>\n",
       "      <td>...</td>\n",
       "      <td>14</td>\n",
       "      <td>5</td>\n",
       "      <td>9</td>\n",
       "      <td>7</td>\n",
       "      <td>8</td>\n",
       "      <td>10</td>\n",
       "      <td>11</td>\n",
       "      <td>9</td>\n",
       "      <td>0.0</td>\n",
       "      <td>1.0</td>\n",
       "    </tr>\n",
       "    <tr>\n",
       "      <th>3</th>\n",
       "      <td>5</td>\n",
       "      <td>1</td>\n",
       "      <td>9</td>\n",
       "      <td>19</td>\n",
       "      <td>1</td>\n",
       "      <td>7</td>\n",
       "      <td>12</td>\n",
       "      <td>18</td>\n",
       "      <td>13</td>\n",
       "      <td>17</td>\n",
       "      <td>...</td>\n",
       "      <td>6</td>\n",
       "      <td>2</td>\n",
       "      <td>9</td>\n",
       "      <td>5</td>\n",
       "      <td>5</td>\n",
       "      <td>4</td>\n",
       "      <td>13</td>\n",
       "      <td>16</td>\n",
       "      <td>0.0</td>\n",
       "      <td>1.0</td>\n",
       "    </tr>\n",
       "    <tr>\n",
       "      <th>4</th>\n",
       "      <td>13</td>\n",
       "      <td>5</td>\n",
       "      <td>4</td>\n",
       "      <td>1</td>\n",
       "      <td>5</td>\n",
       "      <td>7</td>\n",
       "      <td>8</td>\n",
       "      <td>5</td>\n",
       "      <td>1</td>\n",
       "      <td>17</td>\n",
       "      <td>...</td>\n",
       "      <td>8</td>\n",
       "      <td>19</td>\n",
       "      <td>8</td>\n",
       "      <td>18</td>\n",
       "      <td>17</td>\n",
       "      <td>8</td>\n",
       "      <td>14</td>\n",
       "      <td>17</td>\n",
       "      <td>0.0</td>\n",
       "      <td>1.0</td>\n",
       "    </tr>\n",
       "  </tbody>\n",
       "</table>\n",
       "<p>5 rows × 22 columns</p>\n",
       "</div>"
      ],
      "text/plain": [
       "   f0  f1  f2  f3  f4  f5  f6  f7  f8  f9  ...  f12  f13  f14  f15  f16  f17  \\\n",
       "0   8   7  15   7   8   2   5  11  14  14  ...    8   16    7   18    4   19   \n",
       "1  14   7   5   5  18  18  11   1  13  10  ...   11    4    7    1    7    7   \n",
       "2  18   6   1   6   2  11   9  19   8  14  ...   14    5    9    7    8   10   \n",
       "3   5   1   9  19   1   7  12  18  13  17  ...    6    2    9    5    5    4   \n",
       "4  13   5   4   1   5   7   8   5   1  17  ...    8   19    8   18   17    8   \n",
       "\n",
       "   f18  f19    p    n  \n",
       "0   14    6  0.0  1.0  \n",
       "1   14    6  0.0  1.0  \n",
       "2   11    9  0.0  1.0  \n",
       "3   13   16  0.0  1.0  \n",
       "4   14   17  0.0  1.0  \n",
       "\n",
       "[5 rows x 22 columns]"
      ]
     },
     "execution_count": 15,
     "metadata": {},
     "output_type": "execute_result"
    }
   ],
   "source": [
    "df.head()"
   ]
  },
  {
   "cell_type": "code",
   "execution_count": null,
   "id": "8fe30dce-dfab-4031-af1b-8d53b12a11a0",
   "metadata": {},
   "outputs": [],
   "source": []
  }
 ],
 "metadata": {
  "kernelspec": {
   "display_name": "Python 3 (ipykernel)",
   "language": "python",
   "name": "python3"
  },
  "language_info": {
   "codemirror_mode": {
    "name": "ipython",
    "version": 3
   },
   "file_extension": ".py",
   "mimetype": "text/x-python",
   "name": "python",
   "nbconvert_exporter": "python",
   "pygments_lexer": "ipython3",
   "version": "3.9.7"
  }
 },
 "nbformat": 4,
 "nbformat_minor": 5
}
