{
 "cells": [
  {
   "cell_type": "code",
   "execution_count": 1,
   "id": "e9e4e478-bdc2-480c-b203-956414852f29",
   "metadata": {},
   "outputs": [],
   "source": [
    "from SeqEN2.utils.data_loader import read_json, write_json\n",
    "from pathlib import Path\n",
    "from IPython.display import clear_output\n",
    "from glob import glob\n",
    "from os import system"
   ]
  },
  {
   "cell_type": "code",
   "execution_count": 2,
   "id": "756f7c1b-0254-41a0-8609-fac217e3283e",
   "metadata": {},
   "outputs": [],
   "source": [
    "import numpy as np\n",
    "import pandas as pd"
   ]
  },
  {
   "cell_type": "code",
   "execution_count": 15,
   "id": "e9e2fda8-c543-431d-9ee7-a75c8b7b5cd8",
   "metadata": {},
   "outputs": [],
   "source": [
    "import prody"
   ]
  },
  {
   "cell_type": "code",
   "execution_count": null,
   "id": "2b705556-3838-40c7-b8fa-a51a1b3593fe",
   "metadata": {},
   "outputs": [],
   "source": []
  },
  {
   "cell_type": "code",
   "execution_count": 24,
   "id": "d01d8b68-c99d-455f-a30b-e675729e73fa",
   "metadata": {},
   "outputs": [],
   "source": [
    "new_wd = Path('../../data/pdb_dssp_phipsi_ndxed/')\n",
    "if not new_wd.exists():\n",
    "    new_wd.mkdir()\n",
    "pdb_files = Path('../../data/pdb_files/')\n",
    "if not pdb_files.exists():\n",
    "    pdb_files.mkdir()"
   ]
  },
  {
   "cell_type": "code",
   "execution_count": 4,
   "id": "50d7a870-5714-41c8-b8ee-010463c355bd",
   "metadata": {},
   "outputs": [],
   "source": [
    "data_dir = '../../data/pdb_dssp_phipsi/'\n",
    "files = sorted(glob(f'{data_dir}*.json.gz'))\n",
    "\n",
    "aa_dict = {\n",
    "    \"A\": \"ALA\", \"C\": \"CYS\", \"D\": \"ASP\", \"E\": \"GLU\", \"F\": \"PHE\", \"G\": \"GLY\", \"H\": \"HIS\", \"I\": \"ILE\", \"K\": \"LYS\", \"L\": \"LEU\", \n",
    "    \"M\": \"MET\", \"N\": \"ASN\", \"P\": \"PRO\", \"Q\": \"GLN\", \"R\": \"ARG\", \"S\": \"SER\", \"T\": \"THR\", \"V\": \"VAL\", \"W\": \"TRP\", \"Y\": \"TYR\"\n",
    "}\n"
   ]
  },
  {
   "cell_type": "code",
   "execution_count": 32,
   "id": "db6b85a9-6385-4f44-bc30-f3050d0528bb",
   "metadata": {
    "collapsed": true,
    "jupyter": {
     "outputs_hidden": true
    },
    "tags": []
   },
   "outputs": [
    {
     "name": "stdout",
     "output_type": "stream",
     "text": [
      "transforming ../../data/pdb_dssp_phipsi/pdb_dssp_phipsi_0.json.gz\n",
      "transforming ../../data/pdb_dssp_phipsi/pdb_dssp_phipsi_1.json.gz\n",
      "transforming ../../data/pdb_dssp_phipsi/pdb_dssp_phipsi_10.json.gz\n",
      "transforming ../../data/pdb_dssp_phipsi/pdb_dssp_phipsi_100.json.gz\n",
      "transforming ../../data/pdb_dssp_phipsi/pdb_dssp_phipsi_101.json.gz\n",
      "transforming ../../data/pdb_dssp_phipsi/pdb_dssp_phipsi_102.json.gz\n",
      "transforming ../../data/pdb_dssp_phipsi/pdb_dssp_phipsi_103.json.gz\n",
      "transforming ../../data/pdb_dssp_phipsi/pdb_dssp_phipsi_104.json.gz\n",
      "transforming ../../data/pdb_dssp_phipsi/pdb_dssp_phipsi_105.json.gz\n",
      "transforming ../../data/pdb_dssp_phipsi/pdb_dssp_phipsi_106.json.gz\n",
      "transforming ../../data/pdb_dssp_phipsi/pdb_dssp_phipsi_107.json.gz\n",
      "transforming ../../data/pdb_dssp_phipsi/pdb_dssp_phipsi_108.json.gz\n",
      "transforming ../../data/pdb_dssp_phipsi/pdb_dssp_phipsi_109.json.gz\n",
      "transforming ../../data/pdb_dssp_phipsi/pdb_dssp_phipsi_11.json.gz\n",
      "transforming ../../data/pdb_dssp_phipsi/pdb_dssp_phipsi_110.json.gz\n",
      "transforming ../../data/pdb_dssp_phipsi/pdb_dssp_phipsi_111.json.gz\n",
      "transforming ../../data/pdb_dssp_phipsi/pdb_dssp_phipsi_112.json.gz\n",
      "transforming ../../data/pdb_dssp_phipsi/pdb_dssp_phipsi_113.json.gz\n",
      "transforming ../../data/pdb_dssp_phipsi/pdb_dssp_phipsi_114.json.gz\n",
      "transforming ../../data/pdb_dssp_phipsi/pdb_dssp_phipsi_115.json.gz\n",
      "transforming ../../data/pdb_dssp_phipsi/pdb_dssp_phipsi_116.json.gz\n",
      "transforming ../../data/pdb_dssp_phipsi/pdb_dssp_phipsi_117.json.gz\n",
      "transforming ../../data/pdb_dssp_phipsi/pdb_dssp_phipsi_118.json.gz\n",
      "transforming ../../data/pdb_dssp_phipsi/pdb_dssp_phipsi_119.json.gz\n",
      "transforming ../../data/pdb_dssp_phipsi/pdb_dssp_phipsi_12.json.gz\n",
      "transforming ../../data/pdb_dssp_phipsi/pdb_dssp_phipsi_120.json.gz\n",
      "transforming ../../data/pdb_dssp_phipsi/pdb_dssp_phipsi_121.json.gz\n",
      "transforming ../../data/pdb_dssp_phipsi/pdb_dssp_phipsi_122.json.gz\n",
      "transforming ../../data/pdb_dssp_phipsi/pdb_dssp_phipsi_123.json.gz\n",
      "transforming ../../data/pdb_dssp_phipsi/pdb_dssp_phipsi_124.json.gz\n",
      "transforming ../../data/pdb_dssp_phipsi/pdb_dssp_phipsi_125.json.gz\n",
      "transforming ../../data/pdb_dssp_phipsi/pdb_dssp_phipsi_126.json.gz\n",
      "transforming ../../data/pdb_dssp_phipsi/pdb_dssp_phipsi_127.json.gz\n",
      "transforming ../../data/pdb_dssp_phipsi/pdb_dssp_phipsi_128.json.gz\n",
      "transforming ../../data/pdb_dssp_phipsi/pdb_dssp_phipsi_129.json.gz\n",
      "transforming ../../data/pdb_dssp_phipsi/pdb_dssp_phipsi_13.json.gz\n",
      "transforming ../../data/pdb_dssp_phipsi/pdb_dssp_phipsi_130.json.gz\n",
      "transforming ../../data/pdb_dssp_phipsi/pdb_dssp_phipsi_131.json.gz\n",
      "transforming ../../data/pdb_dssp_phipsi/pdb_dssp_phipsi_132.json.gz\n",
      "transforming ../../data/pdb_dssp_phipsi/pdb_dssp_phipsi_133.json.gz\n",
      "transforming ../../data/pdb_dssp_phipsi/pdb_dssp_phipsi_134.json.gz\n",
      "transforming ../../data/pdb_dssp_phipsi/pdb_dssp_phipsi_135.json.gz\n",
      "transforming ../../data/pdb_dssp_phipsi/pdb_dssp_phipsi_136.json.gz\n",
      "transforming ../../data/pdb_dssp_phipsi/pdb_dssp_phipsi_137.json.gz\n",
      "transforming ../../data/pdb_dssp_phipsi/pdb_dssp_phipsi_138.json.gz\n",
      "transforming ../../data/pdb_dssp_phipsi/pdb_dssp_phipsi_139.json.gz\n",
      "transforming ../../data/pdb_dssp_phipsi/pdb_dssp_phipsi_14.json.gz\n",
      "transforming ../../data/pdb_dssp_phipsi/pdb_dssp_phipsi_140.json.gz\n",
      "transforming ../../data/pdb_dssp_phipsi/pdb_dssp_phipsi_141.json.gz\n",
      "transforming ../../data/pdb_dssp_phipsi/pdb_dssp_phipsi_142.json.gz\n",
      "transforming ../../data/pdb_dssp_phipsi/pdb_dssp_phipsi_143.json.gz\n",
      "transforming ../../data/pdb_dssp_phipsi/pdb_dssp_phipsi_144.json.gz\n",
      "transforming ../../data/pdb_dssp_phipsi/pdb_dssp_phipsi_145.json.gz\n",
      "transforming ../../data/pdb_dssp_phipsi/pdb_dssp_phipsi_146.json.gz\n",
      "transforming ../../data/pdb_dssp_phipsi/pdb_dssp_phipsi_147.json.gz\n",
      "transforming ../../data/pdb_dssp_phipsi/pdb_dssp_phipsi_148.json.gz\n",
      "transforming ../../data/pdb_dssp_phipsi/pdb_dssp_phipsi_149.json.gz\n",
      "transforming ../../data/pdb_dssp_phipsi/pdb_dssp_phipsi_15.json.gz\n",
      "transforming ../../data/pdb_dssp_phipsi/pdb_dssp_phipsi_150.json.gz\n",
      "transforming ../../data/pdb_dssp_phipsi/pdb_dssp_phipsi_151.json.gz\n",
      "transforming ../../data/pdb_dssp_phipsi/pdb_dssp_phipsi_152.json.gz\n",
      "transforming ../../data/pdb_dssp_phipsi/pdb_dssp_phipsi_153.json.gz\n",
      "transforming ../../data/pdb_dssp_phipsi/pdb_dssp_phipsi_154.json.gz\n",
      "transforming ../../data/pdb_dssp_phipsi/pdb_dssp_phipsi_155.json.gz\n",
      "transforming ../../data/pdb_dssp_phipsi/pdb_dssp_phipsi_156.json.gz\n",
      "transforming ../../data/pdb_dssp_phipsi/pdb_dssp_phipsi_157.json.gz\n",
      "transforming ../../data/pdb_dssp_phipsi/pdb_dssp_phipsi_158.json.gz\n",
      "transforming ../../data/pdb_dssp_phipsi/pdb_dssp_phipsi_16.json.gz\n",
      "transforming ../../data/pdb_dssp_phipsi/pdb_dssp_phipsi_17.json.gz\n",
      "transforming ../../data/pdb_dssp_phipsi/pdb_dssp_phipsi_18.json.gz\n",
      "transforming ../../data/pdb_dssp_phipsi/pdb_dssp_phipsi_19.json.gz\n",
      "transforming ../../data/pdb_dssp_phipsi/pdb_dssp_phipsi_2.json.gz\n",
      "transforming ../../data/pdb_dssp_phipsi/pdb_dssp_phipsi_20.json.gz\n",
      "transforming ../../data/pdb_dssp_phipsi/pdb_dssp_phipsi_21.json.gz\n",
      "transforming ../../data/pdb_dssp_phipsi/pdb_dssp_phipsi_22.json.gz\n",
      "transforming ../../data/pdb_dssp_phipsi/pdb_dssp_phipsi_23.json.gz\n",
      "transforming ../../data/pdb_dssp_phipsi/pdb_dssp_phipsi_24.json.gz\n",
      "transforming ../../data/pdb_dssp_phipsi/pdb_dssp_phipsi_25.json.gz\n",
      "transforming ../../data/pdb_dssp_phipsi/pdb_dssp_phipsi_26.json.gz\n",
      "transforming ../../data/pdb_dssp_phipsi/pdb_dssp_phipsi_27.json.gz\n",
      "transforming ../../data/pdb_dssp_phipsi/pdb_dssp_phipsi_28.json.gz\n",
      "transforming ../../data/pdb_dssp_phipsi/pdb_dssp_phipsi_29.json.gz\n",
      "transforming ../../data/pdb_dssp_phipsi/pdb_dssp_phipsi_3.json.gz\n",
      "transforming ../../data/pdb_dssp_phipsi/pdb_dssp_phipsi_30.json.gz\n",
      "transforming ../../data/pdb_dssp_phipsi/pdb_dssp_phipsi_31.json.gz\n",
      "transforming ../../data/pdb_dssp_phipsi/pdb_dssp_phipsi_32.json.gz\n",
      "transforming ../../data/pdb_dssp_phipsi/pdb_dssp_phipsi_33.json.gz\n",
      "transforming ../../data/pdb_dssp_phipsi/pdb_dssp_phipsi_34.json.gz\n",
      "transforming ../../data/pdb_dssp_phipsi/pdb_dssp_phipsi_35.json.gz\n",
      "transforming ../../data/pdb_dssp_phipsi/pdb_dssp_phipsi_36.json.gz\n",
      "transforming ../../data/pdb_dssp_phipsi/pdb_dssp_phipsi_37.json.gz\n",
      "transforming ../../data/pdb_dssp_phipsi/pdb_dssp_phipsi_38.json.gz\n",
      "transforming ../../data/pdb_dssp_phipsi/pdb_dssp_phipsi_39.json.gz\n",
      "transforming ../../data/pdb_dssp_phipsi/pdb_dssp_phipsi_4.json.gz\n",
      "transforming ../../data/pdb_dssp_phipsi/pdb_dssp_phipsi_40.json.gz\n",
      "transforming ../../data/pdb_dssp_phipsi/pdb_dssp_phipsi_41.json.gz\n",
      "transforming ../../data/pdb_dssp_phipsi/pdb_dssp_phipsi_42.json.gz\n",
      "transforming ../../data/pdb_dssp_phipsi/pdb_dssp_phipsi_43.json.gz\n",
      "transforming ../../data/pdb_dssp_phipsi/pdb_dssp_phipsi_44.json.gz\n",
      "transforming ../../data/pdb_dssp_phipsi/pdb_dssp_phipsi_45.json.gz\n",
      "transforming ../../data/pdb_dssp_phipsi/pdb_dssp_phipsi_46.json.gz\n",
      "transforming ../../data/pdb_dssp_phipsi/pdb_dssp_phipsi_47.json.gz\n",
      "transforming ../../data/pdb_dssp_phipsi/pdb_dssp_phipsi_48.json.gz\n",
      "transforming ../../data/pdb_dssp_phipsi/pdb_dssp_phipsi_49.json.gz\n",
      "transforming ../../data/pdb_dssp_phipsi/pdb_dssp_phipsi_5.json.gz\n",
      "transforming ../../data/pdb_dssp_phipsi/pdb_dssp_phipsi_50.json.gz\n",
      "transforming ../../data/pdb_dssp_phipsi/pdb_dssp_phipsi_51.json.gz\n",
      "transforming ../../data/pdb_dssp_phipsi/pdb_dssp_phipsi_52.json.gz\n",
      "transforming ../../data/pdb_dssp_phipsi/pdb_dssp_phipsi_53.json.gz\n",
      "transforming ../../data/pdb_dssp_phipsi/pdb_dssp_phipsi_54.json.gz\n",
      "transforming ../../data/pdb_dssp_phipsi/pdb_dssp_phipsi_55.json.gz\n",
      "transforming ../../data/pdb_dssp_phipsi/pdb_dssp_phipsi_56.json.gz\n",
      "transforming ../../data/pdb_dssp_phipsi/pdb_dssp_phipsi_57.json.gz\n",
      "transforming ../../data/pdb_dssp_phipsi/pdb_dssp_phipsi_58.json.gz\n",
      "transforming ../../data/pdb_dssp_phipsi/pdb_dssp_phipsi_59.json.gz\n",
      "transforming ../../data/pdb_dssp_phipsi/pdb_dssp_phipsi_6.json.gz\n",
      "transforming ../../data/pdb_dssp_phipsi/pdb_dssp_phipsi_60.json.gz\n",
      "transforming ../../data/pdb_dssp_phipsi/pdb_dssp_phipsi_61.json.gz\n",
      "transforming ../../data/pdb_dssp_phipsi/pdb_dssp_phipsi_62.json.gz\n",
      "transforming ../../data/pdb_dssp_phipsi/pdb_dssp_phipsi_63.json.gz\n",
      "transforming ../../data/pdb_dssp_phipsi/pdb_dssp_phipsi_64.json.gz\n",
      "transforming ../../data/pdb_dssp_phipsi/pdb_dssp_phipsi_65.json.gz\n",
      "transforming ../../data/pdb_dssp_phipsi/pdb_dssp_phipsi_66.json.gz\n",
      "transforming ../../data/pdb_dssp_phipsi/pdb_dssp_phipsi_67.json.gz\n",
      "transforming ../../data/pdb_dssp_phipsi/pdb_dssp_phipsi_68.json.gz\n",
      "transforming ../../data/pdb_dssp_phipsi/pdb_dssp_phipsi_69.json.gz\n",
      "transforming ../../data/pdb_dssp_phipsi/pdb_dssp_phipsi_7.json.gz\n",
      "transforming ../../data/pdb_dssp_phipsi/pdb_dssp_phipsi_70.json.gz\n",
      "transforming ../../data/pdb_dssp_phipsi/pdb_dssp_phipsi_71.json.gz\n",
      "transforming ../../data/pdb_dssp_phipsi/pdb_dssp_phipsi_72.json.gz\n",
      "transforming ../../data/pdb_dssp_phipsi/pdb_dssp_phipsi_73.json.gz\n",
      "transforming ../../data/pdb_dssp_phipsi/pdb_dssp_phipsi_74.json.gz\n",
      "transforming ../../data/pdb_dssp_phipsi/pdb_dssp_phipsi_75.json.gz\n",
      "transforming ../../data/pdb_dssp_phipsi/pdb_dssp_phipsi_76.json.gz\n",
      "transforming ../../data/pdb_dssp_phipsi/pdb_dssp_phipsi_77.json.gz\n",
      "transforming ../../data/pdb_dssp_phipsi/pdb_dssp_phipsi_78.json.gz\n",
      "transforming ../../data/pdb_dssp_phipsi/pdb_dssp_phipsi_79.json.gz\n",
      "transforming ../../data/pdb_dssp_phipsi/pdb_dssp_phipsi_8.json.gz\n",
      "transforming ../../data/pdb_dssp_phipsi/pdb_dssp_phipsi_80.json.gz\n",
      "transforming ../../data/pdb_dssp_phipsi/pdb_dssp_phipsi_81.json.gz\n",
      "transforming ../../data/pdb_dssp_phipsi/pdb_dssp_phipsi_82.json.gz\n",
      "transforming ../../data/pdb_dssp_phipsi/pdb_dssp_phipsi_83.json.gz\n",
      "transforming ../../data/pdb_dssp_phipsi/pdb_dssp_phipsi_84.json.gz\n",
      "transforming ../../data/pdb_dssp_phipsi/pdb_dssp_phipsi_85.json.gz\n",
      "transforming ../../data/pdb_dssp_phipsi/pdb_dssp_phipsi_86.json.gz\n",
      "transforming ../../data/pdb_dssp_phipsi/pdb_dssp_phipsi_87.json.gz\n",
      "transforming ../../data/pdb_dssp_phipsi/pdb_dssp_phipsi_88.json.gz\n",
      "transforming ../../data/pdb_dssp_phipsi/pdb_dssp_phipsi_89.json.gz\n",
      "transforming ../../data/pdb_dssp_phipsi/pdb_dssp_phipsi_9.json.gz\n",
      "transforming ../../data/pdb_dssp_phipsi/pdb_dssp_phipsi_90.json.gz\n",
      "transforming ../../data/pdb_dssp_phipsi/pdb_dssp_phipsi_91.json.gz\n",
      "transforming ../../data/pdb_dssp_phipsi/pdb_dssp_phipsi_92.json.gz\n",
      "transforming ../../data/pdb_dssp_phipsi/pdb_dssp_phipsi_93.json.gz\n",
      "transforming ../../data/pdb_dssp_phipsi/pdb_dssp_phipsi_94.json.gz\n",
      "transforming ../../data/pdb_dssp_phipsi/pdb_dssp_phipsi_95.json.gz\n",
      "transforming ../../data/pdb_dssp_phipsi/pdb_dssp_phipsi_96.json.gz\n",
      "transforming ../../data/pdb_dssp_phipsi/pdb_dssp_phipsi_97.json.gz\n",
      "transforming ../../data/pdb_dssp_phipsi/pdb_dssp_phipsi_98.json.gz\n",
      "transforming ../../data/pdb_dssp_phipsi/pdb_dssp_phipsi_99.json.gz\n",
      "dict_keys(['209D_2_C', '316D_2_C', '155C_1_A', '173D_2_C', '484D_2_A', '185D_1_A', '1A0M_1_A', '1A0N_1_A', '1A0R_1_B', '2A0Q_1_A', '3A0B_8_I', '3A0B_10_K', '3A0B_11_L', '3A0B_12_M', '3A0B_14_T', '3A0B_17_X', '3A0B_18_Y', '3A0B_19_N', '3A0H_8_I', '3A0H_10_K', '3A0H_11_L', '3A0H_12_M', '3A0H_14_T', '3A0H_17_X', '3A0H_18_Y', '3A0H_19_N', '4A0I_2_C', '4A0J_2_C', '4A0N_2_C', '5A0E_2_C', '5A0R_2_D', '5A0X_2_C', '5A0Y_1_A', '1A11_1_A', '1A13_1_A', '1A1P_1_A', '1A1R_2_C', '1A1U_1_A', '2A1C_1_A', '4A1S_1_A', '4A1T_2_C', '4A1U_2_B', '4A1V_2_C', '4A1W_2_P', '4A1X_2_C', '5A14_1_A', '1A2C_1_L', '1A2C_3_I', '2A25_2_B', '2A2V_1_A', '2A2X_1_L', '2A2X_3_P', '3A2H_2_B', '4A2A_2_C', '4A2F_1_A', '5A29_2_B', '5A2M_2_I', '5A2M_3_L', '5A2P_2_E', '5A2Q_36_h', '5A2Q_37_r', '5A2Q_38_w', '1A30_2_C', '1A3B_1_L', '1A3B_3_I', '1A3E_1_L', '1A3E_3_I', '1A3R_3_P', '2A3G_1_A', '2A3G_2_B', '2A3I_2_B', '2A3Z_3_C', '5A31_1_A', '5A31_13_N', '5A31_15_Q', '5A31_17_T', '5A31_18_U', '5A31_19_V', '5A3Q_1_A', '5A3S_1_A', '1A46_1_L', '1A46_3_I', '1A48_1_A', '1A4T_2_B', '1A4W_1_L', '1A4W_3_I', '2A40_3_C', '2A41_3_C', '2A45_1_A', '2A4G_2_B', '2A4J_2_B', '2A4Q_2_B', '2A4R_2_B', '4A4B_2_B', '4A4C_2_B', '4A4M_1_A', '4A4M_2_B', '5A4H_1_A', '1A5G_1_L', '1A5G_3_I', '1A5H_1_C', '2A51_1_A', '4A5X_2_C', '5A53_2_B', '5A5U_1_A', '1A61_1_L', '1A61_3_I', '1A6A_3_C', '2A6D_3_P', '2A6I_3_P', '3A6P_2_B', '4A62_2_C', '5A6E_1_A', '5A6E_4_D', '5A6F_2_D', '5A6G_1_A', '5A6U_2_B', '1A75_2_B', '1A7C_2_B', '1A7F_1_A', '1A7F_2_B', '3BBX_30_4', '4BB2_2_B', '1BC5_2_T', '1BCC_9_I', '1BCK_2_C', '1BCU_1_L', '1BCU_3_I', '1BCV_1_A', '2BC7_1_A', '2BC8_1_A', '2BCC_9_I', '2BCJ_2_B', '2BCX_2_B', '3BCC_9_I', '3BCN_1_A', '1BD2_3_C', '1BDE_1_A', '1BDK_1_A', '1BDU_1_A', '1BDW_1_A', '2BD3_1_P', '2BDY_2_B', '4BD2_2_C', '4BD3_2_B', '4BD6_2_C', '1BE9_2_B', '1BEI_1_A', '1BEN_1_A', '1BEN_2_B', '2BE6_2_D', '2BEQ_1_A', '2BEQ_2_D', '2BEY_1_A', '3BEJ_2_E', '3BEV_3_C', '3BEW_3_C', '4BEA_2_B', '4BEY_1_A', '4BEY_2_B', '4BEZ_1_A', '1BFW_1_A', '2BF9_1_A', '3BF6_1_L', '3BF6_3_I', '3BFN_1_A', '3BFQ_2_F', '3BFW_2_B', '4BFH_1_A', '1BGK_1_A', '3BG4_1_A', '3BGM_3_C', '1BH0_1_A', '1BH1_1_A', '1BH4_1_A', '1BH7_1_A', '1BHI_1_A', '1BHO_1_1', '1BHX_1_A', '4OKF_1_A', '4OKT_2_B', '4OKW_2_B', '4OKX_2_B', '1OLA_2_B', '1OLC_2_B', '2OLB_2_B', '2OLP_1_A', '2OLY_1_A', '2OLY_2_B', '2OLZ_1_A', '2OLZ_2_B', '3OLF_2_B', '3OLL_2_C', '3OLR_2_E', '3OLS_2_C', '4OLM_2_B', '4OLR_1_A', '1OM2_2_B', '1OM9_2_P', '1OMC_1_A', '1OMG_1_A', '1OMN_1_A', '1OMQ_1_A', '2OM0_1_A', '2OM0_2_B', '2OM1_1_A', '2OM1_2_B', '2OM2_2_B', '2OMG_1_A', '2OMG_2_B', '2OMH_1_A', '2OMH_2_B', '2OMI_1_A', '2OMI_2_B', '2OMK_1_A', '2OMP_1_A', '2OMQ_1_A', '3OMG_2_C', '3OMH_2_E', '3OMK_2_B', '3OMM_2_B', '3OMO_2_C', '3OMP_2_C', '3OMQ_2_C', '4OMC_2_H', '4OMD_2_H', '1ONT_1_A', '1ONU_1_A', '2ONA_1_A', '3ONW_2_C', '4ONF_3_P', '4ONI_2_C', '4ONK_1_A', '1OO4_2_B', '1OOK_1_A', '1OOK_3_P', '2OON_1_A', '2OOP_1_A', '3OOF_2_B', '3OOG_2_B', '3OOK_2_B', '4OO6_2_B', '1OPI_2_B', '1OPP_1_A', '2OP7_1_A', '2OPZ_2_E', '3OP0_2_C', '3OPB_1_A', '4OP6_1_A', '4OP9_1_A', '1OQD_2_K', '1OQE_2_K', '1OQN_2_C', '1OQO_2_C', '1OQP_2_B', '1OQX_2_C', '2OQ1_2_B', '2OQ6_2_C', '2OQ9_1_A', '2OQJ_3_C', '2OQS_2_B', '3OQY_1_b', '3OQZ_1_a', '4OQC_1_A', '1ORX_1_A', '2OR9_3_P', '2ORU_1_A', '3OR0_1_a', '4ORE_2_A', '1OS3_1_A', '1OS3_2_B', '1OS4_1_A', '1OS4_2_B', '1OSG_2_G', '1OSV_2_C', '1OSY_1_A', '2OS2_2_C', '2OS6_2_B', '2OSL_3_P', '3OS5_2_B', '3OSZ_2_B', '4OS1_2_B', '4OS2_2_B', '4OS4_2_B', '4OS5_2_B', '4OS6_2_B', '4OS7_2_B', '1OT0_1_A', '1OT7_2_C', '2OT7_2_C', '2OT8_2_C', '2OTQ_1_A', '2OTU_3_P', '2OTW_3_E', '3OTO_21_U', '3OTS_2_P', '3OTY_2_P', '4OTS_1_A', '1OU8_2_C', '1OUT_1_A', '1OUU_1_A', '3OU0_2_B', '3OU0_3_C', '3OU4_3_C', '3OUA_2_P', '3OUB_2_P', '3OUC_2_P', '4OU3_2_B', '4OUC_2_B', '4OUD_2_B', '4OUR_2_B', '1OV3_2_C', '1OVA_1_A', '1OVA_2_B', '1OVA_3_C', '1OVF_2_B', '1OVR_1_A', '1OVU_1_A', '1OVV_1_A', '2OV2_2_I', '2OVC_1_A', '2OVH_2_B', '2OVM_2_B', '2OVN_1_A', '2OVQ_3_C', '2OVR_3_C', '3OVJ_1_A', '3OVV_2_B', '4OV5_3_C', '1OW6_2_D', '1OW7_2_D', '1OW8_2_D', '3OW3_2_B', '3OW4_2_C', '3OW9_1_A', '3OWP_2_B', '3OWT_2_C', '4OWF_2_G', '4OWI_1_A', '1OX1_2_B', '1OX9_2_I', '1OXG_2_B', '1OXN_2_F', '1OXQ_2_F', '2OX0_2_C', '2OX2_1_A', '2OXJ_1_A', '2OXK_1_A', '2OXW_2_X', '2OXZ_3_X', '3OX7_2_P', '3OX8_3_C', '3OXR_3_C', '3OXS_3_C', '3OXT_2_B', '4OX9_21_V', '4OXM_1_A', '1OY7_2_F', '1OYT_1_L', '2OY2_2_W', '2OYH_4_G', '2OYV_1_A', '2OYW_1_A', '3OY5_2_P', '3OY6_2_P', '3OYP_2_C', '4OYA_1_A', '4OYB_1_A', '4OYI_1_A', '4OYK_2_C', '4OYL_1_A', '4OYM_1_A', '4OYO_1_A', '4OYP_1_A', '4OYW_1_A', '4OYX_1_A', '4OYZ_1_A', '1OZB_2_I', '1OZS_2_B', '3OZJ_2_B', '4OZ1_2_C', '4OZ2_1_A', '4OZ3_1_A', '4OZ7_1_A', '4OZA_1_A', '4OZB_1_A', '4OZC_1_A', '4OZF_5_J', '4OZG_5_I', '1P02_2_P', '1P03_2_P', '1P04_2_P', '1P05_2_P', '1P06_2_P', '1P0G_1_A', '1P0J_1_A', '1P0L_1_A', '1P0O_1_A', '2P0R_2_D', '2P0W_2_P', '3P0M_2_B', '4P00_3_D', '4P02_3_D', '1P10_2_P', '1P11_2_P', '1P11_3_I', '1P12_2_I', '1P16_2_C', '1P1P_1_A', '2P15_2_C', '2P1L_2_B', '2P1N_3_C', '2P1O_3_C', '2P1Q_3_C', '2P1T_2_B', '2P1U_2_B', '2P1V_2_B', '3P17_1_L', '3P17_3_I', '4P1W_1_A', '4P1W_4_G', '1P22_3_C', '1P23_1_A', '2P2T_2_C', '3P2X_1_A', '3P2X_2_B', '3P2Z_2_B', '4P2O_5_P', '4P2Q_3_C', '4P2R_3_C', '3P33_1_A', '3P33_2_B', '3P34_2_B', '3P35_2_D', '3P36_2_B', '3P37_2_E', '3P3N_2_B', '3P3P_2_B', '4P3C_3_M', '4P3D_3_C', '4P3W_2_G', '1P4B_3_P', '1P4U_2_B', '2P4R_2_T', '3P4F_2_B', '3P4F_3_C', '3P4K_2_P', '3P4U_3_E', '4P4S_1_A', '4P4V_1_A', '4P4W_1_A', '4P4X_1_A', '4P4Y_1_A', '4P4Z_1_A', '1P5A_1_A', '1P5K_1_A', '1P5L_1_A', '2P54_2_B', '2P59_2_C', '2P5B_2_I', '2P5E_3_C', '2P5H_1_A', '2P5J_1_A', '2P5T_1_X', '2P5W_3_C', '4P5H_1_1', '4P5O_4_I', '2P6B_1_E', '3P6Z_1_A', '4P65_1_A', '4P65_2_B', '4P67_1_A', '4P6J_1_A', '4P6K_1_A', '4P6L_1_A', '4P6W_2_B', '4P6X_2_B', '4P6Z_6_T', '1P7A_1_A', '1P7Q_3_C', '1P7V_2_B', '1P7W_2_B', '2P7R_1_A', '3P70_1_A', '3P72_2_B', '3P7O_2_B', '3P7O_3_C', '1P82_1_A', '1P83_1_A', '1P8B_1_A', '1P8D_2_C', '1P8J_2_J', '1P8V_2_B', '2P8L_3_C', '2P8M_3_C', '2P8O_1_A', '2P8P_3_C', '2P8W_2_S', '2P8X_2_S', '2P8Z_2_S', '3P87_2_G', '3P88_2_B', '3P89_2_B', '3P8F_2_I', '3P8N_2_C', '3P8O_2_C', '1P93_2_E', '1P9F_1_A', '1P9I_1_A', '1P9U_2_G', '3P9F_1_A', '3P9G_2_B', '3P9H_2_B', '3P9O_1_A', '3P9Y_2_E', '1PAA_1_A', '1PAD_2_I', '1PAE_1_X', '1PAJ_1_A', '1PAK_1_A', '1PAL_1_A', '1PAN_1_A', '1PAO_1_A', '1PAU_3_C', '2PAL_1_A', '2PAS_1_A', '3PAL_1_A', '3PAT_1_A', '4PAL_1_A', '5PAD_2_I', '9PAI_2_B', '1PB5_1_A', '1PBX_1_A', '1PBZ_1_A', '2PBK_2_C', '3PBJ_1_A', '3PBP_3_C', '4PBU_6_F', '4PBU_8_I', '4PBU_10_K', '4PBU_11_L', '4PBU_12_M', '4PBU_14_T', '4PBU_17_Y', '4PBU_18_X', '4PBY_2_C', '4PBZ_2_B', '1PCG_2_E', '1PCX_2_B', '2PCO_1_A', '2PCU_2_B', '3PCQ_7_I', '3PCQ_11_M', '3PCQ_12_X', '3PCS_2_E', '3PCU_2_B', '3PCX_2_B', '1PD0_2_B', '1PD1_2_B', '1PD7_2_B', '1PDQ_2_B', '1PDY_1_A', '1PDZ_1_A', '2PDZ_2_B', '3PD0_2_B', '3PD1_2_B', '3PDH_2_D', '3PDO_3_C', '4PD1_2_C', '1PEF_1_A', '1PEG_2_P', '1PEH_1_A', '1PEI_1_A', '1PEN_1_A', '1PES_1_A', '1PET_1_A', '2PED_1_A', '2PEG_1_A', '2PEH_2_C', '3PE4_2_B', '4PES_2_C', '1PFB_2_B', '1PFG_2_B', '1PFP_1_A', '2PFF_1_A', '2PFF_2_B', '2PFF_3_C', '3PFV_2_C', '1PG1_1_A', '2PG1_3_I', '2PGB_1_A', '2PGK_1_A', '3PGA_1_1', '3PGC_3_C', '3PGD_3_C', '3PGK_1_A', '4PG2_3_D', '4PG9_3_C', '4PGB_3_C', '4PGC_4_H', '4PGD_3_C', '2PHE_2_C', '2PHG_2_B', '2PHK_2_B', '3PHA_1_A', '4PHZ_1_D', '1PI7_1_A', '1PI8_1_A', '1PIC_2_B', '1PID_1_A', '1PID_2_B', '1PIQ_1_A', '1PIV_1_0', '3PI1_1_A', '3PI2_1_A', '3PI3_1_A', '3PI4_1_A', '3PIE_1_A', '3PIF_1_A', '3PIO_30_4', '3PIP_30_4', '4PI0_1_D', '4PI2_1_D', '4PID_2_B', '4PIE_2_B', '4PIQ_2_B', '4PIS_2_B', '1PJD_1_A', '1PJE_1_A', '1PJM_1_A', '1PJN_1_A', '1PJP_2_I', '1PJV_1_A', '2PJV_1_A', '3PJK_1_A', '4PJ0_8_I', '4PJ0_11_L', '4PJ0_12_M', '4PJ0_14_T', '4PJZ_1_B', '2PKL_2_B', '2PKS_1_A', '2PKS_4_D', '2PKU_2_B', '3PK1_2_B', '3PK3_1_A', '3PK4_1_A', '3PK5_1_A', '3PK6_1_A', '3PK8_1_A', '3PKF_1_A', '3PKG_1_A', '3PKH_1_A', '3PKK_1_A', '3PKL_1_A', '3PKN_2_B', '3PKS_1_A', '3PKT_1_A', '3PKU_1_A', '4PK0_1_B', '1PLP_1_A', '1PLW_1_A', '1PLX_1_A', '2PL9_2_D', '2PLD_2_B', '2PLE_2_B', '2PLX_2_B', '2PLZ_1_A', '3PL7_2_C', '3PLE_1_A', '3PLG_1_A', '3PLH_1_A', '3PLI_1_A', '3PLJ_1_A', '3PLM_1_A', '3PLU_2_C', '3PLV_2_C', '3PLX_1_A', '3PLX_2_B', '3PLZ_2_C', '4PLD_2_B', '4PLE_2_B', '1PMC_1_A', '1PMX_2_B', '2PM1_1_A', '2PM4_1_A', '2PM5_1_A', '2PMC_2_E', '3PMA_1_A', '3PMB_1_A', '3PMH_1_A', '3PMP_2_C', '1PN3_2_C', '1PNB_1_A', '1PNE_1_A', '1PNH_1_A', '1PNV_2_C', '2PNX_2_B', '4PN1_2_E', '4PN8_1_A', '4PN9_1_A', '4PNA_1_A', '4PNB_1_A', '4PND_1_A', '1PO1_1_0', '1PO2_1_0', '1PON_1_A', '1PON_2_B', '1POP_2_B', '2PO8_1_A', '2PON_1_A', '2POY_2_T', '3PO1_1_A', '3PO1_4_D', '3POO_2_B', '4PO2_2_C', '4PO6_2_B', '4PO7_2_N', '4POE_1_A', '4POH_2_B', '4POJ_2_B', '1PP5_1_A', '1PPB_1_L', '1PPE_2_I', '1PPG_2_I', '1PPT_1_A', '2PPZ_1_A', '3PP4_3_P', '4PP3_2_B', '4PP5_2_B', '4PP6_2_C', '4PPP_2_C', '4PPS_2_C', '1PQ1_2_B', '1PQR_1_A', '2PQ2_2_B', '2PQ4_2_B', '2PQK_2_B', '2PQT_1_A', '3PQ1_1_A', '3PQR_2_B', '3PQY_3_C', '3PQZ_2_L', '1PRW_1_A', '2PR9_2_P', '3PRK_2_I', '4PR5_3_C', '4PR8_1_A', '4PRA_3_C', '4PRB_3_C', '4PRD_3_C', '4PRE_3_C', '4PRH_3_C', '4PRI_3_C', '4PRN_3_C', '4PRP_3_C', '4PRY_2_B', '4PRZ_2_B', '1PSB_2_C', '1PSM_1_A', '1PSO_2_I', '1PSV_1_A', '2PSX_2_B', '2PSY_2_B', '3PSL_2_C', '4PS0_2_C', '4PS1_2_E', '4PSI_2_D', '4PSW_3_C', '1PT4_1_A', '1PTU_2_B', '2PTA_1_A', '3PT7_1_A', '3PT8_1_A', '3PTH_2_B', '1PU9_2_B', '1PUA_2_B', '2PUQ_4_I', '2PUX_3_C', '2PUY_2_E', '3PUJ_2_C', '3PUK_2_C', '4PUV_1_A', '1PVA_1_A', '1PVB_1_A', '1PVC_1_0', '1PVZ_1_A', '2PV2_2_E', '2PV3_2_C', '2PV6_1_A', '2PV9_3_C', '2PVB_1_A', '2PVC_2_D', '3PV3_2_E', '4PV1_5_E', '4PV1_6_F', '4PV1_7_G', '4PV1_8_H', '1PWV_2_C', '1PWW_2_C', '2PW1_3_C', '2PW2_3_C', '2PW8_1_L', '3PWP_3_C', '1PXD_2_B', '1PXQ_1_A', '3PXE_2_E', '4PXF_2_B', '4PXM_2_C', '1PYA_2_B', '1PYH_1_A', '1PYH_2_B', '1PYH_3_C', '1PYH_4_D', '1PYH_5_E', '1PYO_3_E', '1PYZ_1_A', '2PYE_3_C', '4PYU_2_C', '4PYW_2_B', '1PZ5_3_C', '1PZL_2_B', '3PZD_2_B', '3PZZ_1_A', '4PZ5_2_B', '4PZ8_2_B', '1Q01_1_A', '1Q0E_1_A', '1Q0W_1_A', '1Q0Y_2_H', '2Q0N_2_B', '4Q0A_2_D', '4Q0X_3_E', '1Q1A_2_B', '1Q1J_3_P', '1Q1T_1_A', '3Q1I_2_E', '4Q13_2_C', '1Q24_2_I', '1Q2C_2_B', '1Q2D_2_B', '1Q2F_1_A', '1Q2I_1_A', '1Q2J_1_A', '1Q2K_1_A', '1Q3J_1_A', '1Q3L_2_P', '1Q3P_2_C', '2Q33_1_A', '2Q33_2_B', '2Q3I_1_A', '2Q3I_2_D', '2Q3Y_2_B', '2Q3Z_2_X', '1Q4K_2_D', '1Q4Q_2_K', '1Q4V_1_A', '1Q4V_2_B', '3Q47_2_C', '3Q49_2_C', '3Q4A_2_C', '1Q5W_1_A', '2Q5A_2_B', '2Q5U_1_A', '4Q5J_2_F', '4Q5U_2_C', '4Q5Z_4_a', '1Q61_2_I', '1Q62_2_I', '1Q68_1_A', '1Q68_2_B', '1Q69_1_A', '1Q69_2_B', '2Q6F_2_D', '2Q6G_2_C', '2Q6J_2_C', '2Q6W_3_C', '3Q6E_1_A', '3Q6E_2_B', '3Q6S_2_E', '3Q6U_1_A', '4Q6F_2_F', '4Q6H_2_B', '4Q6S_2_C', '1Q71_1_A', '2Q7C_1_A', '2Q7I_2_B', '2Q7J_2_B', '2Q7K_2_B', '2Q7L_2_B', '3Q78_3_D', '3Q79_3_P', '4Q7R_1_A', '4Q7T_1_A', '4Q7U_1_A', '3BHB_3_C', '4BH7_3_P', '4BH8_3_P', '1BI6_1_L', '1BID_1_A', '1BIG_1_A', '1BII_3_P', '1BIV_2_B', '2BI6_1_L', '3BIM_2_I', '3BIN_2_B', '3BIU_1_L', '3BIU_3_I', '3BIV_1_L', '3BIV_3_I', '1BJB_1_A', '1BJC_1_A', '1BJR_2_I', '2BJ4_3_C', '4BJ5_3_D', '4BJ6_3_D', '4BJT_2_D', '1BKT_1_A', '1BKU_1_A', '3BKD_1_A', '3BKJ_3_A', '3BKY_3_P', '4BKC_1_A', '4BKD_1_A', '1BL1_1_A', '1BLL_1_E', '2BL6_1_A', '3BL2_2_C', '4BL0_3_C', '4BLB_2_E', '4BLD_2_E', '1BM2_2_L', '1BM4_1_A', '1BMB_2_I', '1BMM_1_L', '1BMM_3_I', '1BMN_1_L', '1BMN_3_I', '1BMR_1_A', '1BMX_1_A', '2BMT_1_A', '4BMF_1_A', '1BNB_1_A', '1BNX_1_A', '2BN1_1_A', '2BN1_2_B', '2BN3_1_A', '2BN3_2_B', '2BN5_1_A', '2BN5_2_B', '2BN6_1_A', '2BNH_1_A', '2BNI_1_A', '2BNQ_3_C', '2BNR_3_C', '1Q8T_2_B', '1Q8U_2_B', '1Q8W_2_B', '2Q8C_2_F', '2Q8E_2_F', '2Q8Y_2_B', '3Q8J_1_A', '4Q82_1_A', '4Q8D_1_A', '1Q90_6_G', '1Q90_7_L', '1Q90_8_M', '1Q90_9_N', '2Q9I_4_S', '2Q9I_5_M', '3Q95_3_C', '3Q97_3_C', '3Q9H_1_A', '3Q9I_1_A', '3Q9J_1_A', '4Q94_2_C', '4Q96_2_C', '1QA4_1_A', '1QA5_1_A', '2QA6_2_C', '2QA8_3_C', '2QA9_2_I', '2QAB_2_C', '2QAC_2_T', '2QAS_2_B', '3QAL_2_I', '3QAM_2_I', '4QAE_1_P', '1QBF_1_A', '1QBV_1_L', '1QBV_3_E', '2QBW_2_B', '2QBX_2_D', '3QBR_2_B', '3QBY_2_H', '4QBM_2_C', '4QBQ_2_P', '4QBR_2_P', '4QBS_2_P', '1QCM_1_A', '4QC1_2_D', '4QC3_2_C', '1QD6_1_A', '1QD8_1_A', '1QDU_3_T', '3QDG_3_C', '3QDJ_3_C', '3QDM_3_C', '3QDS_1_A', '3QDT_1_A', '3QDU_1_A', '3QDV_1_A', '3QDW_1_A', '3QDX_1_A', '3QDY_1_A', '3QDZ_1_A', '3QDZ_3_E', '4QDO_1_A', '4QDU_1_A', '1QEW_3_C', '1QEY_1_A', '3QE0_2_G', '3QEQ_3_C', '4QE6_2_B', '4QE8_2_C', '1QFA_1_A', '1QFB_1_A', '1QFD_1_A', '1QFI_1_A', '1QFN_2_B', '1QFQ_2_B', '3QFJ_3_C', '4QFQ_2_B', '1QG1_2_I', '1QG9_1_A', '1QGC_6_5', '1QGM_1_A', '1QGR_2_B', '2QGT_2_C', '2QGW_2_C', '3QG6_3_C', '3QGJ_2_B', '3QGL_2_F', '3QGN_1_A', '1QH2_1_A', '1QH2_2_B', '1QHD_1_A', '1QHR_1_A', '1QHR_3_I', '2QH6_2_C', '2QHR_3_P', '4QH7_2_C', '4QH8_2_C', '4QH8_3_D', '1QIX_1_A', '1QIY_1_A', '1QIY_2_B', '1QIZ_1_A', '1QIZ_2_B', '2QIC_2_B', '2QIU_1_A', '2QIU_2_B', '3QI2_2_C', '3QIB_5_P', '3QIS_2_B', '3QIU_5_E', '3QIW_5_E', '1QJ0_1_A', '1QJ0_2_B', '1QJ1_1_A', '1QJ1_3_I', '1QJ6_1_A', '1QJ6_3_I', '1QJ7_1_A', '1QJ7_3_I', '1QJA_2_Q', '1QJB_2_Q', '1QJJ_2_B', '1QJK_1_A', '1QJL_1_A', '3QJ6_2_T', '3QJM_2_C', '3QJN_2_I', '3QJQ_3_C', '3QJR_3_C', '3QJS_3_C', '3QJT_3_C', '3QJU_3_C', '3QJV_3_C', '4QJ2_2_F', '4QJ6_2_E', '4QJ7_2_F', '4QJ8_2_E', '4QJ9_2_G', '4QJA_2_P', '4QJR_2_B', '1QK6_1_A', '1QK7_1_A', '1QKA_2_B', '1QKB_2_B', '1QKY_1_A', '1QKZ_4_P', '2QKI_4_G', '3QKK_2_C', '3QKL_2_C', '3QKR_3_C', '3QKS_3_C', '3QKU_2_C', '4QK4_2_B', '4QK7_1_A', '4QKC_1_A', '4QKL_1_A', '4QKM_1_A', '1QLF_3_C', '1QLO_1_A', '1QLS_2_D', '2QL5_3_E', '2QL7_3_E', '2QL9_3_E', '2QLB_3_E', '2QLF_3_E', '2QLJ_3_E', '3QL9_2_C', '3QLA_2_C', '3QLC_2_C', '3QLP_2_L', '4QLB_2_G', '4QLI_2_B', '1QMW_1_A', '2QME_2_I', '3QM5_1_A', '3QM6_1_A', '3QM7_1_A', '3QM8_1_A', '3QM9_1_A', '3QMA_1_A', '1QNG_2_D', '1QNH_2_C', '1QNZ_3_P', '2QN6_3_C', '3QN7_2_B', '3QNJ_2_C', '3QNW_3_X', '4QNZ_2_B', '1QO3_4_P', '1QOW_1_A', '2QOS_2_A', '3QO2_2_P', '3QO6_2_D', '3QO6_3_E', '3QO6_4_F', '3QO6_5_G', '4QO0_2_F', '4QO2_2_B', '4QOK_3_C', '1QP6_1_A', '2QPD_3_C', '2QPE_3_C', '2QPY_2_B', '3QPA_1_A', '3QPC_1_A', '4QPP_2_D', '1QQD_3_C', '2QQF_2_B', '2QQG_2_B', '2QQH_1_A', '3QQD_1_A', '3QQD_2_B', '4QQ4_2_C', '4QQI_2_X', '1QR1_3_C', '1QR3_2_I', '1QRN_3_C', '2QR9_2_C', '3QRX_2_B', '4QRP_3_C', '4QRQ_3_C', '4QRS_3_C', '4QRT_3_C', '4QRU_3_C', '1QS3_1_A', '1QS7_2_B', '1QS8_2_C', '1QSC_2_D', '1QSE_3_C', '1QSF_3_C', '2QSC_3_P', '2QSE_2_C', '4QSY_2_B', '1QTJ_1_A', '1QTN_3_C', '1QTX_2_B', '2QT5_2_X', '3QT0_2_C', '3QTE_1_A', '3QTO_1_L', '3QTO_3_I', '3QTV_1_L', '3QTV_3_I', '4QT7_2_B', '4QTX_2_E', '4QTY_2_F', '1QUR_1_L', '1QUR_3_I', '1QUZ_1_A', '2QUR_2_B', '3QUK_3_C', '3QUL_3_C', '4QU0_2_E', '4QU5_2_B', '4QU8_2_F', '4QU9_2_E', '4QUA_2_D', '4QUB_2_D', '4QUD_2_D', '4QUE_2_H', '4QUF_2_P', '4QUG_2_D', '4QUH_2_D', '4QUH_3_I', '4QUI_2_D', '4QUJ_2_F', '4QUL_2_G', '1QVK_1_A', '1QVL_1_A', '1QVO_3_C', '2QV1_2_C', '4QVE_2_B', '4QVF_2_B', '1QWE_2_B', '1QWF_2_B', '1QWP_1_A', '3QWC_1_L', '3QWC_3_I', '4QWN_3_E', '1QX9_1_A', '1QXC_1_A', '1QXQ_1_A', '2QXM_2_C', '2QXV_2_B', '3QX5_1_L', '3QX5_3_I', '3QXA_3_C', '3QXD_3_F', '4QX7_3_E', '4QX8_3_E', '4QXB_3_E', '4QXC_3_E', '4QXH_3_E', '4QXT_3_Q', '4QXU_3_K', '1QYT_1_A', '2QYF_3_E', '4QY8_3_Q', '4QYD_2_B', '4QYL_2_E', '4QYO_3_Q', '2QZO_3_C', '2QZX_2_C', '3QZV_2_C', '3QZW_3_C', '1R02_1_A', '2R02_2_B', '2R03_2_B', '2R05_2_B', '2R0L_4_B', '2R0W_3_Q', '2R0Z_3_Q', '3R0H_2_a', '3R0L_1_A', '3R0L_2_B', '4R0R_1_A', '1R17_2_C', '1R1F_1_A', '1R1G_1_A', '1R1L_2_C', '1R1L_3_D', '1R1P_2_E', '1R1Q_2_C', '1R1R_2_D', '1R1S_2_B', '2R1H_1_A', '2R1R_2_D', '3R1R_2_D', '4R1E_2_B', '4R1R_2_D', '5R1R_2_D', '6R1R_2_D', '7R1R_2_D', '1R2B_2_C', '2R28_2_C', '2R2M_1_A', '2R2M_3_H', '2R2V_1_A', '3R29_2_C', '3R2A_2_E', '2R34_1_A', '2R34_2_B', '2R35_1_A', '2R35_2_B', '2R36_1_A', '2R36_2_B', '2R3C_1_A', '2R3F_1_A', '2R3G_1_A', '2R3H_1_A', '2R3I_1_A', '2R3J_1_A', '2R3K_1_A', '2R3L_1_A', '2R3M_1_A', '2R3N_1_A', '2R3O_1_A', '2R3P_1_A', '2R3Q_1_A', '2R3R_1_A', '2R3Y_2_D', '3R3G_1_A', '3R3K_1_A', '4R32_2_B', '4R3P_2_B', '4R3R_2_B', '4R3S_3_Q', '1R42_2_B', '1R42_3_C', '1R42_4_D', '1R42_5_E', '1R48_1_A', '1R4L_2_B', '1R4L_3_C', '1R4L_4_D', '1R4L_5_E', '3R42_2_B', '3R46_1_A', '3R47_1_A', '3R48_1_A', '3R48_2_B', '3R4A_1_A', '3R4H_1_A', '4R4F_4_R', '4R4N_2_a', '1R5I_3_C', '1R5U_11_M', '1R5V_2_E', '1R5W_3_E', '2R5B_1_A', '2R5D_1_A', '3R5J_3_F', '3R5M_2_B', '4R5I_2_B', '1R64_2_C', '3R6G_3_F', '3R6L_3_F', '4R6N_2_B', '4R6O_2_B', '4R6P_2_B', '4R6Q_2_B', '4R6R_2_B', '1R7C_1_A', '1R7D_1_A', '1R7E_1_A', '1R7F_1_A', '1R7G_1_A', '2R7G_2_B', '3R7B_3_F', '3R7G_2_B', '3R7N_3_F', '4R7A_1_A', '4R7Z_1_A', '1R8T_1_A', '3R85_2_E', '4R8M_2_C', '4R8T_1_A', '1R9I_1_A', '1R9U_1_A', '1R9V_1_A', '2R9B_2_C', '2R9Q_2_X', '2R9Q_3_Y', '3R93_2_E', '3R9I_2_E', '3RA3_1_A', '3RA3_2_B', '4RAV_3_E', '1RB4_1_A', '1RB5_1_A', '1RB6_1_A', '1RB8_3_J', '1RBC_1_S', '1RBD_1_S', '1RBE_1_S', '1RBF_1_S', '1RBG_1_S', '1RBH_1_S', '1RBI_1_S', '3RBQ_2_G', '4RBW_1_A', '4RBX_1_A', '3RC0_2_P', '3RC4_2_B', '3RC5_2_B', '3RCE_2_B', '1RD3_1_A', '1RDQ_2_I', '1RDT_2_B', '1RDT_4_E', '2RDD_2_B', '2RDL_2_I', '3RDV_2_E', '1RE3_4_G', '2REM_2_T', '1RF1_4_G', '1RF3_2_B', '1RFF_3_C', '1RFO_1_A', '2RFD_2_C', '2RFI_2_P', '3RF3_2_C', '3RFR_2_D', '4RFN_4_M', '4RFO_2_N', '4RFW_2_G', '1RG3_1_A', '1RG4_1_A', '1RGJ_2_B', '1RGQ_2_C', '1RGR_2_B', '1RH4_1_A', '1RHK_3_C', '4RH9_2_B', '1RIJ_1_A', '1RIK_1_A', '1RIM_1_A', '1RIW_1_A', '1RIW_4_D', '2RI7_2_P', '3RIG_2_C', '3RIY_2_C', '4RIQ_2_C', '4RIS_1_P', '1RJI_1_A', '1RJK_2_C', '1RJL_4_D', '1RJU_1_V', '2RJE_2_P', '2RJF_2_B', '3RJ1_2_B', '3RJM_3_E', '4RJF_2_B', '1RK3_2_C', '1RKC_2_B', '1RKG_2_C', '1RKH_2_C', '1RKK_1_A', '1RKL_1_A', '2RKY_2_B', '2RKZ_2_M', '3RK2_1_A', '3RK3_1_A', '4RKJ_1_A', '4RKU_9_I', '1RLP_2_R', '2RL0_2_G', '2RLG_1_A', '2RLH_1_A', '2RLJ_1_A', '2RLK_1_A', '2RLL_1_A', '2RLN_1_S', '2RLW_1_A', '2RLY_1_W', '3RL0_1_A', '3RL1_3_C', '3RL2_3_C', '3RL7_2_G', '3RL8_2_F', '3RLW_1_L', '3RLW_3_I', '3RLY_1_L', '3RLY_3_I', '6RLX_1_A', '6RLX_2_B', '1RMH_2_C', '1RMK_1_A', '1RMM_1_A', '1RMO_1_A', '1RMP_1_A', '1RMV_2_A', '2RM0_1_W', '2RM9_1_A', '2RMA_2_B', '2RMB_2_B', '2RMC_2_B', '2RMD_1_A', '2RME_1_A', '2RMG_1_A', '2RMH_1_A', '2RMI_1_A', '2RMV_1_A', '2RMW_1_A', '2RMX_2_B', '2RMY_1_A', '3RM0_1_L', '3RM0_3_I', '3RM1_2_B', '3RM2_1_L', '3RM2_3_I', '3RML_1_L', '3RML_3_I', '3RMM_1_L', '3RMM_3_I', '3RMN_1_L', '3RMN_3_I', '3RMO_1_L', '3RMO_3_I', '4RMC_2_B', '4RMD_2_B', '4RME_2_B', '2RN5_1_A', '2RN5_2_B', '2RND_1_A', '2RNW_2_B', '2RNX_2_B', '2RNY_2_B', '1RON_1_A', '1ROO_1_A', '2ROC_2_B', '2ROD_2_B', '2ROL_2_B', '2ROR_2_B', '2ROZ_1_A', '3RO2_2_B', '3RO3_2_B', '3ROF_2_B', '3ROV_1_A', '3ROV_2_B', '4ROF_2_C', '4ROJ_2_D', '1RPB_1_A', '1RPC_1_A', '1RPQ_2_W', '1RPV_1_A', '2RPN_2_B', '2RPS_1_A', '2RPW_1_X', '4RPP_1_A', '1RQQ_3_E', '1RQT_1_A', '2RQ2_1_A', '2RQG_1_A', '2RQH_1_A', '2RQU_2_B', '2RQW_2_B', '2RQZ_1_A', '3RQ7_2_B', '3RQE_2_E', '3RQF_2_E', '3RQG_2_E', '3RQR_2_U', '4RQI_2_E', '1RRV_2_C', '2RR0_1_A', '2RR2_1_A', '2RR4_2_B', '2RRH_1_A', '2RRI_1_A', '2RRS_1_A', '3RRB_2_B', '3RRE_2_B', '3RRF_2_B', '3RRJ_2_B', '4RRV_2_B', '1RST_2_P', '1RSU_2_P', '1RSW_1_A', '1RSX_1_A', '2RS9_1_A', '2RSH_1_A', '2RSK_2_C', '2RSN_2_B', '2RSW_1_A', '2RSY_2_B', '3RS8_2_B', '3RS9_2_B', '3RSF_2_B', '3RSG_2_B', '3RSQ_2_B', '3RSS_2_B', '4RS9_2_B', '4RSE_1_A', '4RSP_2_B', '1RT0_1_A', '1RTF_1_A', '1RTL_2_C', '2RT4_1_A', '2RTV_1_A', '2RTY_1_A', '2RTZ_1_A', '3RT7_2_B', '3RT9_2_B', '3RTA_2_B', '3RTB_2_B', '3RTC_2_B', '3RTD_2_B', '3RTE_2_B', '3RTG_2_B', '3RTO_1_A', '3RTO_2_B', '3RTX_2_C', '4RT4_2_E', '5BN0_1_C', '5BN0_2_N', '5BN0_3_A', '5BN6_1_A', '5BNU_2_C', '1BOG_3_C', '1BOM_1_A', '1BOM_2_B', '1BON_1_A', '1BON_2_B', '3BO0_7_C', '3BO1_7_C', '3BO7_2_E', '3BOM_1_A', '3BOO_2_B', '4BOH_2_B', '4BOS_3_F', '5BOQ_1_A', '5BOQ_2_B', '1BPH_1_A', '1BPH_2_B', '2BP3_2_S', '2BP4_1_A', '2BP5_2_P', '2BPA_4_3', '2BPT_2_B', '3BP2_1_A', '3BPM_2_D', '4BPI_2_B', '4BPJ_2_D', '4BPK_2_C', '4BPL_2_B', '4BPQ_1_A', '5BP6_2_C', '5BPO_1_A', '5BPO_2_B', '5BPR_2_C', '1BQF_1_A', '2BQZ_2_B', '3BQD_2_B', '3BQO_2_B', '4BQD_2_C', '5BQ4_2_C', '5BQQ_1_A', '5BQQ_2_B', '1BR8_2_P', '1BRV_1_A', '2BR8_2_F', '2BRQ_2_C', '2BRR_3_P', '3BRD_4_D', '3BRF_4_D', '3BRH_2_C', '3BRL_2_C', '5BR8_12_L', '5BR8_21_U', '5BRM_2_G', '1BS6_2_D', '1BS8_2_D', '1BSX_2_X', '1RU5_1_A', '1RUU_1_A', '2RU0_1_A', '2RU2_1_A', '2RU7_2_C', '2RUK_1_A', '2RUM_1_A', '2RUN_1_A', '2RUO_1_A', '2RUT_1_A', '2RUU_1_A', '2RUV_1_A', '2RUW_1_A', '2RUX_1_A', '2RUY_1_A', '2RUZ_1_A', '3RU2_2_B', '3RU3_2_B', '3RU4_3_C', '3RUL_2_E', '3RUM_2_B', '3RUN_2_B', '3RUT_2_B', '3RUU_2_B', '4RU2_2_B', '4RUJ_2_B', '4RUO_2_B', '4RUP_2_B', '2RV0_1_A', '2RV1_1_A', '2RV2_1_A', '2RV3_1_A', '2RV4_1_A', '2RV5_1_A', '2RVD_1_A', '2RVN_2_B', '3RVF_2_B', '4RVY_6_F', '4RVY_8_I', '4RVY_10_K', '4RVY_11_L', '4RVY_12_M', '4RVY_14_T', '4RVY_17_X', '4RVY_18_Y', '1RWE_1_A', '1RWE_2_B', '3RWC_3_C', '3RWD_3_C', '3RWE_3_C', '3RWF_3_C', '3RWG_3_C', '3RWI_3_C', '3RWJ_3_C', '4RWB_1_A', '4RWC_1_A', '4RWF_2_B', '4RWG_2_D', '4RWV_2_B', '1RXM_2_B', '1RXZ_2_B', '4RXW_1_A', '4RXW_2_B', '4RXZ_2_C', '6RXN_1_A', '1RY1_14_S', '1RYG_1_A', '1RYV_1_A', '3RYA_2_B', '3RYB_2_B', '3RYC_3_E', '3RYF_3_E', '3RYH_3_E', '3RYI_3_E', '4RYD_2_H', '4RYW_1_A', '4RYY_1_A', '4RYZ_1_A', '1RZX_2_B', '3RZ2_2_C', '3RZ9_2_B', '3RZX_2_B', '3S04_2_I', '3S0R_1_A', '4S0G_2_B', '4S0R_2_O', '1S1O_1_A', '3S1B_2_A', '3S1T_2_C', '4S14_2_C', '4S15_2_C', '4S1X_1_A', '4S1Z_2_F', '1S2K_2_B', '3S33_3_C', '3S38_3_C', '3S39_3_C', '3S3A_3_C', '3S3B_3_C', '3S3C_3_C', '3S3D_3_C', '3S3J_2_B', '3S3P_2_B', '3S3S_2_B', '3S3X_2_D', '1S4A_1_A', '1S4H_1_A', '1S4J_1_A', '1S4T_1_A', '1S4V_2_C', '1S4W_1_A', '1S4Z_2_C', '3S4S_3_C', '1S5L_8_I', '1S5L_10_K', '1S5L_11_L', '1S5L_12_M', '1S5L_14_T', '1S5L_18_N', '1S5P_2_B', '1S5Q_1_A', '1S5R_1_A', '1S5X_1_A', '1S5Y_1_A', '3S5L_3_C', '1S6C_2_B', '1S6W_1_A', '1S6X_1_A', '3S6N_7_M', '1S7P_1_B', '1S7P_2_A', '1S7R_3_C', '1S7U_3_C', '1S7V_3_C', '1S7W_3_C', '1S7X_3_C', '3S70_2_B', '3S7D_2_I', '3S7F_2_I', '3S7H_1_A', '3S7K_1_A', '1S8D_3_C', '1S8K_1_A', '3S8F_3_C', '3S8G_3_C', '1S9W_3_C', '1S9X_3_C', '1S9Y_3_C', '1S9Z_1_A', '3S9C_2_B', '3S9S_2_B', '1SB0_2_B', '1SB1_1_L', '1SB1_3_I', '1SBU_1_A', '1SBW_2_I', '3SBN_1_A', '1SCO_1_A', '1SCY_1_A', '1SDA_1_O', '1SDB_1_A', '1SDB_2_B', '1SDX_2_E', '1SDZ_2_B', '1SE0_2_B', '1SEB_3_C', '2SEB_4_E', '1SF1_1_A', '1SF1_2_B', '1SFI_2_I', '1SFQ_1_A', '3SFJ_2_B', '1SG8_1_A', '1SGC_2_B', '1SGI_1_A', '3SGA_2_P', '3SGE_3_K', '3SGM_1_A', '3SGN_1_A', '3SGP_1_A', '3SGR_1_A', '4SGA_2_P', '5SGA_2_P', '1SHC_2_B', '1SHH_1_A', '1SHI_1_A', '1SHO_1_A', '3SHA_1_L', '3SHA_3_I', '3SHB_2_B', '3SHC_1_L', '3SHC_3_I', '3SHV_2_C', '1SIO_2_D', '1SIS_1_A', '2SIV_1_A', '2SIV_2_B', '3SI3_1_L', '3SI3_3_I', '3SI4_1_L', '3SI4_3_I', '3SI5_2_X', '1SJE_3_C', '1SJH_3_C', '1SJT_1_A', '1SJT_2_B', '3SJ9_2_B', '3SJK_2_B', '1SKH_1_A', '1SKI_1_A', '1SKK_1_A', '1SKL_1_A', '3SKM_3_C', '1SL3_2_B', '1SLD_2_P', '1SLE_2_M', '1SLG_2_M', '1SM1_6_5', '1SME_2_C', '1SMF_2_I', '1SMH_2_B', '1SMR_2_B', '1SMZ_1_A', '3SM1_2_J', '1SN9_1_A', '1SNA_1_A', '1SNE_1_A', '3SNA_2_H', '3SNB_2_H', '3SNC_2_H', '3SNE_2_H', '1SOC_1_A', '1SOL_1_A', '1SOP_1_A', '1SOS_1_A', '1SOZ_2_D', '2SOC_1_A', '2SOD_1_O', '3SO5_1_A', '3SO6_2_Q', '3SOD_1_O', '3SOQ_2_Z', '3SOU_2_D', '3SOV_2_Z', '3SOW_2_C', '1SP1_1_A', '1SP2_1_A', '1SP5_2_I', '1SP7_1_A', '1SPD_1_A', '1SPF_1_A', '1SPG_1_A', '1SPS_2_D', '1SPW_1_A', '3SP6_2_B', '3SPA_2_B', '1SQK_2_B', '1SR5_2_B', '1SRB_1_A', '1SRK_1_A', '1SRN_2_B', '3SRI_2_B', '3SRJ_2_C', '3SRN_2_B', '4SRN_2_B', '1SSA_2_B', '1SSB_2_B', '1SSC_2_B', '1SSE_1_A', '1SSZ_1_A', '3SSB_3_I', '1STC_2_I', '1STR_2_M', '1STS_2_M', '2STA_2_I', '2STB_2_I', '3STJ_2_M', '1SUA_2_C', '1SUT_1_A', '1SUY_2_C', '3SUI_2_B', '1SV1_2_C', '1SVE_2_B', '1SVF_2_B', '1SVG_2_B', '1SVH_2_B', '3SV1_2_D', '3SV2_1_L', '3SV2_3_I', '3SVM_2_P', '5SVA_37_k', '5SVX_2_B', '5SVY_2_B', '1SWI_1_A', '3SW4_1_A', '3SW7_1_A', '3SW9_2_P', '3SWC_2_P', '5SW4_1_A', '5SW5_1_A', '5SWQ_3_C', '5SWS_3_C', '5SWZ_3_C', '1SX0_1_A', '1SX1_1_A', '1SXJ_1_A', '1SXM_1_A', '5SX2_1_A', '5SX6_1_A', '5SX7_1_A', '5SXM_2_D', '5SXR_1_A', '5SXW_1_A', '1SY9_2_B', '1SYN_1_A', '1SYQ_2_B', '3SYN_2_E', '5SYH_1_A', '5SYK_1_A', '5SYU_1_A', '5SYV_1_A', '5SYW_1_A', '5SYX_1_A', '5SYY_1_A', '5SYZ_2_C', '1SZA_2_Z', '1SZC_2_B', '1SZD_2_B', '3SZM_2_I', '1T01_2_B', '1T08_3_C', '1T0C_1_A', '1T0J_3_C', '1T0W_1_A', '3T03_2_C', '5T0K_2_P', '5T0M_2_P', '1T15_2_B', '1T1K_1_A', '1T1K_2_B', '1T1N_1_A', '1T1P_1_A', '1T1P_2_B', '1T1Q_1_A', '1T1Q_2_B', '1T1W_3_C', '1T1X_3_C', '1T1Y_3_C', '1T1Z_3_C', '3T1H_21_V', '3T1N_2_C', '3T1U_2_B', '3T1Y_21_V', '5T1G_2_B', '5T1I_2_C', '5T1K_4_E', '5T1L_4_E', '5T1M_3_E', '1T20_3_C', '1T21_3_C', '1T22_3_C', '1T29_2_B', '1T2V_2_F', '1T2Y_1_A', '3T2A_1_A', '3T2A_2_B', '5T26_1_A', '1T34_2_H', '1T3L_2_B', '1T4F_2_P', '1T4U_1_L', '1T4U_3_I', '1T4V_1_L', '1T4V_3_I', '1T51_1_A', '1T52_1_A', '1T54_1_A', '1T55_1_A', '1T5M_1_A', '1T5N_1_A', '1T5Q_1_A', '1T5W_3_C', '1T5X_3_C', '1T5Z_2_B', '3T5F_1_L', '3T5F_3_I', '1T63_2_B', '1T65_2_B', '1T6F_1_A', '1T6O_3_B', '3T6B_2_C', '3T6J_2_B', '3T6R_2_D', '1T73_2_B', '1T74_2_B', '1T76_2_B', '1T79_2_B', '1T7D_2_C', '1T7F_2_B', '1T7H_1_A', '1T7M_2_B', '1T7R_2_B', '3T7G_2_D', '3T7K_2_C', '1T8J_1_A', '1T9E_1_A', '1TA2_2_B', '1TA6_2_B', '1TA8_1_A', '3TAX_2_B', '1TBZ_1_L', '1TBZ_3_I', '3TBH_2_B', '3TBS_3_C', '3TBT_3_C', '3TBV_3_I', '3TBW_3_I', '3TBY_3_C', '5TBN_2_C', '1TCE_2_B', '1TCG_1_A', '1TCH_1_A', '1TCJ_1_A', '1TCK_1_A', '2TCI_1_A', '2TCI_2_B', '3TCF_2_I', '3TCG_2_I', '3TCJ_2_T', '1TDU_1_A', '1TDV_2_B', '3TDI_2_C', '3TDU_3_E', '3TDZ_3_E', '5TDR_2_B', '5TDW_2_B', '1TER_1_A', '1TET_3_P', '3TE3_1_A', '3TEI_2_B', '3TEJ_1_A', '1TFC_2_C', '8TFV_1_A', '1TGG_1_A', '3TG5_2_B', '3TGU_9_I', '1THP_1_A', '1THR_1_L', '1THR_3_I', '1THS_1_L', '1THS_3_I', '2THF_1_A', '3THK_2_C', '3THR_1_A', '3THS_1_A', '4THN_1_L', '4THN_3_I', '5TH2_3_E', '1TIN_1_A', '3TIW_2_C', '1TJB_1_A', '1TJG_3_P', '1TJH_3_P', '1TJI_3_P', '1TJS_1_A', '3TJ5_2_B', '3TJ6_2_B', '3TJH_2_B', '3TJU_2_B', '3TJV_2_B', '3TJW_2_B', '5TJ5_1_A', '5TJ5_6_O', '5TJ5_7_P', '1TK2_2_B', '1TKQ_1_A', '1TKQ_2_B', '3TKN_2_B', '3TKZ_2_P', '4TK1_2_C', '4TK2_2_C', '4TK3_2_C', '4TK4_2_C', '4TKN_2_D', '4TKY_2_F', '1TL9_2_B', '1TLC_1_A', '3TL0_2_B', '4TL1_1_A', '1TM6_1_A', '1TMB_1_L', '1TMB_3_I', '1TMC_3_C', '1TMR_1_A', '1TMT_1_L', '1TMT_3_I', '1TMT_4_J', '1TMU_1_L', '1TMU_3_J', '1TMZ_1_A', '3TM7_1_A', '4TMP_2_B', '1TN6_3_C', '1TNV_1_A', '1TNV_2_C', '4TN7_3_E', '4TNH_8_I', '4TNH_11_L', '4TNH_12_M', '4TNH_14_T', '4TNH_19_Y', '4TNI_8_I', '4TNI_11_L', '4TNI_12_M', '4TNI_14_T', '4TNI_19_Y', '4TNJ_8_I', '4TNJ_11_L', '4TNJ_12_M', '4TNJ_14_T', '4TNJ_19_Y', '4TNK_8_I', '4TNK_11_L', '4TNK_12_M', '4TNK_14_T', '4TNK_19_Y', '1TOM_1_L', '1TOM_3_I', '1TOQ_2_B', '1TOR_1_A', '1TOS_1_A', '3TOD_2_B', '4TOT_2_E', '1TP3_2_B', '1TP5_2_B', '1TP8_2_B', '1TPS_2_B', '3TPU_4_J', '1TQ0_1_A', '1TQE_4_X', '3TQ2_1_A', '4TQ1_2_B', '4TQE_3_A', '1TR6_1_A', '1TRG_1_A', '1TRZ_1_A', '1TRZ_2_B', '3TRS_1_A', '3TRV_1_A', '3TRW_1_A', '3TRY_1_A', '4TR9_2_E', '4TR9_3_G', '1TSD_1_A', '1TSK_1_A', '1TSQ_2_P', '1TSU_2_P', '1TT3_1_A', '1TT5_3_E', '1TTK_1_A', '1TTL_1_A', '3TT8_1_A', '3TT8_2_B', '4TT2_2_P', '4TTL_1_A', '4TTM_1_A', '4TTN_1_A', '4TTO_1_A', '3TU7_1_L', '3TU7_3_I', '3TUV_2_B', '4TUJ_3_E', '4TUK_3_I', '4TUL_3_I', '4TUZ_3_F', '1TV0_1_A', '1TVB_3_C', '1TVH_3_C', '3TVJ_3_I', '4TV1_3_C', '4TVG_2_C', '4TVQ_2_E', '1TW6_2_C', '1TWB_2_C', '1TWX_1_A', '1TWX_3_C', '3TWE_1_A', '3TWF_1_A', '3TWG_1_A', '3TWR_2_E', '3TWS_2_E', '3TWT_2_E', '3TWU_2_B', '3TWV_2_E', '3TWW_2_C', '3TWX_2_C', '4TWI_2_B', '4TWJ_2_B', '4TWT_2_E', '1TXM_1_A', '1TXP_1_A', '4TXQ_2_C', '4TXR_1_B', '1TYK_1_A', '1TYL_1_A', '1TYL_2_B', '1TYM_1_A', '1TYM_2_B', '4TY6_2_H', '1TZ4_1_A', '1TZ5_1_A', '1TZE_2_I', '1TZG_3_P', '1TZS_2_P', '3TZ1_2_B', '3TZD_2_T', '3TZW_2_D', '3TZX_2_C', '3TZY_2_C', '3TZZ_2_C', '4TZL_2_C', '4TZM_2_C', '4TZN_2_C', '4TZO_2_B', '4TZQ_2_B', '4TZS_2_C', '1U00_2_P', '1U0I_1_A', '1U0I_2_B', '1U0P_1_A', '3U0T_3_E', '4U01_2_K', '4U0A_2_B', '4U0B_2_M', '4U0C_2_B', '4U0D_2_M', '1U19_1_A', '4U1J_3_C', '4U1P_2_B', '1U2U_1_A', '1U2U_2_B', '4U2W_1_B', '1U3H_5_P', '1U3R_2_C', '1U3S_2_C', '3U31_2_B', '3U3D_2_B', '3U3F_2_E', '3U3W_2_P', '3U3Z_2_B', '4U3F_9_I', '3U4L_2_P', '3U4N_1_A', '3U4N_2_B', '3U4S_2_C', '3U5N_2_C', '3U5O_2_I', '3U5P_2_I', '3U5S_1_A', '4U5T_1_A', '1U62_1_A', '1U6H_2_B', '1U6U_1_A', '1U6V_1_A', '3U69_1_L', '4U68_2_D', '4U6G_3_P', '4U6Y_3_P', '1U76_2_B', '1U7B_2_B', '3U72_2_B', '3U7D_2_B', '3U7X_2_C', '4U7E_2_A', '4U7I_2_B', '4U7T_3_F', '4U7Y_2_B', '1U85_1_A', '1U86_1_A', '1U8G_2_I', '1U8H_3_C', '1U8I_3_C', '1U8J_3_C', '1U8K_3_C', '1U8L_3_C', '1U8M_3_C', '1U8N_3_C', '1U8O_3_C', '1U8P_3_C', '1U8Q_3_C', '1U8T_2_E', '3U85_2_B', '3U86_2_B', '3U8E_1_A', '3U8I_1_A', '3U8O_1_L', '3U8O_3_I', '3U8Q_2_B', '3U8R_1_L', '3U8R_3_I', '3U8T_1_L', '3U8T_3_I', '1U91_3_C', '1U92_3_C', '1U93_3_C', '1U95_3_C', '1U9E_2_C', '1U9F_1_A', '1U9G_1_A', '1U9H_1_A', '1U9L_2_C', '3U91_1_A', '3U98_1_L', '3U98_3_I', '3U9A_1_L', '3U9A_3_I', '3U9Q_2_B', '4U90_2_D', '4U91_2_B', '1UAO_1_A', '3UAT_2_B', '4UA3_1_A', '2UBP_1_A', '3UB5_2_P', '3UBP_1_A', '4UB6_8_I', '4UB6_9_J', '4UB6_10_K', '4UB6_11_L', '4UB6_12_M', '4UB6_14_T', '4UB6_17_Y', '4UB6_20_R', '4UB8_8_I', '4UB8_9_J', '4UB8_10_K', '4UB8_11_L', '4UB8_12_M', '4UB8_14_T', '4UB8_17_Y', '4UB8_20_R', '4UBP_1_A', '4UBY_1_A', '4UBZ_1_A', '1UC8_1_A', '1UC9_1_A', '1UCY_4_F', '3UC7_1_A', '3UC8_1_A', '2BSS_3_C', '4BS3_1_A', '4BS3_2_B', '1BT6_2_C', '1BTH_1_L', '1BTQ_1_A', '1BTR_1_A', '1BTS_1_A', '1BTT_1_A', '2BTA_1_A', '2BTB_1_A', '2BTC_2_I', '2BTF_1_A', '2BTF_2_P', '2BTX_2_B', '3BTB_1_A', '3BTR_2_B', '3BTS_2_E', '5BT0_1_A', '5BTR_2_D', '5BTS_1_A', '5BTS_2_B', '5BTT_1_A', '5BTT_2_B', '1BU3_1_A', '2BUO_2_T', '3BU3_2_B', '3BU5_2_B', '3BU6_2_B', '3BU8_2_C', '3BUA_2_E', '3BUN_1_A', '3BUW_1_A', '3BUX_1_A', '3BUY_3_C', '4BU0_2_B', '4BU1_2_C', '4BUJ_1_A', '4BUZ_2_P', '5BU8_1_A', '2BVO_3_C', '2BVR_2_I', '2BVR_3_L', '2BVS_2_I', '2BVS_3_L', '2BVX_2_I', '2BVX_3_L', '3BV9_1_A', '3BV9_3_C', '3BVD_3_C', '3BVH_4_G', '4BV2_2_E', '4BVE_2_B', '4BVF_2_B', '4BVG_2_B', '5BV0_3_C', '1BW8_2_P', '1BWX_1_A', '3BW9_3_C', '4BWS_2_B', '5BW8_4_Z', '5BWN_1_B', '5BWO_1_B', '1BX2_3_C', '1BXL_2_B', '1BXP_2_B', '4UD7_2_F', '4UD9_2_I', '4UD9_3_L', '4UDA_2_B', '4UDB_2_B', '4UDC_2_B', '4UDD_2_B', '4UDW_2_I', '4UDW_3_L', '1UEF_2_C', '3UEC_2_B', '3UED_2_B', '3UEE_2_B', '3UEF_2_B', '3UEO_2_E', '4UE1_2_F', '4UE4_2_B', '4UE5_7_S', '4UE7_2_I', '4UE7_3_L', '4UE8_2_B', '4UED_2_B', '4UEH_2_I', '4UEH_3_L', '4UEL_2_B', '4UER_10_9', '4UF1_2_B', '4UF2_2_B', '4UF3_2_B', '4UF6_2_B', '4UFD_3_L', '4UFE_2_I', '4UFE_3_L', '4UFF_2_I', '4UFF_3_L', '4UFG_2_I', '4UFG_3_L', '1UGW_2_B', '1UGX_2_B', '1UGY_2_B', '3UGW_2_B', '1UH0_2_B', '1UH1_2_B', '1UHB_3_P', '1UHD_1_B', '1UHD_2_A', '1UHE_1_B', '1UHL_3_C', '3UI2_2_B', '3UIG_2_P', '3UIH_2_P', '3UII_2_P', '3UIJ_2_P', '3UIK_2_P', '4UI9_17_T', '4UI9_18_U', '4UIS_1_A', '4UIS_2_B', '4UIS_3_C', '4UIS_4_D', '1UJ0_2_B', '3UJI_3_P', '3UJJ_3_P', '4UJ1_2_B', '4UJ2_2_B', '4UJ9_2_B', '4UJA_2_B', '4UJB_2_B', '1UK4_2_G', '3UKW_2_C', '3UKX_2_C', '3UKZ_2_C', '1UL2_1_A', '1ULL_2_B', '3UL0_2_C', '3UL1_2_A', '1UM2_2_C', '1UMA_1_L', '1UMA_3_I', '1UMW_2_E', '1UMZ_1_A', '3UM0_2_B', '3UM2_2_B', '4UM9_4_E', '4UMN_2_C', '1UN1_1_A', '1UNC_1_A', '1UND_1_A', '1UNJ_2_E', '1UNM_2_E', '1UNO_1_A', '1UNQ_1_A', '1UNR_1_A', '1UNT_1_A', '1UNU_1_A', '1UNV_1_A', '1UNW_1_A', '1UNX_1_A', '1UNY_1_A', '1UNZ_1_A', '3UNV_1_A', '4UNE_1_A', '4UNE_2_B', '4UNG_1_A', '4UNG_2_B', '4UNH_1_A', '4UNH_2_B', '1UO0_1_A', '1UO1_1_A', '1UO2_1_A', '1UO3_1_A', '1UO4_1_A', '1UO5_1_A', '3UO1_3_P', '3UO8_2_L', '3UOA_2_L', '4UOT_1_A', '1UPH_1_A', '3UP0_2_P', '3UP3_2_P', '3UPV_2_B', '4UP0_2_F', '4UPH_1_A', '4UPI_1_A', '4UPU_2_B', '3UQP_2_B', '3UQR_2_D', '4UQ8_1_A', '4UQ8_2_B', '4UQ8_3_C', '4UQ8_4_D', '4UQ8_5_E', '4UQ8_6_F', '4UQ8_7_G', '4UQ8_8_H', '4UQ8_9_I', '4UQ8_10_J', '4UQ8_11_K', '4UQ8_12_L', '4UQ8_13_M', '4UQ8_14_N', '4UQ8_15_O', '4UQ8_16_P', '4UQ8_17_Q', '4UQ8_18_R', '4UQ8_19_S', '4UQ8_20_T', '4UQ8_21_U', '4UQ8_22_V', '4UQ8_23_W', '4UQ8_24_X', '4UQ8_25_Y', '4UQ8_26_Z', '4UQ8_27_a', '4UQ8_28_b', '4UQ8_29_c', '4UQ8_30_d', '4UQ8_31_e', '4UQ8_32_f', '4UQ8_33_g', '4UQ8_34_j', '4UQ8_35_k', '4UQ8_36_m', '4UQ8_37_n', '4UQ8_38_o', '4UQ8_39_q', '4UQ8_40_r', '4UQ8_41_t', '4UQ8_42_u', '4UQ8_43_v', '4UQT_2_B', '4UQY_2_B', '1URL_2_B', '1URW_1_A', '3USD_2_B', '3USU_1_A', '4USL_2_D', '1UT3_1_A', '1UTC_2_P', '1UTI_2_D', '3UT2_1_A', '3UTQ_3_C', '3UTS_3_C', '3UTT_3_C', '3UTU_1_L', '3UTU_3_I', '4UTN_2_D', '4UTR_2_C', '4UTV_2_C', '4UTX_2_C', '4UTZ_2_D', '2UU9_21_U', '2UUA_21_U', '2UUB_21_U', '2UUC_21_U', '2UUD_3_S', '2UUF_1_A', '2UUF_3_H', '2UUJ_1_A', '2UUJ_3_H', '2UUK_1_A', '2UUK_3_H', '3UU7_3_F', '3UUA_3_F', '3UUD_3_C', '4UU0_1_A', '4UU1_1_A', '4UU5_2_B', '4UU7_2_D', '4UU8_2_D', '4UUA_2_D', '4UUB_2_D', '1UVQ_3_C', '1UVS_1_L', '2UV8_1_A', '2UVS_1_A', '2UVX_2_I', '2UVY_2_I', '2UVZ_2_I', '3UVK_2_B', '3UVL_2_B', '3UVM_2_B', '3UVN_2_B', '3UVO_2_B', '3UVU_1_B', '3UVW_2_B', '3UVX_2_B', '3UVY_2_B', '1UWX_4_P', '2UW0_2_I', '2UW3_2_I', '2UW4_2_I', '2UW5_2_I', '2UW6_2_I', '2UW7_2_I', '2UW8_2_I', '2UW9_2_C', '2UWE_3_C', '2UWJ_2_F', '3UW4_2_Z', '3UW5_2_Z', '3UWJ_1_L', '3UWJ_3_I', '4UWA_1_A', '4UWE_1_A', '4UWX_2_C', '1UXW_3_C', '2UXB_21_U', '2UXC_21_U', '2UXD_21_V', '2UXN_3_E', '3UXG_2_B', '3UXW_2_K', '4UX6_1_A', '1UYA_1_A', '1UYB_1_A', '3UYR_3_P', '4UY8_5_4', '4UY8_7_6', '4UY8_8_7', '4UYZ_2_E', '1UZ9_1_A', '1UZ9_2_B', '2UZ6_2_K', '2UZS_1_A', '2UZT_2_B', '2UZU_2_I', '2UZV_1_2', '2UZW_2_I', '3UZD_2_B', '4V0V_2_B', '1V1D_1_A', '1V1K_1_A', '1V1T_2_S', '2V17_1_A', '2V1D_3_C', '2V1S_2_H', '2V1T_2_C', '2V1V_1_A', '3V19_1_A', '3V19_2_B', '3V1G_1_A', '3V1G_2_B', '4V11_2_B', '4V1A_6_f', '4V1A_19_u', '4V1A_20_v', '4V1A_23_z', '4V1C_3_C', '1V28_1_A', '2V2F_1_A', '2V2W_3_C', '4V2V_2_C', '4V2W_2_C', '2V3H_3_L', '2V3O_3_L', '2V3S_2_C', '3V30_2_B', '3V31_2_B', '3V3B_2_C', '4V33_1_A', '4V3I_2_B', '1V46_1_A', '1V4Q_1_A', '1V4U_1_A', '1V4W_1_A', '1V4X_1_A', '1V4Z_1_A', '3V43_2_Q', '3V49_2_B', '3V4A_2_B', '3V4L_2_B', '3V4O_2_B', '3V4U_3_P', '1V50_1_A', '1V5A_1_A', '2V51_2_E', '2V52_2_M', '2V53_2_B', '2V5F_2_X', '2V5I_1_A', '3V52_3_P', '3V56_2_G', '3V5A_2_B', '3V5H_3_C', '3V5K_3_C', '1V6R_1_A', '2V64_2_B', '2V6Q_2_B', '1V7F_1_A', '3V79_6_R', '3V7D_3_E', '2V83_2_D', '2V85_2_D', '2V86_2_D', '2V87_2_D', '2V88_2_D', '2V89_2_D', '2V8C_2_C', '2V8W_2_B', '2V8X_2_B', '2V8Y_2_B', '3V86_1_A', '1V90_1_A', '1V91_1_A', '3V9T_2_C', '3V9V_2_C', '3V9Y_2_B', '1VA1_1_A', '1VA2_1_A', '1VA3_1_A', '1VAD_3_P', '2VAY_2_B', '1VB8_1_A', '1VBA_1_0', '1VBC_1_0', '1VBE_1_0', '1VBS_2_B', '2VBC_2_B', '3VB4_2_E', '3VB5_2_E', '3VB6_2_E', '3VB7_2_E', '1VC3_1_A', '1VC3_2_B', '3VCL_3_C', '1VD7_1_A', '1VD8_1_A', '1VD9_1_A', '1VDA_1_A', '1VDB_1_A', '1VDN_2_B', '2VDA_2_B', '2VDO_3_C', '2VDP_3_C', '2VDQ_3_C', '2VDR_3_C', '1VEB_2_B', '3VE6_2_B', '1VF5_5_E', '1VF5_6_F', '1VF5_7_G', '1VF5_8_H', '3VFJ_2_G', '3VFK_2_G', '3VFM_3_C', '3VFN_3_C', '3VFO_3_C', '3VFP_3_C', '3VFR_3_C', '3VFS_3_C', '3VFT_3_C', '3VFU_3_C', '3VFV_3_C', '3VFW_3_C', '1VGC_1_A', '1VGK_3_C', '2VGC_1_A', '3VGC_1_A', '3VGX_1_C', '3VGX_2_D', '3VGY_2_D', '4VGC_1_A', '3VH7_2_B', '3VHS_1_A', '1VII_1_A', '1VIT_3_I', '2VIF_2_P', '3VIE_1_A', '3VIE_2_B', '3VIV_2_C', '1VJ6_2_B', '2VJ0_2_P', '2VJ0_3_Q', '2VJM_2_B', '2VJZ_1_A', '2VJZ_2_B', '3VJ6_3_P', '3VJS_2_C', '3VJT_2_C', '1VKT_1_A', '1VKT_2_B', '2VK0_1_A', '2VK0_2_B', '1VL3_1_A', '2VLJ_3_C', '2VLK_3_C', '2VLL_3_C', '2VLR_3_C', '1VM2_1_A', '1VM3_1_A', '1VM4_1_A', '1VM5_1_A', '2VM6_2_B', '2VNF_2_B', '2VNW_2_I', '2VNY_2_I', '3VN2_2_C', '2VO0_2_I', '2VO3_2_I', '2VO6_2_I', '2VO7_2_I', '2VOF_2_B', '2VOG_2_B', '2VOH_2_B', '2VOI_2_B', '2VOV_1_A', '2VOX_1_A', '2VOY_3_C', '2VOY_4_D', '2VOY_5_E', '2VOY_7_G', '2VOY_11_K', '2VOY_12_L', '1VPP_2_X', '2VP7_2_B', '2VPB_2_B', '2VPD_2_B', '2VPE_2_B', '2VPE_3_P', '2VPG_2_B', '2VPG_3_P', '1VQX_1_A', '2VQE_21_U', '2VQF_21_U', '2VQR_1_A', '3VQG_2_B', '3VQH_2_B', '3VQM_2_O', '1VR1_1_L', '1VR1_3_I', '1VRK_2_B', '2VR3_2_C', '2VR7_1_A', '2VR8_1_A', '3VRI_3_C', '3VRJ_3_C', '3VRP_2_B', '3VRR_2_C', '3VRT_2_C', '3VRU_2_C', '3VRV_2_C', '3VRW_2_C', '1VSB_1_A', '2VSL_2_B', '3VSB_1_A', '1VTP_1_A', '3VT3_2_C', '3VT4_2_C', '3VT5_2_C', '3VT6_2_C', '3VT7_2_C', '3VT8_2_C', '3VT9_2_C', '3VTB_2_B', '3VTC_2_B', '3VTD_2_B', '3VTP_1_C', '3VTP_2_D', '3VTQ_1_E', '3VTQ_2_D', '2VU8_2_I', '2VUM_13_M', '3VU5_1_A', '3VU5_2_B', '3VU6_1_A', '3VU6_2_B', '3VUW_2_E', '3VUX_2_E', '3VUY_2_D', '2VV9_1_A', '3VVI_1_A', '3VVR_2_B', '3VVS_2_B', '1VWA_2_M', '1VWB_2_P', '1VWC_2_P', '1VWD_2_P', '1VWE_2_P', '1VWF_2_P', '1VWG_2_P', '1VWH_2_P', '1VWI_2_M', '1VWJ_2_M', '1VWK_2_M', '1VWL_2_M', '1VWM_2_P', '1VWN_2_P', '1VWO_2_P', '1VWP_2_P', '1VWQ_2_P', '1VWR_2_P', '2VWF_2_B', '3VXE_1_L', '3VXE_3_J', '3VXE_4_I', '3VXF_1_L', '3VXF_3_J', '3VXF_4_I', '3VXM_3_C', '3VXN_3_C', '3VXO_3_C', '3VXP_3_C', '3VXR_5_C', '3VXS_5_C', '3VXU_3_C', '3VXW_2_B', '1VYJ_2_B', '1VYT_2_E', '2VY4_1_A', '2VY5_1_A', '1VZQ_3_L', '2VZD_2_C', '2VZG_1_A', '2VZI_1_A', '2VZK_3_D', '3VZA_3_E', '2W06_1_A', '2W0P_2_C', '3W0G_2_C', '3W0H_2_C', '3W0I_2_C', '3W0J_2_C', '3W0W_3_C', '1W1N_1_A', '2W10_2_C', '2W16_2_C', '2W17_1_A', '3W11_1_A', '3W11_2_B', '3W11_6_F', '3W12_4_A', '3W12_5_B', '3W12_6_F', '3W13_4_A', '3W13_5_B', '3W13_6_F', '3W14_1_A', '3W14_2_B', '3W19_1_C', '3W19_2_D', '3W1B_2_B', '3W1G_2_B', '2W2H_2_C', '2W2U_2_C', '1W3C_2_C', '1W3M_1_A', '2W3O_2_C', '3W3X_2_B', '2W44_1_A', '2W44_2_B', '4W4Z_2_E', '1W5C_7_O', '1W5C_8_S', '1W5C_10_X', '1W5G_1_A', '1W5H_1_A', '1W5I_1_A', '1W5J_1_A', '1W5K_1_A', '1W5L_1_A', '1W5U_1_A', '1W5Z_1_A', '2W5Z_2_C', '3W5A_1_A', '3W5A_2_C', '3W5C_1_A', '3W5D_1_A', '3W5P_2_C', '3W5Q_2_C', '3W5R_2_C', '3W5T_2_C', '4W50_2_E', '4W5A_2_C', '4W5L_1_A', '4W5P_1_A', '1W6I_2_B', '2W65_3_E', '2W6T_2_C', '3W6K_1_A', '4W67_1_A', '1W7G_3_L', '1W7Q_1_A', '1W7R_1_A', '1W7Z_1_A', '2W73_2_K', '2W76_2_C', '2W77_2_C', '2W78_2_C', '3W7Y_1_A', '3W7Y_2_B', '3W7Z_1_A', '3W7Z_2_B', '4W71_1_A', '1W80_2_P', '1W80_3_Q', '1W8C_1_A', '1W8P_1_A', '1W8P_2_B', '2W84_2_B', '2W85_2_B', '3W80_1_A', '3W80_2_B', '3W8J_2_C', '3W8V_1_A', '4W8P_2_B', '1W9N_1_A', '1W9O_2_S', '1W9Q_2_S', '2W97_3_E', '2W9R_2_B', '3W92_1_A', '3W93_1_A', '4W9M_4_D', '1WA7_2_B', '1WAV_1_A', '1WAV_2_B', '1WAY_1_A', '1WAY_3_I', '2WA8_2_B', '3WA0_3_I', '3WA0_4_J', '3WA0_5_K', '3WA4_2_B', '1WBG_1_A', '1WBG_3_I', '1WBP_2_B', '1WBR_1_A', '1WBX_3_C', '1WBY_3_C', '1WBZ_3_P', '2WBY_2_C', '2WBY_3_D', '3WBN_2_B', '4WB5_2_I', '4WB6_3_I', '4WB7_2_I', '4WB8_2_I', '4WBU_1_A', '1WCO_2_N', '1WCT_1_A', '2WC0_2_C', '2WC0_3_D', '4WC8_1_A', '4WC8_2_B', '4WCE_28_4', '1BXX_2_P', '2BXT_2_I', '2BXT_3_L', '2BXU_2_I', '2BXU_3_L', '3BXK_2_B', '3BXL_2_B', '3BXQ_1_A', '3BXQ_2_B', '4BXF_2_C', '4BXL_2_C', '4BXR_2_C', '4BXU_2_B', '4BXW_2_F', '5BX6_2_B', '5BX7_2_B', '5BXO_2_C', '5BXU_2_B', '1BY0_1_A', '1BY6_1_A', '1BYV_1_A', '1BYZ_1_A', '2BYP_2_F', '3BYA_2_B', '4BY8_1_A', '1BZB_1_A', '1BZG_1_A', '1BZH_2_I', '1BZK_1_A', '1BZV_1_A', '1BZV_2_B', '2BZW_2_B', '3BZE_3_P', '3BZF_3_P', '3BZI_2_E', '4BZD_1_A', '1C0Q_1_A', '1C0R_1_A', '3C0T_2_B', '4C0U_4_Y', '4C0U_5_Z', '4C0Y_4_X', '4C0Y_5_Y', '5C02_1_A', '5C07_3_C', '5C08_3_C', '5C09_3_C', '5C0A_3_C', '5C0B_3_C', '5C0C_3_C', '5C0D_3_C', '5C0E_3_C', '5C0F_3_C', '5C0G_3_C', '5C0H_3_C', '5C0I_3_C', '5C0J_3_C', '1C1F_1_A', '1C1L_1_A', '1C1U_1_L', '1C1U_3_I', '1C1V_1_L', '1C1V_3_I', '1C1W_1_L', '1C1W_3_I', '2C13_1_A', '2C14_1_A', '2C15_1_A', '2C16_1_A', '2C18_1_A', '2C1A_2_I', '2C1B_2_I', '2C1E_3_C', '2C1J_2_C', '2C1N_2_C', '3C1K_2_B', '2WDT_2_B', '3WDC_2_B', '3WDD_2_B', '3WDE_2_B', '3WDZ_2_B', '4WDI_3_C', '1WEJ_3_F', '1WFA_1_A', '1WFB_1_A', '2WFJ_2_B', '2WFU_1_A', '2WFU_2_B', '2WFV_1_A', '2WFV_2_B', '3WFP_1_A', '3WFQ_2_E', '3WFR_3_E', '3WFS_2_C', '4WFA_28_4', '4WFB_28_4', '4WFD_3_C', '3WG5_2_C', '3WGX_2_C', '4WG0_1_A', '2WH6_2_B', '2WH9_1_A', '2WHQ_1_A', '2WHX_2_C', '4WHT_3_a', '4WHY_1_A', '3WIM_2_B', '4WIH_2_B', '2WJG_2_C', '4WJ3_2_B', '4WJ5_3_C', '4WJ7_2_W', '4WJN_2_B', '4WJO_2_B', '4WJP_2_B', '4WJQ_2_B', '4WJV_3_I', '4WJW_3_P', '1WKR_2_I', '1WKW_2_B', '2WKO_1_A', '2WKO_2_F', '4WK2_3_C', '4WK4_3_C', '1WLP_1_A', '3WL9_3_C', '3WLB_3_C', '4WLB_2_D', '1WM0_2_Y', '1WM7_1_A', '1WM8_1_A', '3WMG_2_B', '3WMI_2_B', '3WMJ_2_B', '1WN4_1_A', '1WN8_1_A', '1WNK_1_A', '1WNM_1_A', '1WNN_1_A', '3WN7_2_B', '3WNE_2_C', '3WNF_2_C', '3WNG_2_C', '3WNH_2_C', '4WNE_2_B', '4WNL_2_E', '4WNN_3_T', '1WO0_1_A', '1WO1_1_A', '1WO3_1_A', '1WO4_1_A', '1WO5_1_A', '1WO6_1_A', '1WO7_1_A', '1WO9_1_A', '3WOP_2_C', '3WOQ_2_C', '4WO1_1_A', '4WOL_1_A', '1WPD_1_A', '1WPX_2_B', '2WP2_2_P', '2WPH_2_L', '2WPI_2_L', '2WPJ_2_L', '2WPK_2_L', '2WPL_2_L', '2WPM_2_L', '2WPN_2_B', '2WPY_1_A', '2WPZ_1_A', '3WP0_2_B', '3WP1_2_A', '4WPB_2_C', '4WPF_2_B', '4WPH_2_C', '4WPI_2_C', '1WQB_1_A', '1WQC_1_A', '1WQD_1_A', '1WQE_1_A', '2WQ0_1_A', '2WQ1_1_A', '2WQ2_1_A', '2WQ3_1_A', '2WQJ_1_A', '4WQP_2_P', '1WR3_1_A', '1WR4_1_A', '1WRZ_2_B', '2WRU_1_A', '2WRU_2_B', '2WRV_1_A', '2WRV_2_B', '2WRW_1_A', '2WRW_2_B', '2WRX_1_A', '2WRX_2_B', '4WR4_1_A', '4WR5_1_A', '4WRQ_2_C', '1WS4_2_B', '1WS5_2_B', '1WSO_1_A', '2WS0_1_A', '2WS0_2_B', '2WS1_1_A', '2WS1_2_B', '2WS4_1_A', '2WS4_2_B', '2WS6_1_A', '2WS6_2_B', '2WS6_3_F', '2WS7_1_A', '2WS7_2_B', '2WSC_18_R', '2WSE_18_R', '2WSF_18_R', '3WS3_3_E', '3WS6_3_E', '3WSR_2_C', '3WSY_2_C', '3WSZ_2_C', '4WSF_2_B', '1WT8_1_A', '3WT5_2_C', '3WT6_2_C', '3WT7_2_C', '3WTQ_2_C', '2WU3_1_A', '2WU4_1_A', '2WUB_2_B', '2WUC_2_B', '3WU2_4_D', '3WU2_8_I', '3WU2_10_K', '3WU2_11_L', '3WU2_12_M', '3WU2_14_T', '3WU2_17_Y', '3WUP_1_A', '3WUT_2_C', '3WUU_2_C', '3WUV_2_C', '4WUU_3_C', '1WVM_2_C', '2WV4_2_C', '2WV5_2_E', '4WV6_2_B', '4WVD_1_C', '4WVH_2_C', '4WVI_2_D', '4WVJ_2_D', '4WVP_2_I', '4WVS_2_B', '4WVT_2_C', '2WW6_1_A', '2WW7_1_A', '2WWZ_2_C', '2WX0_2_C', '2WX1_2_C', '3WXA_2_C', '4WX4_2_C', '4WX6_2_B', '4WX7_2_B', '4WXY_1_A', '4WXZ_1_A', '1WY3_1_A', '1WY4_1_A', '3WY9_2_C', '4WY0_1_A', '4WY0_3_F', '4WY7_3_P', '4WYM_2_M', '4WYQ_3_C', '4WYU_2_D', '1WZ4_1_A', '1WZ5_1_A', '2WZQ_2_C', '4WZ9_2_M', '4WZ9_3_N', '4WZX_2_E', '2X04_2_C', '2X0L_3_C', '2X0X_2_D', '4X0S_1_A', '4X0W_1_P', '1X11_2_C', '3X13_3_C', '3X14_3_C', '4X1H_2_C', '4X1N_1_P', '4X1P_2_P', '4X1Q_1_P', '4X1R_1_P', '4X1S_1_P', '4X1V_2_B', '1X2R_2_B', '2X2C_1_B', '3X23_2_B', '3X2O_1_A', '3X2P_1_A', '3X2U_2_S', '3X2V_2_S', '3X2W_2_S', '4X23_7_V', '4X2H_3_C', '4X2O_3_C', '4X2V_3_F', '2X39_2_C', '4X34_2_C', '4X35_1_A', '4X3E_2_B', '4X3G_2_C', '4X3H_2_B', '4X3I_2_B', '4X3K_2_C', '4X3O_2_C', '4X3P_2_C', '4X3S_2_C', '2X4O_3_C', '2X4P_3_C', '2X4R_3_C', '2X4U_3_C', '2X4W_2_B', '2X4X_2_B', '2X4Y_2_B', '1X5V_1_A', '4X5W_3_C', '2X6P_1_A', '4X62_12_L', '4X62_21_U', '4X64_12_L', '4X64_21_U', '4X65_12_L', '4X65_21_U', '4X66_12_L', '4X66_21_U', '4X6N_2_H', '4X6S_2_L', '1X76_2_C', '1X78_2_C', '1X7B_2_C', '1X7E_2_C', '1X7J_2_C', '1X7K_1_A', '1X7R_2_B', '2X70_3_C', '2X72_1_A', '2X72_2_B', '2X7K_2_B', '1X8S_2_B', '4X8N_2_B', '4X8P_2_B', '1X9T_2_B', '4X9R_2_B', '4X9U_1_A', '4X9V_2_B', '2XA0_2_C', '2XA7_4_P', '2XAK_2_D', '2XAP_2_D', '2XAV_2_D', '2XAW_2_D', '2XAX_2_D', '2XAY_2_D', '2XAZ_2_D', '4XAI_2_P', '4XAJ_2_Q', '4XAL_2_B', '4XAW_3_P', '1XB0_2_G', '1XB1_2_G', '1XB7_2_P', '1XBH_1_A', '4XBE_3_P', '4XBU_2_B', '1XC0_1_A', '2XCF_2_C', '2XCN_2_C', '4XC1_3_P', '4XC2_2_E', '4XC3_3_P', '4XC4_1_A', '4XC4_2_B', '4XCF_3_P', '1XDA_1_A', '1XDA_2_B', '1XDH_2_C', '1XDK_3_C', '2XDC_1_A', '4XEF_2_B', '4XEK_2_C', '4XEV_2_C', '1XF7_1_A', '2XFX_3_C', '1XGA_1_A', '1XGB_1_A', '1XGC_1_A', '1XGF_1_A', '1XGL_1_A', '1XGL_2_B', '1XGY_3_P', '4XGC_5_G', '4XGZ_3_a', '1XH3_3_C', '1XH4_2_B', '1XH5_2_B', '1XH6_2_B', '1XH7_2_B', '1XH8_2_B', '1XH9_2_B', '1XHA_2_B', '1XHM_3_C', '2XH5_2_C', '2XHS_2_B', '4XH2_3_a', '4XHV_2_B', '1XIU_2_E', '4XI7_2_C', '4XIB_2_C', '4XIF_2_E', '1XJ7_2_B', '2XJH_1_A', '2XJI_1_A', '2XJY_2_B', '2XJZ_2_I', '1XKH_2_I', '1XKM_1_A', '1XKM_2_B', '1XKP_1_A', '4XK8_9_I', '4XK8_10_J', '4XKL_2_B', '1XLS_3_I', '2XL1_1_A', '2XL2_2_C', '2XL3_2_C', '2XL3_3_D', '1XM1_2_H', '1XME_3_C', '1XMN_1_A', '1XMO_23_V', '1XMQ_23_V', '4XMK_3_P', '1XN2_2_E', '1XN3_2_I', '1XNL_1_A', '1XNQ_23_V', '1XNR_23_V', '2XN5_2_B', '2XN6_2_B', '2XN7_2_B', '2XN9_6_F', '2XNI_2_C', '4XNH_4_F', '1XOC_2_B', '1XOF_1_A', '1XOF_2_B', '1XOK_3_C', '1XOO_1_A', '1XOP_1_A', '1XOW_2_B', '2XO2_1_A', '2XO4_2_D', '2XO5_2_D', '4XO9_2_B', '4XOA_1_B', '4XOB_2_B', '4XOD_1_B', '4XOE_2_B', '4XOJ_2_B', '2XPG_3_C', '2XPI_2_B', '2XPN_2_B', '2XPO_2_B', '2XPX_2_B', '4XPG_3_H', '4XPM_1_A', '1XQ5_1_A', '1XQ7_2_D', '1XQH_2_B', '2XQ2_2_B', '2XQQ_2_E', '1XR0_1_A', '1XRZ_1_A', '2XRW_2_B', '1XSW_1_A', '2XS0_2_B', '2XS1_2_B', '2XS3_2_C', '2XS8_2_B', '2XSK_1_A', '4XSA_1_A', '4XSB_1_A', '4XSS_3_F', '4XST_2_F', '1XT7_1_A', '2XTT_1_A', '4XT9_2_B', '4XTR_4_G', '2XU7_2_C', '2XUM_2_S', '1XV4_1_A', '1XV7_1_A', '1XV9_3_E', '1XVM_2_B', '1XVP_3_E', '2XVC_2_B', '4XVJ_1_A', '4XVU_4_g', '1XW7_1_A', '1XW7_2_B', '1XWJ_2_B', '4XW4_2_B', '4XW5_2_B', '4XW6_2_B', '4XWO_4_a', '1XXP_2_C', '1XXZ_1_A', '2XXM_3_T', '2XXN_2_B', '4XXD_3_C', '1XY1_1_A', '1XY2_1_A', '1XY4_1_A', '1XY5_1_A', '1XY6_1_A', '1XY8_1_A', '1XY9_1_A', '2XYI_2_B', '4XYN_1_P', '2XZQ_3_P', '4XZ1_2_B', '1Y03_1_A', '1Y04_1_A', '1Y0J_2_B', '2Y06_3_P', '2Y07_3_P', '2Y0I_2_S', '1Y19_1_A', '2Y1L_4_G', '2Y1N_2_B', '4Y10_2_I', '4Y11_2_I', '4Y18_2_I', '4Y19_3_C', '4Y1A_3_C', '4Y1C_2_C', '4Y1D_2_D', '1Y29_1_A', '1Y2P_1_A', '4Y28_3_I', '4Y29_2_B', '4Y2G_2_B', '1Y32_1_A', '1Y3A_2_E', '2Y36_3_P', '2Y3J_1_A', '2Y3K_1_A', '2Y3L_1_A', '2Y3Y_2_Q', '4Y3O_2_C', '4Y3U_3_C', '1Y43_1_A', '1Y49_1_A', '1Y4E_1_A', '2Y48_3_C', '2Y4V_2_B', '4Y49_4_E', '1Y58_1_A', '1Y5C_1_A', '2Y5M_1_A', '2Y65_2_W', '2Y6N_1_A', '2Y6S_3_P', '4Y69_15_c', '4Y6A_15_c', '4Y6L_2_C', '4Y6O_2_C', '2Y74_1_A', '2Y7L_2_B', '4Y75_15_c', '4Y77_15_c', '4Y78_15_1', '4Y7R_2_B', '2Y8S_2_B', '2Y8T_2_B', '4Y80_15_c', '4Y81_15_c', '4Y82_15_c', '4Y8O_15_c', '4Y8Q_15_c', '4C10_1_4', '4C10_2_5', '4C1A_1_A', '4C1Q_2_C', '5C11_2_B', '5C13_2_P', '5C1B_2_V', '1C26_1_A', '1C2U_1_A', '2C23_2_P', '2C2K_3_C', '2C2L_2_E', '2C2M_3_C', '2C2O_3_C', '2C2Z_3_C', '3C27_1_A', '3C27_3_H', '3C2A_3_P', '4C2C_2_B', '4C2C_3_C', '4C2D_2_E', '4C2D_3_M', '4C2D_4_N', '4C2F_2_B', '4C2F_3_C', '4C2G_2_B', '4C2G_3_C', '5C26_2_B', '5C27_2_D', '3C3F_1_A', '3C3G_1_A', '3C3H_1_A', '3C3O_2_B', '3C3Q_2_B', '3C3R_2_B', '4C31_1_A', '4C31_3_C', '4C33_2_I', '4C34_2_I', '4C35_2_I', '4C36_2_I', '4C37_2_I', '4C38_2_I', '5C3F_2_B', '5C3G_2_B', '5C3I_4_D', '5C3L_5_H', '1C49_1_A', '1C4B_1_A', '1C4D_1_A', '1C4E_1_A', '1C4U_1_1', '1C4U_3_3', '1C4V_1_1', '1C4V_3_3', '1C4Y_1_1', '1C4Y_3_3', '3C4M_2_C', '1C5F_2_B', '1C5L_1_L', '1C5L_3_I', '1C5N_1_L', '1C5N_3_I', '1C5O_1_L', '1C5O_3_I', '1C5W_1_A', '1C5X_1_A', '1C5Y_1_A', '1C5Z_1_A', '2C5I_1_P', '2C5K_1_P', '2C5W_1_A', '3C59_2_B', '3C5I_2_E', '3C5J_3_C', '3C5L_2_B', '3C5T_2_B', '4C56_6_F', '4C5A_2_C', '4C5E_2_E', '4C5G_2_B', '4C5I_2_C', '5C56_1_B', '5C5E_2_G', '4Y8U_15_1', '1Y98_2_B', '2Y9Q_2_B', '4YA9_15_c', '1YBO_2_C', '2YB8_1_A', '2YBF_2_B', '2YBP_2_C', '2YBS_2_C', '1YC5_2_B', '1YCP_3_F', '1YCQ_2_B', '1YCR_2_B', '4YCL_1_A', '4YCM_1_A', '4YCN_1_A', '1YDI_2_B', '1YDP_3_P', '1YDR_2_I', '1YDS_2_I', '1YDT_2_I', '2YDQ_2_T', '2YDR_2_P', '2YDS_2_T', '4YDM_1_A', '4YDN_1_A', '4YDV_1_P', '2YEN_1_A', '2YEP_2_B', '2YEZ_3_C', '4YES_1_A', '4YES_3_H', '1YF4_2_B', '1YFN_2_E', '4YF9_2_B', '4YFA_2_B', '4YFB_2_B', '1YGR_2_C', '2YGV_2_E', '4YG8_1_A', '4YGW_1_b', '2YHX_1_A', '4YHH_21_V', '4YHZ_3_P', '1YIT_5_8', '1YIU_1_A', '2YIB_2_D', '4YI0_2_A', '4YIA_2_B', '1YJM_2_E', '1YJW_5_4', '2YJ1_2_B', '2YJA_1_A', '2YJD_2_C', '2YJV_2_M', '4YJ4_2_B', '4YJL_2_G', '1YK0_2_E', '1YK1_2_E', '2YKA_2_B', '2YKT_2_B', '4YK9_2_B', '1YL8_1_A', '1YL9_1_A', '2YLE_2_B', '4YL6_2_B', '1YM0_2_B', '1YMM_3_C', '1YMT_2_B', '2YMB_2_F', '2YMT_2_B', '4YM4_2_B', '1YN6_3_C', '1YN7_3_C', '2YNN_2_P', '2YNO_2_P', '2YNP_2_P', '2YNS_2_C', '4YNK_2_C', '4YNL_2_D', '4YNN_2_I', '4YNN_3_J', '4YNN_4_K', '4YNN_5_Q', '1YOD_1_A', '1YOK_2_B', '1YOW_2_B', '2YOM_1_A', '2YON_1_A', '4YO0_3_E', '4YOO_2_X', '4YOZ_2_B', '1YP0_2_B', '1YP1_2_B', '1YP8_1_A', '1YPE_1_L', '1YPE_3_I', '1YPG_1_L', '1YPG_3_I', '1YPH_1_A', '1YPJ_1_L', '1YPJ_3_I', '1YPK_1_L', '1YPK_3_I', '1YPL_1_L', '1YPL_3_I', '1YPM_1_L', '1YPM_3_I', '2YPK_3_C', '2YPL_3_C', '4YPI_2_G', '2YQ6_2_B', '2YQ7_2_B', '1YR5_2_B', '1YRF_1_A', '1YRI_1_A', '1YRK_2_B', '4YR6_3_C', '2YS5_2_B', '2YSC_1_A', '4YSI_2_B', '1YT6_1_A', '1YTG_2_I', '1YTH_2_I', '1YTI_2_I', '1YTJ_2_I', '1YTR_1_A', '1YUC_2_C', '2YU7_2_B', '1YVH_2_B', '1YVL_2_C', '2YVC_2_D', '4YV9_2_E', '1YWH_2_B', '1YWT_2_C', '4YWC_2_C', '4YXB_2_C', '4YXR_2_I', '4YXS_2_I', '1YY1_1_A', '1YY2_1_A', '1YY4_2_C', '1YY6_2_B', '1YYB_1_A', '1YYE_2_C', '1YYL_4_M', '1YYM_4_M', '1YYP_2_B', '2YYF_1_A', '2YYR_2_P', '4YY3_21_V', '4YY6_2_Z', '4YYD_2_Z', '4YYH_2_Z', '4YYI_2_C', '4YYJ_2_C', '4YYK_2_C', '4YYM_2_Z', '4YYN_2_Z', '4YYP_2_B', '1YZ2_1_A', '4YZ6_2_B', '4YZH_2_B', '4Z09_2_C', '4Z0D_2_C', '4Z0E_2_C', '4Z0F_2_C', '4Z0R_2_D', '4Z0W_1_A', '4Z0X_3_C', '4Z0Y_2_E', '4Z0Z_2_E', '4Z10_2_G', '4Z15_1_A', '4Z1R_1_A', '4Z1T_1_A', '4Z1U_1_A', '1Z2T_1_A', '2Z23_2_B', '2Z2P_2_C', '2Z2T_1_A', '2Z2T_2_D', '4Z2O_2_P', '4Z2P_2_P', '4Z2V_2_P', '1Z3L_1_S', '1Z3M_1_S', '1Z3P_1_S', '2Z32_2_B', '2Z34_2_C', '2Z3C_2_B', '2Z3D_2_I', '2Z3E_2_I', '2Z3F_2_I', '2Z3L_2_C', '2Z3N_2_C', '2Z3S_1_A', '4Z33_2_C', '2Z4E_4_S', '2Z4E_5_I', '2Z4J_2_B', '1Z56_3_D', '1Z56_4_E', '1Z56_5_F', '1Z56_6_G', '1Z56_7_I', '1Z56_8_J', '1Z56_9_K', '2Z5K_2_B', '2Z5M_2_B', '2Z5N_2_B', '2Z5O_2_B', '2Z5S_2_P', '2Z5T_2_P', '4Z5W_2_P', '1Z64_1_A', '1Z65_1_A', '2Z6W_2_M', '4Z61_3_P', '4Z63_2_P', '4Z64_3_P', '4Z68_2_E', '1Z71_2_B', '1Z7Z_4_4', '4Z76_3_C', '4Z77_3_C', '4Z78_3_C', '4Z7I_2_C', '4Z7P_1_A', '4Z7U_5_I', '4Z7V_5_I', '4Z7W_5_I', '1Z8G_2_L', '1Z8I_1_A', '1Z8Y_3_I', '1Z8Y_4_J', '2Z8C_2_B', '4Z80_2_C', '4Z83_2_I', '4Z84_2_I', '4Z88_2_M', '4Z89_2_a', '4Z8A_2_B', '4Z8J_2_B', '4Z8M_2_C', '1Z9O_2_G', '2Z9I_2_D', '2Z9I_3_G', '4Z9V_2_C', '1ZA8_1_A', '1ZAF_2_C', '1ZAV_2_U', '1ZAW_2_U', '1ZAX_2_U', '4ZAR_2_B', '1ZBN_2_B', '2ZBD_1_A', '2ZBE_1_A', '2ZBF_1_A', '2ZBG_1_A', '4ZBJ_4_D', '4ZBL_1_A', '2ZC5_1_A', '2ZC6_1_A', '2ZC9_1_L', '2ZC9_3_I', '2ZCK_2_S', '1ZDA_1_A', '1ZDB_1_A', '1ZDC_1_A', '1ZDD_1_A', '1ZDT_2_P', '1ZDU_2_P', '2ZD7_2_C', '2ZDA_1_L', '2ZDA_3_I', '2ZDV_1_L', '2ZDV_3_I', '3ZDF_2_C', '3ZDI_2_B', '3ZDL_2_B', '3ZDY_5_I', '3ZDZ_5_I', '4ZDU_2_B', '1ZE7_1_A', '1ZE9_1_A', '1ZEA_3_A', '1ZEC_1_A', '1ZEG_1_A', '1ZEG_2_B', '1ZEH_1_A', '1ZEH_2_B', '3ZE0_5_I', '3ZE1_5_I', '3ZE2_5_I', '3ZE6_2_B', '3ZE7_2_B', '3ZE8_2_B', '3ZE9_2_B', '3ZEA_2_B', '4ZEQ_2_B', '4ZEZ_3_C', '1ZFD_1_A', '1ZFO_1_A', '1ZFP_2_I', '2ZF0_1_L', '2ZF0_3_I', '2ZFF_1_L', '2ZFF_3_I', '2ZFP_1_L', '2ZFP_3_I', '2ZFQ_1_L', '2ZFQ_3_I', '2ZFR_1_L', '2ZFR_3_I', '2ZFX_2_C', '4ZF4_1_A', '4ZF5_1_A', '4ZFS_1_A', '1ZGI_2_B', '1ZGL_3_C', '1ZGV_2_B', '1ZGX_2_B', '1ZGY_2_B', '2ZG0_1_L', '2ZG0_3_I', '2ZGB_1_L', '2ZGB_3_I', '2ZGH_2_B', '2ZGJ_2_B', '2ZGX_1_L', '2ZGX_3_I', '3ZG6_2_F', '3ZGC_2_C', '4ZGM_2_B', '1ZH7_2_C', '1ZHB_3_C', '1ZHK_3_C', '1ZHL_3_C', '2ZHE_1_L', '2ZHE_3_I', '2ZHF_1_L', '2ZHF_3_I', '2ZHQ_1_L', '2ZHQ_3_I', '2ZHR_2_C', '2ZHW_1_L', '2ZHW_3_I', '4ZHB_2_B', '4ZHK_1_A', '4ZHL_2_P', '4ZHM_1_P', '1ZII_1_A', '1ZIJ_1_A', '1ZIK_1_A', '1ZIL_1_A', '1ZIM_1_A', '2ZI2_1_L', '2ZI2_3_I', '2ZIQ_1_L', '2ZIQ_3_I', '3ZI3_1_A', '3ZI3_2_B', '3ZIL_2_B', '3ZIN_2_B', '3ZIO_2_B', '3ZIP_2_B', '3ZIR_2_B', '4ZI1_2_B', '4ZIE_2_C', '4ZIF_2_B', '4ZIG_2_B', '4ZIH_2_B', '4ZII_2_C', '4ZIN_1_A', '4ZIO_1_A', '1ZJQ_1_A', '2ZJD_2_B', '2ZJP_4_4', '2ZJQ_30_4', '2ZJR_30_4', '4ZJ1_1_A', '4ZJ2_1_A', '4ZJ3_1_A', '4ZJ4_2_B', '4ZJ5_2_P', '4ZJ6_2_B', '4ZJX_2_B', '1ZKK_2_E', '1ZKY_2_C', '2ZKA_1_A', '2ZKB_1_A', '2ZKS_2_C', '3ZKE_2_B', '3ZKF_2_B', '3ZKT_1_A', '4ZKN_2_P', '4ZKS_2_P', '1ZLA_6_K', '1ZLC_1_A', '2ZL2_2_O', '2ZL2_3_R', '2ZL4_2_O', '2ZL9_2_C', '2ZLA_2_C', '2ZLC_2_C', '2ZLF_2_B', '1ZMH_1_A', '1ZMI_1_A', '1ZMK_1_A', '1ZMM_1_A', '1ZMP_1_A', '1ZMQ_1_A', '1ZMS_2_B', '2ZM6_21_V', '2ZMH_2_C', '2ZMI_2_C', '2ZMJ_2_C', '3ZMP_2_C', '3ZMQ_2_C', '3ZMT_3_C', '3ZMU_3_C', '3ZMV_3_C', '3ZMZ_3_C', '1ZNF_1_A', '1ZNI_1_A', '1ZNI_2_B', '1ZNJ_1_A', '1ZNJ_2_B', '1ZNM_1_A', '1ZNT_1_A', '1ZNU_1_A', '2ZNE_2_C', '2ZNF_1_A', '2ZNK_1_L', '2ZNK_3_I', '3ZN0_3_C', '3ZN1_3_C', '3ZN8_5_S', '3ZNF_1_A', '3ZNH_2_B', '3ZNI_2_B', '4ZN7_2_C', '4ZN9_2_C', '4ZNF_1_A', '4ZNH_2_C', '4ZNS_2_C', '4ZNT_2_C', '4ZNU_2_C', '4ZNV_2_C', '4ZNW_2_C', '4ZNY_2_B', '5ZNF_1_A', '7ZNF_1_A', '2ZO3_1_L', '2ZO3_3_I', '2ZOK_3_I', '2ZOL_3_F', '3ZO1_2_I', '3ZO2_2_I', '3ZO3_2_I', '3ZO4_2_I', '4ZO1_2_A', '4ZOX_2_B', '4ZOZ_2_Y', '1ZPX_1_A', '2ZP6_1_A', '2ZP6_2_B', '2ZPK_3_P', '2ZPN_2_E', '2ZPP_1_A', '2ZPP_2_B', '2ZPY_2_B', '3ZPV_1_0', '3ZQ8_1_A', '3ZQF_2_C', '3ZQG_2_C', '3ZQH_2_C', '3ZQI_2_C', '3ZQR_1_A', '3ZQR_2_B', '1ZR7_1_A', '1ZRB_2_B', '1ZRV_1_A', '1ZRW_1_A', '3ZRJ_2_X', '3ZRK_2_X', '3ZRL_2_X', '3ZRM_2_X', '3ZRZ_2_C', '4ZRI_2_C', '4ZRK_2_E', '4ZRO_2_E', '4ZRT_2_B', '1ZSD_3_C', '1ZSG_2_B', '3ZS2_1_A', '3ZS2_2_B', '3ZS6_2_B', '3ZS9_2_C', '4ZSH_2_B', '1ZTA_1_A', '1ZTN_1_A', '1ZTO_1_A', '2ZT9_5_E', '2ZT9_6_F', '2ZT9_7_G', '2ZT9_8_H', '2ZTA_1_A', '4ZTD_2_D', '1ZUB_2_B', '1ZUV_1_A', '1ZUZ_2_B', '3ZU1_1_A', '3ZU1_2_B', '4ZU1_2_A', '4ZUB_2_C', '4ZUC_2_C', '4ZUH_2_C', '4ZUS_3_C', '4ZUT_3_C', '4ZUV_3_C', '4ZUW_3_C', '1ZV8_2_B', '1ZVB_1_A', '1ZVZ_2_B', '2ZVK_2_U', '2ZVL_2_U', '2ZVM_2_U', '2ZVV_2_Y', '2ZVW_2_I', '3ZVY_2_C', '4ZVO_3_E', '4ZVP_3_E', '4ZVQ_3_E', '4ZVR_3_E', '4ZVS_3_E', '4ZVT_3_E', '4ZVU_3_E', '1ZW2_2_B', '1ZW3_2_B', '1ZWA_1_A', '1ZWB_1_A', '1ZWC_1_A', '1ZWD_1_A', '1ZWE_1_A', '1ZWF_1_A', '1ZWG_1_A', '1ZWU_1_A', '3ZWZ_2_B', '4ZW2_2_B', '4ZWH_2_C', '4ZWK_2_C', '2ZXM_2_C', '2ZXN_2_C', '2ZXZ_2_B', '1ZY1_2_D', '1ZY3_2_B', '1ZY6_1_A', '1ZYS_2_B', '2ZY0_2_B', '3ZY0_1_A', '2ZZO_1_N', '2ZZO_2_C', '3ZZY_2_C', '3ZZZ_2_C', '1C6W_1_A', '2C6W_1_A', '3C66_2_C', '3C6W_2_B', '5C6D_2_C', '5C6H_2_B', '2C7U_3_C', '4C7B_2_B', '5C7E_2_G', '5C7F_2_E', '5C7Z_2_B', '2C8Q_1_A', '2C8Q_2_B', '2C8R_1_A', '2C8R_2_B', '2C8W_1_A', '2C8W_3_I', '2C8X_1_A', '2C8X_3_I', '2C8Y_1_A', '2C8Y_3_I', '2C8Z_1_A', '2C8Z_3_I', '1C94_1_A', '1C98_1_A', '1C9A_1_A', '1C9I_2_C', '1C9L_2_C', '2C90_1_A', '2C90_3_I', '2C93_1_A', '2C93_3_I', '2C9F_2_S', '2C9T_2_K', '3C9C_2_B', '3C9J_1_A', '4C93_2_D', '4C95_2_D', '1CA0_1_A', '1CA8_1_A', '1CA8_3_C', '1CA9_2_G', '1CAG_1_A', '1CAN_1_A', '1CAO_1_A', '3CAA_2_B', '3CAL_2_B', '3CAO_1_A', '3CAR_1_A', '3CAY_1_A', '4CAA_2_B', '4CAT_1_A', '4CAY_3_C', '5CAD_1_A', '5CAW_2_B', '1CB3_1_A', '1CBH_1_A', '1CBW_1_A', '2CBA_1_A', '2CBB_1_A', '2CBC_1_A', '2CBD_1_A', '2CBE_1_A', '2CBH_1_A', '2CBL_2_B', '3CB8_2_B', '3CBA_1_A', '3CBL_2_B', '3CBM_2_B', '3CBO_2_B', '1CC1_2_L', '1CCR_1_A', '2CCE_1_A', '2CCF_1_A', '2CCH_3_E', '2CCI_3_F', '2CCN_1_A', '2CCO_1_A', '3CC5_3_C', '3CCH_3_C', '4CC2_2_B', '4CC3_2_B', '4CC7_2_B', '4CC8_1_A', '4CC8_2_D', '4CCM_2_C', '4CCN_2_C', '4CCO_2_C', '5CCL_1_A', '1CDK_2_I', '1CDL_2_E', '1CDM_2_B', '1CDP_1_A', '2CDR_3_I', '3CD3_2_B', '3CDG_5_P', '3CDW_2_H', '5CDC_4_D', '5CDW_2_D', '1CE0_1_A', '1CE1_3_P', '1CE4_1_A', '1CE6_3_C', '1CE9_1_A', '1CEK_1_A', '2CE8_2_X', '2CEF_1_A', '2CEH_1_A', '2CEU_1_A', '2CEU_2_B', '2CEZ_1_A', '4CE4_5_5', '4CE4_14_F', '4CE4_18_P', '4CE4_19_Q', '4CE4_23_U', '4CE4_24_V', '4CE4_25_W', '4CE4_26_X', '4CE4_29_c', '4CE4_30_h', '4CE4_33_o', '4CE4_35_v', '4CE4_36_x', '4CE4_37_z', '5CEH_2_B', '1CF0_2_C', '1CFF_2_B', '1CFG_1_A', '1CFN_3_C', '1CFS_3_C', '1CFW_1_A', '2CF8_3_L', '2CF9_3_L', '2CFJ_1_A', '3CF5_4_4', '3CFS_2_E', '3CFV_2_E', '4CFH_3_C', '5CFA_2_D', '5CFC_4_D', '5CFD_4_D', '1CG9_3_C', '1CGD_1_A', '1CGM_2_E', '4CG4_1_A', '4CG5_3_C', '4CG6_4_D', '4CG7_3_C', '4CGQ_2_Q', '4CGU_3_C', '4CGV_2_E', '4CGW_2_C', '5CGN_2_E', '5CGO_1_A', '1CHL_1_A', '1CHO_1_E', '2CHA_1_A', '2CHN_2_C', '2CHO_2_C', '3CH1_3_C', '3CH8_2_P', '3CHF_2_C', '3CHX_4_D', '3CHX_5_M', '4CH2_1_A', '4CH2_3_P', '4CH8_1_A', '4CH9_2_C', '4CHA_1_A', '4CHB_2_C', '5CH1_3_D', '5CH1_4_E', '5CH2_3_E', '5CHA_1_A', '5CHV_2_C', '6CHA_1_A', '1CIQ_2_B', '1CIR_2_B', '3CII_3_C', '4CIC_2_Q', '4CIM_2_P', '4CIN_2_C', '5CI0_1_A', '5CI1_1_A', '5CI2_1_A', '5CI3_1_A', '5CIL_3_P', '5CIN_3_P', '5CIU_2_C', '1CJQ_1_A', '1CJR_1_A', '2CJX_3_I', '2CJY_3_I', '5CJ6_2_B', '5CJO_4_a', '1CKK_2_B', '1CKW_1_A', '1CKX_1_A', '1CKY_1_A', '1CKZ_1_A', '2CK0_3_P', '2CK4_1_A', '2CK5_1_A', '3CK4_1_A', '3CK4_2_B', '3CKS_1_A', '3CKU_1_A', '4CKT_2_C', '1CLV_2_I', '2CLR_3_C', '3CLD_2_H', '1CM1_2_B', '1CM4_2_B', '1CMI_2_C', '1CMK_2_I', '1CMR_1_A', '2CMY_2_B', '3CM8_2_B', '3CMH_1_A', '5CMX_1_L', '5CMZ_1_A', '5CMZ_2_B', '6CMH_1_A', '1CN2_1_A', '1CN3_2_F', '1CNL_1_A', '1CNN_1_A', '1A7Y_1_A', '1A7Z_1_A', '2A79_3_C', '2A79_4_D', '2A7U_1_A', '3A79_3_C', '4A7E_1_A', '4A7E_2_B', '4A7J_2_B', '5A7U_1_A', '5A7V_1_A', '1A81_2_B', '1A8A_1_A', '1A8B_1_A', '5A86_2_C', '5A8L_9_Z', '5A8R_1_A', '5A8S_1_A', '5A8U_1_A', '5A8V_1_A', '1A93_1_A', '1A93_2_B', '1A9E_3_C', '2A93_1_A', '2A93_2_B', '2A9H_2_E', '2A9X_2_1', '3A9E_3_I', '3A9J_3_C', '3A9K_3_C', '5A99_1_A', '5A9A_1_A', '1AA5_1_A', '1AA6_1_A', '2AA1_1_A', '2AAL_1_A', '2AAP_1_A', '3AA0_3_C', '3AA1_3_C', '3AA6_3_C', '3AAE_3_X', '4AA1_2_P', '4AA2_2_P', '5AAY_1_A', '5AAZ_1_A', '1AB9_1_A', '1AB9_4_D', '1ABI_1_L', '1ABI_3_I', '1ABJ_1_L', '1ABO_2_C', '1ABT_2_B', '1ABZ_1_A', '2AB3_1_A', '2AB7_1_A', '2AB9_1_A', '4ABI_2_B', '4ABJ_2_B', '1ACW_1_A', '1ACY_3_P', '2CN0_3_L', '2CNK_3_I', '2CNL_3_I', '2CNN_3_I', '2CNQ_1_A', '2CNU_1_A', '2CNV_1_A', '2CNX_2_P', '2CNY_2_B', '2CNZ_2_B', '5CNY_1_A', '5CNY_2_B', '5CNZ_3_C', '1COI_1_A', '1COS_1_A', '2CO0_2_B', '2CO1_2_B', '2CO2_2_B', '2CO4_2_B', '3COJ_2_H', '5CO2_1_A', '5CO2_2_B', '5CO5_2_F', '5CO6_1_A', '5CO6_2_B', '5CO9_1_A', '5CO9_2_B', '1CP3_2_C', '1CPH_1_A', '1CPH_2_B', '1CPI_2_C', '2CPK_2_I', '3CPL_3_E', '4CPA_2_I', '4CPV_1_A', '5CP0_2_C', '5CPV_1_A', '1CQ0_1_A', '1CQ4_2_B', '1CQG_2_B', '1CQH_2_B', '3CQU_2_C', '3CQW_2_C', '3CQZ_11_M', '4CQO_2_B', '5CQ2_2_B', '5CQ9_2_C', '5CQX_2_C', '5CQY_2_C', '1CRA_1_A', '1CRC_1_A', '2CRD_1_A', '3CRE_3_C', '3CRF_3_C', '3CRP_1_A', '3CRP_2_B', '4CRI_2_C', '5CRV_2_C', '5CRW_2_B', '1CS9_1_A', '1CSA_1_A', '1CSC_1_A', '2CSA_1_A', '2CSC_1_A', '3CS0_2_B', '3CS8_2_B', '3CSC_1_A', '4CSC_1_A', '4CSE_2_C', '4CSJ_2_B', '4CSU_9_8', '5CS2_2_B', '5CSC_1_A', '5CSZ_3_D', '1CT6_1_A', '1CTA_1_A', '1CTD_1_A', '1CTI_1_A', '1CTP_2_I', '2CTI_1_A', '3CTI_1_A', '3CTS_1_A', '5CTS_1_A', '6CTS_1_A', '1CU4_3_P', '4CU4_2_B', '4CUG_2_E', '5CUI_1_A', '5CUJ_1_A', '5CUM_1_A', '1CV9_1_A', '1CVQ_1_A', '1CVU_2_F', '2CV3_2_B', '2CVY_2_B', '4CVZ_3_C', '5CVD_2_D', '5CVE_2_D', '5CVO_1_A', '1CW6_1_A', '1CW8_1_A', '1CWA_2_C', '1CWB_2_C', '1CWC_2_C', '1CWD_2_P', '1CWF_2_C', '1CWH_2_C', '1CWI_2_C', '1CWJ_2_C', '1CWK_2_C', '1CWL_2_C', '1CWM_2_C', '1CWO_2_C', '1CWZ_1_A', '2CWG_2_D', '3CWB_9_I', '3CWD_2_C', '4CW1_3_C', '5CWW_3_C', '3CXD_3_P', '3CXW_2_B', '4CXK_1_A', '4CXL_1_A', '4CXL_2_B', '4CXN_1_A', '4CXN_2_B', '4CXS_1_A', '4CXU_1_A', '5CX3_2_E', '5CXT_2_B', '5CXV_2_C', '1CYA_1_A', '1CYB_1_A', '1CYN_2_C', '3CYS_2_B', '3CYT_1_O', '3CYY_2_C', '4CY1_2_C', '4CY2_2_C', '4CY2_3_D', '4CY3_2_D', '4CY5_2_C', '4CY5_3_D', '4CY7_1_A', '4CY7_2_B', '4CYD_2_F', '4CYR_1_A', '4CYS_1_A', '5CYT_1_R', '1CZ6_1_A', '1CZQ_1_A', '1CZQ_2_D', '1CZY_2_D', '1CZZ_2_D', '2CZP_1_A', '2CZY_2_B', '4CZ3_1_A', '4CZ4_1_A', '4CZ5_1_A', '4CZ6_1_A', '4CZ7_1_A', '4CZS_2_E', '5CZH_2_B', '5CZI_2_B', '1D00_2_I', '1D01_2_G', '1D0A_2_G', '1D0J_2_G', '1D0R_1_A', '1D0W_1_A', '2D0N_2_B', '3D0L_3_C', '3D0V_3_C', '4D07_2_B', '4D0B_3_C', '4D0C_3_C', '5D0J_2_L', '1D1E_1_A', '1D1F_1_A', '1D1H_1_A', '2D10_2_E', '2D11_2_E', '2D1K_3_C', '3D18_3_C', '3D1E_2_P', '3D1F_2_P', '5D13_2_G', '2D26_2_B', '2D2C_5_E', '2D2C_6_F', '2D2C_7_G', '2D2C_8_H', '2D2P_1_A', '3D23_2_H', '3D24_2_B', '3D25_3_C', '3D2U_4_G', '4D2G_2_D', '4D2H_1_A', '4D2L_2_B', '4D2M_2_B', '5D2L_5_Q', '5D2N_5_G', '1D3D_1_A', '1D3D_3_H', '1D3P_1_A', '1D3P_3_H', '1D3Q_1_A', '1D3Q_3_H', '1D3T_1_A', '1D3T_3_H', '2D31_3_C', '2D3G_2_P', '3D32_2_C', '3D39_3_C', '3D3T_2_P', '3D3V_3_C', '5D3F_2_C', '1D4P_1_A', '1D4P_3_H', '1D4T_2_B', '1D4W_2_C', '3D49_1_L', '3D49_3_I', '3D4B_2_D', '1D5D_1_A', '1D5E_1_A', '1D5G_2_B', '1D5H_1_A', '1D5Q_1_A', '2D55_2_C', '2D5W_2_C', '2D5W_3_D', '4D5M_1_A', '5D52_1_A', '5D52_2_B', '5D53_1_A', '5D53_2_B', '5D54_1_A', '5D54_2_B', '5D5E_1_A', '5D5E_2_B', '1D6G_2_B', '1D6W_2_I', '1D6X_1_A', '3D6F_3_C', '3D6H_3_C', '3D6M_3_C', '5D61_2_L', '5D6Y_2_a', '1D7N_1_A', '1D7Q_1_B', '1D7T_1_A', '2D7S_2_B', '3D7V_2_B', '4D7Z_2_B', '5D7E_2_C', '5D7F_2_P', '1D8D_3_P', '1D8E_3_P', '1D8S_1_A', '1D8S_2_D', '1D8S_3_G', '3D81_2_C', '3D8A_2_S', '3D8C_2_B', '4D8I_2_B', '5D81_1_A', '5D82_1_A', '5D83_1_A', '1D9I_2_I', '1D9J_1_A', '1D9K_5_P', '1D9L_1_A', '1D9M_1_A', '1D9O_1_A', '1D9P_1_A', '3D9K_2_Y', '3D9L_2_Y', '3D9N_2_Y', '3D9O_2_Z', '3D9T_2_C', '3D9U_2_B', '5D94_2_B', '5D9E_1_A', '5D9S_3_C', '2DA8_1_A', '3DA9_1_A', '3DA9_3_D', '3DAB_2_B', '3DAC_2_P', '4DAC_1_A', '5DAH_2_C', '5DAI_2_B', '5DBE_2_A', '1DCD_1_A', '2DCI_1_A', '2DCO_1_A', '2DCX_1_A', '3DCG_3_E', '3DCT_2_B', '3DCU_2_B', '4DC2_2_Z', '4DCB_2_F', '4DCJ_3_C', '4DCO_3_C', '4DCP_3_C', '1DD3_2_C', '1DDH_3_P', '1DDM_2_B', '1DDU_1_A', '1DDV_2_B', '2DD6_1_A', '2DDE_1_A', '2DDL_1_A', '3DD2_1_L', '3DD7_2_B', '3DDA_2_B', '5DD0_3_P', '5DDH_3_C', '5DDZ_2_B', '1DE7_1_L', '1DE7_3_A', '1DEC_1_A', '1DEI_1_A', '1DEI_2_B', '1DEP_1_A', '2DEW_2_A', '2DEX_2_A', '2DEY_2_A', '2DEZ_1_A', '3DEP_2_B', '5DE2_2_C', '5DE5_2_B', '5DE8_2_B', '5DEA_2_B', '5DEF_3_C', '5DEG_3_C', '1DF6_1_A', '1DFE_1_A', '1DFJ_2_I', '1DFN_1_A', '1DFS_1_A', '1DFT_1_A', '1DFW_1_A', '1DFY_1_A', '1DFZ_1_A', '2DF0_1_A', '2DF6_2_C', '4DFW_2_D', '4DFX_2_I', '4DFZ_2_I', '5DF6_2_B', '5DFZ_6_G', '1DG0_1_A', '1DG2_1_A', '1DGZ_1_A', '3DGJ_1_A', '4DG0_2_I', '4DG2_2_I', '4DG3_2_A', '4DGB_2_B', '4DGC_2_F', '4DGV_3_A', '4DGW_3_C', '4DGY_3_A', '1DHG_1_A', '3DH4_1_A', '3DHK_1_L', '3DHK_3_I', '4DH1_2_I', '4DH3_2_I', '4DH5_2_I', '4DH7_2_I', '4DH8_2_I', '5DH9_4_D', '5DHA_4_D', '5DHF_4_D', '1DIP_1_A', '1DIT_1_L', '1DIT_3_P', '2DI2_1_A', '3DIW_2_C', '4DIG_2_B', '4DIH_1_L', '4DII_1_L', '5DI7_2_C', '5DI8_3_C', '5DI9_4_D', '5DID_2_C', '5DIE_2_C', '5DIF_4_D', '5DIG_2_C', '5DIY_1_P', '1DJF_1_A', '2DJ9_1_A', '2DJC_1_A', '2DJY_2_B', '4DJ9_2_B', '4DJC_2_B', '4DJS_2_B', '4DJZ_3_H', '5DJ0_3_C', '5DJ2_3_C', '5DJ6_3_C', '5DJ8_3_C', '5DJA_3_C', '5DJC_3_C', '5DJD_3_C', '5DJQ_4_N', '5DJX_3_C', '5DJY_3_C', '5DJZ_3_C', '1DKC_1_A', '1DKD_2_E', '1DKX_2_B', '1DKY_2_C', '1DKZ_2_B', '2DKO_3_I', '3DKN_6_C', '4DK7_2_B', '4DK8_2_B', '5DK0_3_C', '5DK2_3_C', '5DK9_2_C', '5DKB_2_C', '5DKE_2_C', '5DKG_2_C', '5DKP_2_O', '5DKS_2_C', '1DL0_1_A', '1DLH_3_C', '1DLK_1_A', '1DLK_3_E', '1DLZ_1_A', '3DLL_30_4', '4DLQ_2_B', '5DL4_2_C', '5DLI_1_A', '5DLM_3_X', '5DLR_2_C', '1DM4_1_A', '1DM4_3_C', '1DMC_1_A', '1DMD_1_A', '1DME_1_A', '1DMF_1_A', '1DML_2_B', '3DM1_2_B', '3DMM_3_P', '4DM6_2_E', '4DM8_2_C', '4DMA_2_E', '4DMD_1_A', '4DME_1_A', '5DMC_2_C', '5DMF_2_C', '5DMG_3_Z', '5DMS_2_B', '5DMV_2_D', '1DN2_2_E', '1DN3_1_A', '1DNG_1_A', '3DND_2_I', '3DNE_2_I', '3DNJ_2_C', '3DNL_1_A', '3DNN_1_A', '3DNO_1_A', '5DN6_1_1', '5DN6_2_2', '5DN6_3_3', '5DN6_10_V', '5DN6_11_W', '5DN6_12_X', '5DN6_13_Y', '1DOJ_2_B', '1DOW_2_B', '2DO2_2_P', '2DOH_2_C', '2DOI_2_C', '3DOW_2_B', '4DOR_2_C', '4DOS_2_B', '5DO4_1_L', '5DOQ_3_C', '5DOW_2_B', '1DPH_1_A', '1DPH_2_B', '1DPJ_2_B', '1DPK_1_A', '1DPQ_1_A', '1DPU_2_B', '2DP4_2_I', '2DPQ_1_A', '2DPR_1_A', '3DPC_2_C', '3DPO_2_C', '3DPP_2_C', '3DPQ_2_C', '3DPR_5_E', '5DP0_2_C', '5DPJ_1_A', '5DPW_2_B', '1DQC_1_A', '2DQS_1_A', '3DQB_2_B', '4DQM_2_B', '2DRN_2_C', '3DR1_2_B', '3DRF_2_B', '3DRG_2_B', '3DRH_2_B', '3DRI_2_B', '3DRJ_2_B', '3DRK_2_B', '3DRO_3_P', '3DRQ_3_C', '3DRT_3_C', '4DR1_12_L', '4DR1_21_U', '4DR2_12_L', '4DR2_21_U', '4DR3_12_L', '4DR3_21_U', '4DR4_12_L', '4DR4_21_U', '4DR5_12_L', '4DR5_21_U', '4DR6_12_L', '4DR6_21_U', '4DR7_12_L', '4DR7_21_U', '5DRJ_2_C', '5DRM_2_C', '5DRV_2_B', '5DRZ_3_Q', '1DS2_2_I', '1DS3_1_I', '1DS5_2_E', '1DSC_2_C', '1DSD_2_C', '1DSJ_1_A', '1DSK_1_A', '1DSQ_1_A', '1DSR_1_A', '1DSV_1_A', '2DS2_1_A', '2DS8_2_P', '3DS0_2_T', '3DS1_2_T', '3DS3_2_C', '3DS4_2_T', '3DS9_2_B', '3DSF_3_P', '4DS1_2_B', '5DS8_3_P', '5DSC_3_P', '5DSH_2_B', '1DT7_2_X', '1DTC_1_A', '2DT7_1_A', '2DTB_1_A', '3DT0_1_L', '3DT0_3_I', '4DT7_1_A', '4DT7_3_E', '5DTF_3_P', '5DTV_2_C', '1DU1_1_A', '1DU9_1_A', '1DUM_1_A', '1DUY_3_C', '1DUZ_3_C', '2DUJ_2_P', '3DUX_1_L', '3DUX_3_I', '4DU0_1_A', '4DUY_12_L', '4DUY_21_U', '4DUZ_12_L', '4DUZ_21_U', '5DU5_2_C', '5DUB_3_P', '5DUE_2_C', '5DUG_2_C', '5DUH_2_C', '1DVA_3_X', '1DVW_1_A', '2DVQ_2_P', '2DVR_2_P', '3DVE_2_B', '3DVJ_2_B', '3DVK_2_B', '3DVM_2_B', '3DVP_2_C', '3DVU_2_C', '4DV0_12_L', '4DV0_21_U', '4DV1_12_L', '4DV1_21_U', '4DV2_12_L', '4DV2_21_U', '4DV3_12_L', '4DV3_21_U', '4DV4_12_L', '4DV4_21_U', '4DV5_12_L', '4DV5_21_U', '4DV6_12_L', '4DV6_21_U', '4DV7_12_L', '4DV7_21_U', '4DV9_2_B', '4DVF_2_C', '5DV3_2_B', '5DV6_2_B', '5DV8_2_B', '5DVC_2_B', '5DVK_2_B', '5DVL_2_B', '5DVM_2_B', '5DVN_2_B', '5DVS_2_C', '5DVV_2_C', '1DW4_1_A', '1DW5_1_A', '1DWB_1_L', '1DWB_3_I', '1DWC_1_L', '1DWC_3_I', '1DWD_1_L', '1DWD_3_I', '1DWE_1_L', '1DWE_3_I', '1DWM_1_A', '2DWF_1_A', '2DWX_2_P', '5DWE_2_C', '5DWG_2_C', '5DWI_2_C', '5DWJ_2_C', '5DWL_2_B', '5DWQ_2_F', '5DWS_2_B', '1DX5_1_A', '1DX5_2_E', '1DXG_1_A', '1DXP_2_C', '1DXZ_1_A', '2DX2_1_A', '2DX3_1_A', '2DX4_1_A', '3DX7_3_C', '3DX8_3_C', '3DXA_3_C', '3DXC_2_B', '3DXD_2_B', '3DXE_2_B', '4DX0_2_P', '4DXR_2_B', '4DXS_2_B', '5DX0_2_F', '5DX1_2_F', '5DX3_3_C', '5DX8_2_E', '5DXA_2_F', '5DXB_3_D', '5DXE_2_C', '5DXG_2_C', '5DXK_2_C', '5DXM_2_C', '5DXP_2_C', '5DXQ_2_C', '5DXR_2_C', '1DY8_2_C', '1DY9_2_C', '2DYF_1_A', '2DYH_2_B', '2DYP_3_C', '3DY0_2_B', '4ACM_1_A', '5ACZ_3_C', '1AD7_1_A', '1AD8_1_L', '1AD8_3_I', '2ADV_2_B', '3ADE_2_B', '3ADK_1_A', '5AD0_3_C', '5ADX_6_M', '5ADX_7_N', '5ADX_8_O', '5ADX_9_Q', '5ADX_12_Y', '5ADX_13_Z', '5ADX_16_c', '5ADX_17_d', '5ADY_5_4', '1AE8_1_L', '1AE8_3_I', '4AEI_1_A', '4AEN_3_C', '5AEF_1_A', '5AER_2_B', '1AFE_1_L', '1AFE_3_I', '1AFQ_1_A', '1AFT_1_A', '2AFQ_1_A', '3AFR_2_C', '4AFJ_2_X', '4AFX_2_B', '5AF6_2_F', '5AF9_2_I', '5AF9_3_L', '5AFG_2_B', '5AFP_2_C', '5AFQ_2_D', '5AFU_1_1', '5AFU_2_2', '5AFU_4_5', '5AFU_10_M', '5AFU_11_N', '5AFU_12_O', '5AFU_13_Q', '5AFU_16_Y', '5AFU_17_Z', '5AFU_20_c', '5AFU_21_d', '5AFU_22_z', '5AFY_2_I', '5AFY_3_L', '5AFZ_3_L', '1AG7_1_A', '1AGT_1_A', '2AG3_1_A', '2AGE_2_A', '2AGG_2_A', '2AGH_1_A', '2AGH_3_C', '2AGI_2_A', '5DY6_1_A', '5DY8_2_C', '5DYB_2_C', '5DYD_2_C', '5DYS_1_A', '2DZE_2_X', '3DZ2_2_A', '3DZ3_2_A', '3DZ4_2_A', '3DZ5_2_A', '3DZ6_2_A', '3DZ7_2_A', '3DZU_5_G', '3DZY_5_G', '4DZK_1_A', '4DZL_1_A', '4DZM_1_A', '4DZN_1_A', '4DZU_2_B', '4DZV_2_B', '5DZ0_2_C', '5DZ1_2_C', '5DZ3_2_C', '5DZD_2_C', '5DZH_2_C', '5DZI_2_C', '1E0F_1_A', '1E0L_1_A', '1E0M_1_A', '1E0N_1_A', '1E0Q_1_A', '3E00_5_G', '4E05_1_L', '4E06_1_L', '4E0K_1_A', '4E0L_1_A', '4E0M_1_A', '4E0N_1_A', '4E0O_1_A', '5E0L_2_C', '5E0M_2_C', '5E0U_2_D', '5E0V_2_C', '5E0W_2_C', '5E0X_2_C', '1E1V_1_A', '1E1X_1_A', '2E1X_1_A', '3E1I_4_G', '3E1K_2_B', '3E1R_2_C', '4E1H_1_A', '4E1H_2_B', '4E1I_1_A', '4E1I_2_B', '5E14_2_C', '5E15_2_C', '5E19_2_C', '5E1B_2_D', '5E1C_2_C', '5E1D_2_D', '5E1M_2_D', '5E1O_2_D', '1E27_3_C', '2E2S_1_A', '2E2T_1_A', '2E2U_1_A', '2E2V_1_A', '3E2B_2_C', '3E2L_1_A', '3E2O_1_A', '4E2J_2_C', '5E24_2_B', '5E2A_2_D', '5E2B_2_D', '5E2Q_2_B', '5E2V_3_P', '5E2W_3_P', '1E33_1_P', '2E3K_2_Q', '4E34_2_C', '4E35_2_C', '4E3B_2_C', '5E33_2_B', '5E3A_2_B', '5E3C_2_B', '1E4Q_1_A', '1E4R_1_A', '1E4S_1_A', '1E4T_1_A', '1E4W_3_P', '1E4X_4_P', '2E4E_1_A', '3E4H_1_A', '4E41_3_C', '4E43_2_C', '5E46_1_A', '5E4W_3_E', '1E54_2_B', '2E5L_22_V', '4E5X_3_C', '5E50_2_C', '5E5A_6_K', '5E5V_1_A', '3E6F_3_P', '3E6H_3_P', '4E67_2_B', '4E6R_1_A', '5E61_1_A', '5E6I_5_K', '5E6J_2_B', '5E6O_2_E', '5E6Q_2_A', '1E74_1_A', '1E75_1_A', '1E76_1_A', '2E74_5_E', '2E74_6_F', '2E74_7_G', '2E74_8_H', '2E75_5_E', '2E75_6_F', '2E75_7_G', '2E75_8_H', '2E76_5_E', '2E76_6_F', '2E76_7_G', '2E76_8_H', '3E7C_2_H', '3E7Y_1_A', '3E7Y_2_B', '3E7Z_1_A', '3E7Z_2_B', '4E7R_1_L', '4E7R_3_I', '4E7T_1_A', '4E7T_2_B', '4E7U_1_A', '4E7U_2_B', '4E7V_1_A', '4E7V_2_B', '5E7C_6_F', '5E7C_8_I', '5E7C_9_J', '5E7C_10_K', '5E7C_11_L', '5E7C_12_M', '5E7C_14_T', '5E7C_17_Y', '5E7C_18_X', '5E7V_2_B', '5E7W_1_A', '5E7W_2_B', '1E8N_2_I', '2E8D_1_A', '3E87_2_C', '3E88_2_C', '3E8C_2_G', '3E8D_2_C', '3E8E_2_G', '3E8U_3_P', '3E8Y_1_X', '4E81_2_C', '4E82_1_A', '4E83_1_A', '4E86_1_A', '5E8E_4_L', '5E8F_2_D', '5E8N_3_C', '5E8O_2_C', '5E8P_3_C', '1E91_2_B', '1E9K_1_A', '3E94_2_B', '4E9C_2_B', '4E9D_2_E', '5E9D_3_C', '1EAK_2_P', '2EAR_1_A', '2EAT_1_A', '2EAU_1_A', '3EAN_1_A', '3EAO_1_A', '5EA0_3_P', '5EAY_2_E', '1EB1_1_A', '1EB1_3_L', '1EB1_4_B', '1EBA_2_C', '1EBP_2_C', '5EBW_3_C', '1EC5_1_A', '1ECI_1_A', '1ECI_2_B', '2ECH_1_A', '3ECB_3_P', '3ECH_2_C', '5EC1_3_C', '5EC2_3_C', '5EC6_1_A', '5EC9_2_B', '1ED3_3_C', '1EDM_1_B', '1EDN_1_A', '1EDP_1_A', '1EDS_1_A', '1EDV_1_A', '1EDW_1_A', '3ED7_1_A', '3EDQ_3_E', '3EDR_3_E', '4EDN_2_K', '1EE4_2_C', '1EE5_2_B', '1EE7_1_A', '1EEO_2_B', '1EEY_3_C', '1EEZ_3_C', '2EEM_1_A', '2EEO_1_A', '3EE0_1_A', '5EEL_2_L', '5EEQ_2_L', '1EFR_4_Q', '1EFX_3_C', '2EFA_1_A', '2EFA_2_B', '2EFG_2_B', '2EFZ_1_A', '3EFD_3_K', '3EFO_3_C', '4EFX_1_A', '4EFX_2_B', '5EF5_1_E', '5EFI_3_C', '5EFM_1_A', '5EFT_1_A', '1EG4_1_P', '1EGP_2_B', '1EGS_1_A', '1EGT_1_A', '3EG1_2_C', '3EG6_2_C', '3EG9_3_C', '3EGD_4_D', '3EGK_1_L', '3EGK_3_I', '3EGS_3_C', '3EGX_4_D', '5EG2_2_B', '5EGV_2_C', '1EHK_3_C', '2EH8_3_P', '3EH3_3_C', '3EH4_3_C', '3EH5_3_C', '3EHT_2_B', '3EHU_2_C', '4EHA_2_F', '4EHD_2_B', '4EHF_2_B', '4EHH_2_B', '4EHK_2_B', '4EHL_2_B', '4EHN_2_B', '4EHQ_2_G', '5EH4_1_A', '5EH6_1_A', '5EHB_1_A', '5EHC_2_B', '5EHJ_2_C', '5EHU_1_A', '1EI0_1_A', '1EIT_1_A', '4EIK_2_B', '5EI1_2_C', '5EI3_2_B', '5EIB_4_F', '5EIR_2_B', '5EIT_2_C', '5EIY_3_D', '1EJ4_2_B', '1EJH_2_E', '1EJO_3_P', '1EJP_1_A', '1EJQ_1_A', '1EJY_1_N', '2EJY_2_B', '3EJH_2_E', '4EJD_2_C', '4EJE_2_C', '4EJF_2_E', '4EJK_2_N', '5EJV_2_C', '5EJZ_3_D', '1EKB_3_C', '4EK3_1_A', '4EK4_1_A', '4EK5_1_A', '4EK6_1_A', '4EK8_1_A', '4EKK_2_C', '5EKV_2_B', '2ELM_1_A', '2ELN_1_A', '2ELO_1_A', '2ELP_1_A', '2ELQ_1_A', '2ELR_1_A', '2ELS_1_A', '2ELT_1_A', '2ELU_1_A', '2ELV_1_A', '2ELW_1_A', '2ELX_1_A', '4ELC_1_A', '5ELQ_2_P', '1EMU_2_B', '1EMX_1_A', '1EMZ_1_A', '2EMS_2_B', '2EMT_2_C', '3EMH_2_B', '3EMW_2_B', '3EMY_2_B', '4EMZ_2_D', '5EM9_2_B', '5EMA_2_B', '5EMB_2_B', '4EN2_3_D', '5EN0_1_A', '5EN0_2_B', '5EN9_1_A', '5EN9_2_B', '5ENA_1_A', '5ENA_2_B', '1EOJ_2_B', '1EOL_2_B', '3EOV_2_C', '4EOY_2_D', '5EOC_4_P', '5EOJ_1_A', '5EON_1_A', '5EOQ_3_A', '5EOR_3_A', '1EPL_2_I', '1EPM_2_I', '3EPD_2_0', '4EP2_2_B', '4EP3_2_E', '4EPJ_2_D', '5EPJ_2_B', '5EPK_2_B', '5EPL_2_C', '5EPM_3_C', '5EPP_2_B', '1EQ8_1_A', '1EQX_1_A', '2EQH_1_A', '2EQQ_1_A', '2EQT_1_A', '3EQ0_1_L', '3EQ0_3_I', '3EQS_2_B', '3EQY_2_C', '4EQ0_2_P', '4EQJ_2_G', '5EQ0_2_B', '1ER8_2_I', '1ERF_1_A', '1ERP_1_A', '1ERY_1_A', '2ER7_2_I', '2ER9_2_I', '2ERI_1_A', '2ERZ_2_I', '3ER5_2_I', '3ERD_2_C', '4ER4_2_I', '4ERQ_2_D', '4ERY_2_D', '4ERZ_2_D', '2ESL_2_I', '2ESV_3_P', '2ESX_1_A', '2ESY_1_A', '2ESZ_1_A', '3ESM_1_A', '4ES0_2_C', '4ESA_1_A', '4ESG_2_C', '4EST_2_I', '5ESQ_3_E', '1ET1_1_A', '1ETF_2_B', '1ETG_2_B', '1ETL_1_A', '1ETM_1_A', '1ETN_1_A', '2ETI_1_A', '2ETZ_1_A', '2ETZ_2_B', '3ET1_2_P', '3ET3_2_P', '4ETO_2_P', '5ET1_2_C', '5ET3_1_A', '5ETA_2_D', '5ETF_2_B', '5ETU_3_E', '2EU0_1_A', '2EU0_2_B', '3EU7_2_X', '4EUP_3_F', '5EU3_3_C', '5EU4_3_C', '5EU5_3_C', '5EU6_3_C', '5EU8_2_B', '5EUK_3_E', '1EV3_1_A', '1EV3_2_B', '1EV6_1_A', '1EV6_2_B', '1EVR_1_A', '1EVR_2_B', '2EVQ_1_A', '1EWS_1_A', '1EWX_1_A', '2EW4_1_A', '3EWT_2_E', '3EWV_2_E', '4EWR_2_C', '4EWW_1_A', '4EWW_2_B', '4EWX_1_A', '4EWX_2_B', '4EWZ_1_A', '4EWZ_2_B', '5EWZ_2_C', '1EXY_2_B', '2EX3_2_B', '3EXX_1_A', '3EXX_2_B', '4EX0_1_A', '4EX0_2_B', '4EX1_1_A', '4EX1_2_B', '4EXH_2_J', '4EXT_2_B', '4EXX_1_A', '4EXX_2_B', '5EX0_2_D', '5EX3_2_D', '5EXA_2_C', '5EXY_1_A', '5EXZ_1_A', '1EYO_1_A', '1EYX_3_G', '3EYD_2_B', '3EYF_3_E', '3EYS_3_Q', '4EY1_1_A', '4EY1_2_B', '4EY9_1_A', '4EY9_2_B', '4EYD_1_A', '4EYD_2_B', '4EYN_1_A', '4EYN_2_B', '4EYP_1_A', '4EYP_2_B', '5EYZ_2_E', '1EZE_1_A', '1EZX_2_B', '2EZ5_2_P', '2EZD_3_A', '2EZE_3_A', '2EZF_3_A', '2EZG_3_A', '4EZ1_2_K', '4EZH_2_C', '4EZN_2_C', '4EZO_2_C', '4EZP_2_C', '4EZQ_2_B', '4EZR_2_B', '4EZS_2_B', '4EZT_2_B', '4EZU_2_B', '4EZV_2_C', '4EZW_2_E', '4EZX_2_C', '4EZY_2_B', '4EZZ_2_B', '5EZ0_2_E', '5EZ8_1_A', '5EZ9_1_A', '5EZA_1_A', '5EZC_1_A', '5EZE_1_A', '1F0C_2_B', '1F0D_1_A', '1F0E_1_A', '1F0F_1_A', '1F0G_1_A', '1F0H_1_A', '4F00_2_B', '4F02_3_C', '4F0N_1_A', '4F0N_2_B', '4F0O_1_A', '4F0O_2_B', '5F0N_1_A', '5F0O_1_A', '5F0O_2_E', '1F1J_2_C', '1F1W_2_B', '4F1A_1_A', '4F1A_2_B', '4F1B_1_A', '4F1B_2_B', '4F1C_1_A', '4F1C_2_B', '4F1D_1_A', '4F1D_2_B', '4F1F_1_A', '4F1F_2_B', '4F1G_1_A', '4F1G_2_B', '4F1Z_2_Q', '5F1T_1_A', '1F2S_2_I', '2F2I_1_A', '2F2J_1_A', '3F2M_1_A', '3F2O_2_C', '4F20_2_Q', '4F27_2_Q', '5F2U_2_C', '5F2Y_1_A', '1F3K_1_A', '1F3R_1_A', '2F31_2_B', '2F3A_1_A', '2F3Y_2_B', '2F3Z_2_B', '4F32_2_C', '1F47_2_A', '1F4V_2_D', '2F49_2_C', '2F4K_1_A', '3F4Y_1_A', '3F4Y_2_D', '3F4Z_1_A', '4F4T_1_A', '4F4T_2_B', '4F4U_2_C', '4F4V_1_A', '4F4V_2_B', '1F58_3_P', '1F59_2_C', '2F53_3_C', '2F54_3_C', '2F58_3_P', '2F5B_3_P', '2F5H_1_A', '3F50_1_A', '3F50_2_B', '3F58_3_P', '4F51_1_A', '4F51_2_B', '4F56_2_C', '5F5B_2_B', '5F5G_2_B', '5F5J_2_B', '5F5K_2_B', '5F5U_3_C', '5F5V_3_C', '1F6U_2_A', '2F69_2_B', '2F6A_2_E', '2F6J_2_P', '3F68_1_L', '3F68_3_I', '3F6K_2_N', '5F67_2_C', '5F6K_3_D', '5F6K_4_M', '5F6L_1_J', '1F7A_2_P', '2F74_3_C', '2F7E_2_I', '2F7X_2_I', '2F7Z_2_I', '3F7D_2_B', '3F7O_2_X', '4F73_2_C', '4F74_2_C', '4F75_2_C', '4F76_2_C', '1F80_2_D', '1F8H_2_B', '1F8P_1_A', '1F8Z_1_A', '2F8E_2_A', '3F86_1_A', '3F87_1_A', '4F8F_1_A', '4F8F_2_B', '5F88_3_E', '1F90_3_E', '1F93_2_E', '1F95_2_C', '1F96_2_C', '1F9E_3_Q', '2F91_2_B', '2F9J_2_P', '2F9N_2_E', '2F9P_2_E', '2F9U_2_B', '2F9V_2_B', '3F9W_2_E', '3F9X_2_E', '3F9Y_2_E', '3F9Z_2_E', '4F9M_2_C', '1FAC_1_A', '1FAV_2_C', '2FAI_2_C', '2FAL_1_A', '2FAM_1_A', '4FA7_3_C', '4FAA_3_C', '4FAE_2_D', '4FAF_2_D', '4FAJ_2_B', '1FB9_1_A', '1FBA_1_A', '2FBS_1_N', '2FBU_1_H', '3FBR_2_B', '4FBY_8_I', '4FBY_9_J', '4FBY_10_K', '4FBY_11_L', '4FBY_12_M', '4FBY_14_T', '4FBY_19_Y', '5FB0_2_D', '5FB1_2_C', '5FB6_1_A', '5FB6_2_B', '5FBY_2_B', '5FBZ_3_E', '1FC2_1_C', '1FCT_1_A', '2FCG_1_F', '2FCI_1_B', '4FCM_2_C', '5FC2_1_A', '5FC3_1_A', '5FC8_1_C', '5FCG_2_C', '1FDF_1_A', '1FDH_2_G', '1FDI_1_A', '1FDO_1_A', '3FDL_2_B', '3FDM_2_D', '3FDO_2_B', '3FDT_2_T', '4FDD_2_B', '4FDI_1_A', '4FDJ_1_A', '1FEO_1_A', '1FEV_1_A', '2FEQ_1_L', '2FEQ_3_D', '2FES_1_L', '2FES_3_D', '3FE7_2_L', '3FEA_2_L', '3FEI_2_Z', '3FEJ_2_B', '4FE1_7_I', '4FE1_11_M', '4FE1_12_X', '5FEP_1_A', '3AGY_2_C', '3AGZ_2_C', '4AGI_1_A', '5AGU_2_C', '5AGV_2_C', '5AGW_2_C', '5AGX_3_C', '1AH0_1_A', '1AHT_1_L', '1AHT_3_I', '2AHP_1_A', '3AHA_1_A', '3AHA_2_B', '5AH2_2_E', '5AH4_2_C', '5AHG_2_I', '5AHG_3_L', '1AI0_1_A', '1AI0_2_B', '1AI1_3_P', '1AI8_1_L', '1AI8_3_I', '1AIE_1_A', '1AIK_1_N', '1AIK_2_C', '1AIX_1_L', '1AIX_3_I', '1AIY_1_A', '1AIY_2_B', '2AIG_1_P', '2AIK_2_P', '2AIN_2_B', '2AIY_1_A', '2AIY_2_B', '2AIZ_2_U', '3AIY_1_A', '3AIY_2_B', '4AID_2_F', '4AIF_2_D', '4AIY_1_A', '4AIY_2_B', '5AIY_1_A', '5AIY_2_B', '1AJ1_1_A', '1AJJ_1_A', '2AJJ_1_A', '2AJM_1_A', '2AJN_1_A', '2AJO_1_A', '2AJW_1_A', '4AJU_2_B', '4AJX_1_A', '4AJX_2_B', '4AJY_3_H', '4AJZ_1_A', '4AJZ_2_B', '5AJ3_7_I', '5AJ3_20_a', '5AJ3_24_e', '5AJ3_26_g', '5AJ3_29_j', '5AJ3_33_o', '5AJ3_35_s', '5AJ3_36_z', '5AJ9_1_A', '5AJJ_2_B', '5AJK_2_B', '5AJN_2_P', '5AJO_2_B', '5AJP_2_B', '1AKG_1_A', '1AKJ_3_C', '2AK0_1_A', '2AK4_3_C', '2AKA_2_L', '2AKF_1_A', '4AK0_1_A', '4AK0_2_B', '4AK4_2_B', '4AKB_2_B', '4AKC_2_B', '4AKJ_1_A', '4AKJ_2_B', '4AKT_2_C', '5AKA_5_4', '5AKA_7_6', '1AL1_1_A', '1AL2_1_0', '1AL4_1_A', '1ALE_1_A', '1ALF_1_A', '1ALG_1_A', '1ALX_1_A', '1ALX_2_B', '1ALZ_2_B', '3AL1_1_A', '3AL3_2_B', '5FES_1_A', '5FEX_1_A', '1FF1_2_B', '1FFN_3_C', '1FFO_3_C', '1FFP_3_C', '1FFT_4_D', '1FFX_3_E', '2FF4_2_E', '2FF6_2_H', '2FFF_1_A', '2FFU_2_P', '3FFC_3_C', '5FF3_1_A', '5FF6_3_E', '5FFW_2_C', '1FG2_3_C', '1FGD_1_A', '1FGE_1_A', '1FGL_2_B', '2FGE_2_D', '2FGR_2_B', '4FG3_1_A', '4FG3_2_B', '4FGX_2_B', '4FGY_2_B', '5FGC_1_A', '5FGY_2_B', '1FH3_1_A', '2FHW_1_B', '2FHW_2_A', '3FHO_1_A', '3FHP_1_A', '3FHP_2_B', '3FHV_2_C', '4FHH_2_B', '4FHI_2_B', '1FI0_1_A', '1FIV_2_B', '1FIW_2_L', '1FIZ_2_L', '2FIV_2_I', '3FI2_1_A', '3FIE_2_C', '3FIF_2_Y', '3FII_2_B', '3FIV_2_I', '4FI9_2_B', '4FIF_2_C', '4FII_2_B', '4FIM_2_B', '1FJA_2_C', '1FJG_22_V', '1FJN_1_A', '2FJ4_1_A', '2FJ5_1_A', '3FJQ_2_I', '4FJO_2_B', '4FJO_4_D', '4FJP_2_B', '5FJ8_17_Q', '5FJ9_17_Q', '5FJA_17_Q', '5FJW_2_L', '1FKA_17_Q', '1FKA_20_T', '1FKN_2_C', '2FKA_2_B', '4FKA_1_A', '4FKA_2_B', '4FKG_1_A', '4FKI_1_A', '4FKJ_1_A', '4FKL_1_A', '4FKO_1_A', '4FKP_1_A', '4FKQ_1_A', '4FKR_1_A', '4FKS_1_A', '4FKT_1_A', '4FKU_1_A', '4FKV_1_A', '4FKW_1_A', '5FKP_3_C', '1FLJ_1_A', '1FLL_2_X', '2FLG_1_A', '2FLK_2_B', '2FLU_2_P', '2FLW_2_B', '2FLY_1_A', '3FLO_2_I', '4FL5_2_P', '4FL8_2_C', '4FL8_3_D', '4FLG_2_C', '4FLG_3_E', '4FLG_4_F', '4FLN_2_D', '4FLN_3_E', '5FL7_5_I', '5FLC_1_1', '5FLC_2_2', '5FLC_3_A', '5FLC_5_C', '5FLZ_4_E', '1FM6_3_B', '1FM9_3_B', '1FME_1_A', '1FMH_1_A', '1FMH_2_B', '1FMO_2_I', '2FM2_2_B', '2FMD_1_A', '2FMF_2_B', '2FMH_2_B', '2FMI_2_B', '2FMK_2_B', '3FM7_2_C', '3FMA_2_L', '4FM6_2_C', '4FMN_3_C', '4FMO_3_C', '4FMQ_2_B', '5FM1_4_E', '5FMJ_2_B', '5FMK_2_B', '5FML_1_A', '1FN8_2_B', '2FNS_2_P', '2FNT_2_P', '3FN0_3_P', '4FN5_2_B', '5FN3_5_G', '5FN4_5_G', '1FOZ_1_A', '2FO5_2_E', '2FOJ_2_B', '2FOO_2_B', '2FOP_2_B', '3FOD_1_A', '4FOR_2_B', '5FOS_2_C', '5FOT_2_C', '5FOU_2_C', '5FOV_2_E', '5FOW_2_E', '5FOX_2_C', '1FPC_1_L', '1FPC_3_I', '1FPH_1_L', '1FPH_3_I', '1FPH_4_F', '1FPT_1_P', '3FP2_2_Q', '3FP4_2_Q', '3FP7_2_I', '5FP2_2_X', '5FPI_2_B', '5FPK_2_C', '5FPX_2_E', '2FQ5_1_A', '2FQ8_1_A', '2FQA_1_A', '2FQC_1_A', '3FQ9_1_A', '3FQ9_2_B', '3FQR_3_C', '3FQT_3_C', '3FQU_3_C', '4FQ3_2_B', '1FRG_3_P', '1FRY_1_A', '2FR9_1_A', '2FRB_1_A', '5FRC_1_A', '5FRS_2_C', '1FSD_1_A', '1FSV_1_A', '2FSA_2_P', '3FS1_2_B', '3FSH_2_C', '4FSK_1_A', '2FTS_2_P', '3FT3_3_P', '3FT4_3_P', '3FTG_3_C', '3FTH_1_A', '3FTK_1_A', '4FT2_2_P', '4FTG_2_C', '4FTG_3_E', '4FTV_3_C', '5FT1_2_C', '1FU2_1_A', '1FU2_2_B', '1FU3_1_A', '1FU5_2_B', '1FU9_1_A', '1FUB_1_A', '1FUB_2_B', '1FUL_1_A', '1FUV_1_A', '2FUU_2_B', '3FUG_2_B', '3FUR_2_H', '4FU4_2_C', '1FV1_3_C', '1FV5_1_A', '1FVM_1_A', '1FVM_2_G', '1FVN_1_A', '1FVY_1_A', '2FVJ_2_B', '3FV3_2_I', '3FV8_1_A', '3FVH_2_B', '4FVL_2_C', '4FVT_2_B', '5FVK_2_C', '5FVL_2_C', '1FW5_1_A', '1FW8_1_A', '1FWO_1_A', '2FWO_3_P', '3FWF_1_A', '3FWI_1_A', '3FWJ_1_A', '4FWF_2_E', '5FW5_2_C', '2FX7_3_P', '2FX8_3_P', '2FX9_3_P', '2FXY_1_A', '2FXZ_1_A', '3FXV_2_B', '3FXX_2_B', '1FY4_2_B', '1FY5_2_B', '1FYG_1_A', '1FYN_2_B', '1FYR_2_I', '1FYT_3_C', '2FYM_2_B', '2FYS_2_D', '3FY2_2_B', '3FYU_2_B', '4FYS_2_C', '5FYQ_2_C', '1FZC_4_G', '1FZC_5_I', '1FZF_4_S', '1FZG_4_S', '1FZO_3_P', '2FZ3_3_C', '4FZ3_2_B', '4FZV_2_B', '5FZT_2_B', '5FZV_1_A', '5FZW_1_A', '5FZX_1_A', '1G04_1_A', '1G0V_2_B', '1G0Y_2_I', '3G03_2_B', '4G0D_2_W', '5G0R_1_A', '1G1E_1_A', '1G1F_2_B', '1G1P_1_A', '1G1S_2_C', '1G1Z_1_A', '2G16_1_A', '2G1T_2_E', '3G19_2_C', '3G1B_2_C', '3G1E_1_A', '4G13_1_A', '4G14_1_A', '4G1A_1_A', '4G1C_2_D', '4G1D_2_B', '4G1Y_2_B', '4G1Z_2_B', '1G26_1_A', '1G2G_1_A', '1G2Y_1_A', '1G2Z_1_A', '2G2F_2_C', '2G2L_2_C', '3G2S_2_C', '4G20_2_B', '4G21_2_B', '4G2H_2_B', '4G2V_2_B', '4G2Z_2_B', '1G30_1_A', '1G30_3_C', '1G32_1_A', '1G32_3_C', '1G37_2_B', '1G39_1_A', '1G3F_2_B', '2G30_2_P', '2G35_2_B', '2G3V_2_E', '3G37_1_O', '4G35_2_B', '4G3B_1_A', '5G3L_1_D', '2G44_2_C', '2G46_2_C', '2G48_2_C', '2G49_2_C', '2G4M_1_A', '2G4M_2_B', '4G4L_1_A', '4G4M_1_A', '4G4S_5_E', '4G4S_6_F', '5G42_2_C', '5G43_2_C', '5G44_2_C', '5G45_2_C', '5G46_2_C', '1G5J_2_B', '1G5Q_2_M', '2G54_2_C', '2G56_2_C', '2G57_1_A', '2G5B_3_I', '2G5L_2_X', '2G5O_2_C', '2G5Z_1_A', '3G5V_3_C', '3G5Y_3_E', '4G51_1_A', '4G5O_2_E', '4G5Q_2_E', '4G5R_2_E', '4G5S_2_E', '2G6Q_2_B', '2G6T_1_A', '2G6U_1_A', '4G69_2_B', '4G6A_1_B', '4G6F_3_P', '1G70_2_B', '1G7A_1_A', '1G7A_2_B', '1G7B_1_A', '1G7B_2_B', '1G7P_3_P', '3G7A_1_A', '3G7A_2_B', '3G7L_2_P', '3G7Z_2_C', '4G70_3_C', '4G71_3_C', '4G72_3_C', '4G7Q_3_C', '4G7R_3_C', '4G7S_3_C', '1G89_1_A', '2G83_2_C', '2G87_1_A', '3G8I_2_Z', '4G8G_3_C', '4G8I_3_C', '1G92_1_A', '1G9I_2_I', '2G99_2_C', '2G9A_2_B', '2G9H_3_C', '2G9J_1_C', '2G9J_2_A', '2G9L_1_A', '2G9P_1_A', '3G9E_2_B', '3G9Y_1_A', '4G9D_3_C', '4G9F_3_C', '4G9J_2_C', '1GA1_2_I', '1GAC_1_A', '1GAC_2_C', '1GAG_2_B', '4GAG_3_P', '4GAJ_3_P', '4GAO_2_C', '5GAD_34_f', '5GAD_35_i', '5GAD_36_k', '5GAE_32_f', '5GAE_35_i', '5GAF_34_f', '5GAF_35_i', '5GAF_36_k', '5GAG_34_f', '5GAG_35_i', '5GAG_36_k', '5GAH_34_f', '5GAH_35_i', '5GAH_36_k', '5GAM_9_x', '5GAN_10_x', '5GAN_18_E', '5GAP_4_x', '1GBB_2_P', '1GBC_2_P', '1GBD_2_P', '1GBF_2_P', '1GBH_2_P', '1GBI_2_P', '1GBK_2_P', '1GBL_2_P', '1GBM_2_P', '1GBR_2_B', '4GBA_2_F', '4GBC_1_A', '4GBC_2_B', '4GBI_1_A', '4GBI_2_B', '4GBK_1_A', '4GBK_2_B', '4GBL_1_A', '4GBL_2_B', '4GBN_1_A', '4GBN_2_B', '4GBQ_2_B', '1GCL_1_A', '1GCM_1_A', '1GCN_1_A', '1GCT_1_A', '1GCT_4_D', '2GCH_1_E', '2GCT_1_A', '2GCT_4_D', '2GCZ_1_A', '3GCH_1_A', '3GCI_2_P', '3GCO_2_B', '3GCT_1_E', '3GCT_4_B', '4GCH_1_E', '5GCH_1_E', '6GCH_1_E', '7GCH_1_E', '8GCH_1_E', '8GCH_4_C', '1GDN_2_B', '1GDU_2_B', '2GD3_1_A', '2GDC_2_B', '2GDE_1_L', '2GDE_3_D', '2GDL_1_A', '3GD1_3_Z', '3GD2_2_B', '3GD3_2_E', '3GDS_2_B', '4GDK_3_C', '4GDL_3_C', '5GDS_1_L', '5GDS_3_I', '1GEA_1_A', '1GEC_2_I', '3GEL_1_A', '4GEQ_3_E', '1GFF_3_3', '2GFA_2_C', '2GFC_2_I', '2GFR_1_A', '4GFU_2_F', '4GFV_2_E', '1GG6_1_A', '1GGD_1_A', '1GGI_3_P', '2GGM_2_C', '3GGW_3_E', '3GGZ_2_E', '4GG6_5_I', '4GGD_2_C', '4GGN_2_D', '5GGI_2_F', '1GHA_1_E', '1GHA_4_P', '1GHB_1_E', '1GHG_1_A', '1GHV_1_L', '1GHV_3_I', '1GHW_1_L', '1GHW_3_I', '1GHX_1_L', '1GHX_3_I', '1GHY_1_L', '1GHY_3_I', '2GHQ_2_C', '2GHT_2_C', '3GHB_3_P', '3GHE_3_P', '3GHG_4_M', '3GHG_5_O', '4GHU_2_B', '1GI7_1_A', '1GI8_1_A', '1GI9_1_A', '1GIB_1_A', '2GIT_3_C', '3GI0_2_C', '3GIC_1_A', '3GIV_3_C', '5GIJ_2_D', '5GIR_3_C', '5GIS_3_C', '5GIW_1_X', '1GJ4_1_L', '1GJ4_3_I', '1GJ5_1_L', '1GJ5_3_I', '1GJ7_1_A', '1GJ8_1_A', '1GJ9_1_A', '1GJA_1_A', '1GJB_1_A', '1GJC_1_A', '1GJD_1_A', '1GJE_1_A', '1GJF_1_A', '1GJG_1_A', '2GJ0_1_A', '2GJ6_3_C', '3GJ3_2_B', '3GJ4_2_B', '3GJ5_2_B', '3GJ6_2_B', '3GJ9_2_C', '3GJF_3_C', '3GJO_2_E', '3GJP_1_A', '3GJQ_3_E', '3GJS_3_E', '3GJT_3_E', '5GJV_5_F', '5GJW_5_F', '1GK7_1_A', '1GKT_2_B', '1GKY_1_A', '2GKW_2_B', '3GKV_1_A', '3GKY_1_A', '3GKY_2_B', '4GK5_4_G', '4GKJ_21_V', '4GKK_21_V', '4GKN_3_C', '4GKS_3_C', '4GKV_2_P', '1GL0_2_I', '1GL1_2_I', '2GLG_1_A', '2GLH_1_A', '3GL6_2_B', '3GLI_6_O', '3GLR_2_B', '3GLT_2_B', '3GLU_2_B', '3GLW_2_Z', '4GL8_2_C', '4GL9_2_I', '4GLD_2_B', '4GLR_1_A', '4GLY_2_B', '5GLH_2_B', '1GM2_1_A', '1GMC_1_E', '1GMC_4_B', '1GMD_1_E', '1GMD_4_B', '1GMH_1_E', '1GMK_1_A', '1GMZ_1_A', '2GMC_1_A', '2GMD_1_A', '2GMT_1_A', '3GM1_2_E', '5GMK_17_c', '5GMK_18_d', '5GMK_23_v', '1GNA_1_A', '1GNB_1_A', '1GNG_2_X', '2GNF_2_I', '2GNG_2_I', '2GNH_2_I', '2GNI_2_I', '2GNJ_2_I', '2GNL_2_I', '2GNX_1_A', '3GN8_2_C', '3GNN_2_D', '3GNY_1_A', '4GNE_2_B', '4GNF_2_C', '4GNG_2_B', '4GNT_2_B', '1GO6_1_A', '1GO6_2_B', '1GO9_1_A', '1GOE_1_A', '1GOX_1_A', '2GOF_1_A', '2GOH_1_A', '3GO1_3_P', '3GOF_2_C', '1GPD_1_G', '2GP9_1_A', '2GPH_2_B', '2GPO_2_C', '2GPP_2_C', '2GPV_2_G', '3GP2_2_B', '4GP4_3_C', '4GP5_3_C', '4GP8_3_C', '1GQ0_1_A', '2GQE_1_A', '3GQ1_2_C', '3GQG_1_A', '4GQ6_2_B', '4GQB_3_C', '1GRM_1_A', '2GRM_2_D', '4GRK_2_B', '2GSI_3_X', '3GS2_2_B', '3GSN_2_P', '3GSO_3_P', '3GSQ_3_P', '3GSR_3_P', '3GSU_3_P', '3GSV_3_P', '3GSW_3_P', '3GSX_3_P', '1GTJ_2_3', '1GTL_2_3', '2GT9_3_C', '2GTK_2_B', '2GTW_3_C', '2GTY_1_A', '2GTZ_3_C', '3GT8_2_X', '1AMB_1_A', '1AMC_1_A', '1AMT_1_A', '2AMN_1_A', '2AMQ_2_C', '3AM7_2_B', '3AM8_3_E', '3AMA_2_B', '3AMB_2_B', '4AMA_1_A', '1AN5_1_A', '1ANS_1_A', '2AN6_2_E', '2ANK_2_L', '2ANK_3_P', '2ANM_2_L', '5AN5_1_B', '1AO7_3_C', '1AOT_2_P', '1AOU_2_P', '2AO6_2_B', '2AOF_2_C', '2AOH_2_C', '2AOI_2_C', '2AOJ_2_C', '4AOK_2_B', '4AOM_2_T', '4AON_2_B', '4AOQ_2_D', '4AOR_2_D', '1APH_1_A', '1APH_2_B', '1APM_2_I', '1APT_2_I', '1APU_2_I', '1APV_2_I', '1APW_2_I', '2AP2_4_P', '2AP7_1_A', '2AP8_1_A', '3AP1_2_S', '3AP2_2_S', '4APD_1_A', '4APH_2_P', '4APJ_2_P', '4APO_2_D', '4APR_2_I', '5APH_2_C', '5APJ_2_C', '5APK_2_D', '5APR_2_I', '6APR_2_I', '7API_2_B', '8API_2_B', '9API_2_B', '1AQC_2_C', '1AQD_3_C', '1AQG_1_A', '2AQ9_2_X', '1GUJ_1_A', '1GUJ_2_B', '1GUR_1_A', '1GUW_2_B', '2GU8_2_C', '2GUC_1_A', '2GUD_1_A', '2GUE_1_A', '2GUO_3_C', '4GU0_2_E', '4GUR_3_C', '4GUS_3_C', '4GUX_2_D', '5GU4_2_C', '1GVK_1_A', '1GVU_2_I', '2GV2_2_B', '2GVF_2_B', '3GV6_2_B', '4GVC_2_B', '4GVD_2_C', '4GVU_2_B', '1GWQ_2_C', '1GWR_2_C', '2GW9_1_A', '2GWP_1_A', '2GWW_2_B', '4GW1_3_E', '4GW5_3_E', '4GWQ_8_H', '4GWT_1_A', '4GWV_1_A', '2GX1_1_A', '3GXE_2_F', '3GXE_3_E', '3GXV_2_C', '3GXV_3_D', '4GXL_2_B', '2GYP_1_A', '3GYT_2_B', '3GYU_2_B', '4GY5_2_E', '4GYE_2_C', '4GYW_2_B', '4GYY_2_B', '1GZ8_1_A', '1GZL_1_A', '1GZL_2_C', '1GZM_1_A', '3GZ1_2_P', '3GZE_2_X', '3GZO_1_A', '3GZQ_1_A', '4GZ3_2_B', '4GZ8_1_A', '4GZF_2_C', '1H00_1_A', '1H07_1_A', '1H08_1_A', '1H0H_1_A', '3H00_1_A', '3H0A_3_B', '3H0T_3_C', '4H0H_2_D', '4H0L_5_E', '4H0L_6_F', '4H0L_7_G', '4H0L_8_H', '5H0N_2_B', '1H10_1_A', '1H15_3_C', '2H13_2_B', '2H1C_2_B', '2H1P_3_P', '2H1Z_1_A', '3H11_3_C', '3H1H_9_I', '3H1I_9_I', '3H1J_9_I', '3H1K_9_I', '3H1L_9_I', '3H1P_2_C', '3H1Z_2_P', '4H13_5_E', '4H13_6_F', '4H13_7_G', '4H13_8_H', '4H1L_3_C', '4H1W_2_B', '1H20_1_A', '1H24_3_E', '1H25_3_E', '1H26_3_E', '1H27_3_E', '1H28_3_E', '2H26_1_A', '2H2D_2_B', '2H2F_2_B', '2H2G_2_B', '2H2H_2_B', '4H25_3_C', '4H26_3_C', '1H34_1_A', '1H3H_2_B', '2H3S_2_B', '2H3T_1_A', '2H3T_2_B', '3H32_4_M', '3H3G_2_B', '4H3H_3_F', '4H3K_3_F', '4H3P_2_B', '4H3Q_2_B', '2H43_4_I', '2H48_3_C', '2H4B_1_A', '2H4B_2_C', '2H4F_2_D', '2H4H_2_B', '2H4J_2_D', '2H4P_2_B', '2H4Q_2_B', '2H4W_3_C', '2H4Y_3_C', '3H4K_1_A', '4H44_5_E', '4H44_6_F', '4H44_7_G', '4H44_8_H', '4H4F_3_Q', '2H51_3_C', '2H54_3_C', '2H59_2_D', '2H5D_2_B', '2H5I_3_C', '2H5J_3_E', '3H52_2_N', '3H5F_1_A', '3H5G_1_A', '3H5R_2_E', '1H6E_2_P', '1H6R_1_A', '1H6W_2_B', '2H65_3_E', '2H67_1_A', '2H67_2_B', '2H6H_3_P', '2H6K_2_C', '2H6M_2_I', '2H6N_2_C', '2H6Q_2_C', '2H6T_2_B', '3H6C_1_A', '3H6F_2_C', '3H6I_2_C', '3H6Z_2_L', '4H62_2_V', '4H6S_1_A', '1H7J_1_A', '2H7D_2_B', '2H7E_2_B', '3H7B_3_C', '4H75_2_B', '4H7R_1_A', '1H8D_2_I', '1H8D_3_L', '1H8I_2_I', '1H8I_3_L', '2H8B_1_B', '2H8B_2_A', '2H8D_1_A', '2H8F_1_A', '2H8S_1_A', '3H85_2_P', '3H8A_2_E', '3H8K_2_B', '4H8F_1_A', '4H8G_1_A', '4H8L_1_A', '4H8M_1_A', '4H8O_1_A', '1H9H_2_I', '1H9I_2_I', '1H9L_1_A', '2H95_1_A', '2H9E_4_S', '2H9H_2_I', '2H9M_2_B', '2H9N_2_B', '2H9P_2_B', '2H9R_2_C', '2H9T_1_L', '2H9T_3_I', '3H91_2_C', '3H9G_2_E', '3H9H_3_C', '3H9Q_2_E', '3H9S_3_C', '1HA9_1_A', '1HAA_2_B', '1HAG_2_I', '1HAH_1_L', '1HAH_3_I', '1HAI_1_L', '1HAJ_2_B', '1HAO_2_L', '1HAP_2_L', '1HAX_1_A', '1HAZ_1_A', '2HAC_1_A', '2HAL_2_I', '3HAE_3_C', '3HAT_1_L', '3HAT_3_I', '3HAT_4_T', '4HAB_2_D', '4HAN_2_C', '5HAW_3_L', '5HAX_2_B', '1HBH_1_A', '1HBT_1_L', '1HBT_3_I', '2HBH_2_B', '2HBQ_3_C', '2HBR_3_C', '2HBY_3_C', '2HBZ_3_C', '3HBU_2_Z', '3HBV_2_Z', '5HB0_2_E', '5HBU_3_K', '1HC9_3_C', '1HCW_1_A', '2HC4_2_B', '2HCD_2_B', '2HCJ_1_A', '3HC5_2_B', '3HC6_2_B', '4HCZ_2_C', '1HD6_1_A', '1HD9_1_A', '1HDH_1_A', '1HDT_1_L', '1HDT_3_P', '2HD4_2_B', '2HDN_1_A', '2HDX_2_G', '3HDA_2_Z', '3HDB_2_L', '3HDI_2_C', '3HDS_2_E', '4HD5_1_A', '4HD8_2_F', '5HD3_1_A', '5HD5_1_A', '5HDA_2_B', '5HDC_1_A', '5HDD_1_A', '5HDS_1_A', '1HES_2_P', '3HET_1_A', '3HEU_1_A', '3HEV_1_A', '3HEW_1_A', '3HEX_1_A', '3HEY_1_A', '3HEZ_1_A', '4HEE_2_Y', '1HFF_1_A', '2HFP_2_B', '2HFR_1_A', '3HF0_1_A', '3HF9_2_H', '3HFC_1_A', '3HFE_1_A', '4HFP_1_A', '4HFZ_2_B', '5HFY_1_A', '1HGT_1_L', '1HGT_3_I', '2HGO_1_A', '2HGT_1_L', '2HGT_3_I', '3HG1_3_C', '3HGZ_2_D', '4HGC_2_I', '5HG2_1_A', '5HGD_3_C', '5HGH_3_C', '5HGV_2_B', '1HH3_1_A', '1HH6_3_C', '1HH9_3_C', '1HHA_1_A', '1HHC_1_A', '1HHF_1_A', '1HHH_3_C', '1HHI_3_C', '1HHJ_3_C', '1HHK_3_C', '1HHU_1_A', '1HHY_1_A', '1HHZ_1_A', '1HHZ_2_D', '2HH0_3_P', '2HH4_1_A', '2HH4_2_B', '2HHH_21_U', '2HHO_1_A', '2HHO_2_B', '4HH6_2_Z', '4HHA_3_P', '4HHF_1_A', '5HH7_2_P', '5HHG_1_C', '5HHM_3_C', '5HHN_3_C', '5HHO_5_C', '5HHP_3_C', '5HHQ_3_C', '5HHV_3_I', '5HHX_3_I', '1HI6_3_C', '1HIM_3_P', '1HIM_4_R', '1HIN_3_P', '1HIQ_1_A', '1HIQ_2_B', '1HIS_1_A', '1HIS_2_B', '1HIT_1_A', '1HIT_2_B', '2HIU_1_A', '2HIU_2_B', '3HIK_2_B', '4HIV_2_C', '4HIX_3_A', '5HI1_1_A', '5HI3_4_I', '5HI4_4_I', '5HI5_4_I', '5HIT_2_B', '1HJA_1_A', '1HJE_1_A', '1HJI_2_B', '2HJK_3_C', '2HJL_3_C', '3HJ2_1_A', '3HJD_1_A', '4HJB_1_C', '4HJD_1_A', '5HJB_2_B', '5HJC_2_B', '5HJD_2_L', '5HJS_2_C', '1HKG_1_A', '2HKF_3_P', '3HKI_3_C', '3HKJ_1_A', '4HKC_2_B', '5HKH_2_B', '5HKN_1_A', '5HKR_1_A', '1HL3_2_B', '1HL4_1_A', '1HLB_1_A', '1HLE_1_A', '1HLE_2_B', '1HLL_1_A', '1HLM_1_A', '1HLS_1_A', '1HLS_2_B', '1HLT_1_L', '1HLT_3_R', '1HLU_1_A', '1HLU_2_P', '1HLY_1_A', '2HLG_1_A', '2HLO_4_G', '3HLV_2_C', '4HLR_1_A', '2HM3_1_A', '2HM4_1_A', '2HM5_1_A', '2HM6_1_A', '2HMH_2_B', '3HM1_2_C', '3HM6_2_C', '5HM9_2_C', '5HMA_2_C', '1HNE_2_I', '1HNW_22_V', '1HNX_22_V', '1HNZ_22_V', '2HN8_1_A', '2HNT_1_L', '3HNA_2_P', '4HNJ_2_C', '1HO0_1_A', '1HO2_1_A', '1HO7_1_A', '1HO9_1_A', '1HOC_3_C', '1HOD_1_A', '1HOF_1_A', '1HOY_2_B', '2HO2_1_A', '2HOB_2_B', '2HOD_4_M', '4HOM_2_B', '4HON_2_F', '5HOG_2_D', '5HOI_2_D', '5HOW_1_A', '5HOX_1_A', '5HOY_1_A', '1HP2_1_A', '1HP3_1_A', '1HP9_1_A', '1HPG_2_B', '1HPH_1_A', '1HPY_1_A', '2HPC_4_M', '2HPE_2_S', '2HPF_2_S', '2HPL_2_B', '2HPP_1_L', '2HPQ_1_L', '2HPY_1_A', '2HPZ_2_B', '3HP4_1_A', '3HPJ_3_C', '3HPW_2_C', '4HPO_3_P', '4HPQ_1_A', '4HPT_2_I', '4HPU_2_I', '4HPY_3_P', '5HPM_3_E', '5HPP_1_A', '1HQ6_2_B', '1HQJ_1_A', '1HQM_3_D', '1HQQ_2_E', '1HQR_3_C', '2HQH_2_E', '2HQW_2_B', '3HQH_2_M', '3HQI_2_C', '3HQL_2_C', '3HQM_2_C', '3HQR_2_S', '3HQU_2_S', '4HQR_2_E', '5HQ8_2_I', '1HR0_22_V', '1HR1_1_A', '1HR8_3_O', '1HR9_3_O', '1HRC_1_A', '1HRL_1_A', '2HRP_3_P', '3HR5_3_R', '4HRE_3_G', '4HRG_2_C', '4HRH_2_C', '4HRR_1_A', '4HRR_2_B', '4HRT_1_A', '4HRT_2_B', '1HS5_1_A', '2HSQ_2_B', '3HS8_2_P', '3HS9_2_P', '3HSV_2_M', '4HS6_1_Z', '4HS8_1_A', '4HSU_3_C', '5HSZ_2_K', '1HTE_2_C', '1HTH_1_A', '1HTM_1_A', '1HTV_1_A', '1HTV_2_B', '1HTX_1_A', '2HT9_2_X', '2HTG_1_A', '3HTU_2_B', '4HT6_2_B', '4HTC_1_L', '4HTM_1_A', '4HTP_2_C', '5HTB_2_C', '5HTC_2_C', '1HU5_1_A', '1HU6_1_A', '1HU7_1_A', '1HUI_1_A', '1HUI_2_B', '1HUT_2_L', '2HU2_2_B', '2HUG_2_B', '3HU6_2_C', '3HUS_4_G', '4HU5_1_A', '4HU6_1_A', '4HUU_3_C', '4HUV_3_C', '4HUW_3_I', '4HUX_3_C', '5HUW_2_A', '1HV2_2_B', '1HVN_2_E', '1HVO_2_E', '1HVW_1_A', '1HVZ_1_A', '3HVE_2_B', '4HV8_3_E', '4HVA_2_C', '4HVW_2_B', '5HVP_2_C', '5HVZ_2_C', '7HVP_2_C', '8HVP_2_I', '2HWL_1_A', '2HWL_3_P', '2HWN_2_E', '3HWL_1_A', '4HW4_2_C', '1HXE_1_L', '1HXE_3_I', '1HXF_1_L', '1HXF_3_I', '1HXL_2_C', '1HXY_3_C', '1HXZ_2_C', '3HXG_2_C', '3HXI_2_C', '1HY2_2_E', '1HYM_1_A', '1HYM_2_B', '2HY6_1_A', '2HYQ_1_A', '2HYR_1_A', '3HYM_1_A', '4HY2_2_D', '4HY7_2_B', '4HY9_2_C', '4HYB_2_C', '5HYJ_3_C', '5HYN_4_D', '5HYN_5_E', '5HYQ_3_E', '5HYR_2_F', '1HZ3_1_A', '1HZN_1_A', '1HZX_1_A', '2HZS_3_I', '4HZL_3_E', '2I04_2_C', '2I0I_2_D', '2I0L_2_C', '1I1F_3_C', '2I1D_1_A', '2I1E_1_A', '2I1F_1_A', '2I1G_1_A', '2I1H_1_A', '2I1I_1_A', '2I1T_1_A', '3I1G_1_A', '3I1H_2_B', '4I1P_2_B', '5I1N_1_A', '5I1O_1_A', '5I1P_1_A', '5I1S_1_A', '1I25_1_A', '1I26_1_A', '2I28_1_A', '2I2H_1_A', '2I2J_1_A', '4I2L_1_C', '4I2L_2_D', '4I2W_2_B', '4I2Z_2_B', '5I22_2_B', '5I2I_3_E', '1I31_2_P', '1I3U_1_A', '1I3W_2_E', '1I3Z_2_B', '2I35_1_A', '2I36_1_A', '2I37_1_A', '2I3H_2_C', '2I3S_2_B', '3I3Z_1_A', '3I3Z_2_B', '4I31_2_C', '4I32_2_C', '4I33_2_C', '5I3L_2_C', '1I4E_1_A', '1I4F_3_C', '3I40_1_A', '3I40_2_B', '1I5H_2_B', '1I5K_2_C', '2I5O_1_A', '2I5Y_4_M', '3I5W_1_A', '4I51_2_C', '4I51_3_K', '4I5Y_1_A', '4I5Y_2_B', '4I5Z_1_A', '4I5Z_2_B', '1I6C_1_A', '1I6V_3_D', '1I6Y_1_A', '2I60_4_M', '3I6G_3_C', '3I6K_3_C', '5I6A_1_A', '5I6F_1_A', '5I6G_1_A', '5I6H_1_A', '5I6I_1_A', '1I72_2_A', '1I79_2_A', '1I7B_2_A', '1I7C_2_A', '1I7M_2_A', '1I7R_3_C', '1I7T_3_C', '1I7U_3_C', '3I74_2_C', '3I75_2_B', '3I7H_2_B', '3I7K_2_B', '3I7L_2_B', '3I7N_2_B', '3I7O_2_B', '3I7P_2_B', '3I7Z_2_B', '4I79_2_C', '4I7B_2_B', '4I7C_2_B', '4I7D_2_B', '4I7Y_2_L', '4I7Z_5_E', '4I7Z_6_F', '4I7Z_7_G', '4I7Z_8_H', '5I70_2_C', '5I7Z_2_B', '1I8E_1_A', '1I8G_1_A', '1I8G_2_B', '1I8H_1_A', '1I8H_2_B', '1I8I_3_C', '1I8K_3_C', '1I8X_1_A', '1I8Y_1_A', '3I89_2_B', '3I8C_2_B', '3I8E_2_C', '4I80_2_B', '5I87_1_A', '5I87_2_B', '1I93_1_A', '1I94_21_U', '1I98_1_A', '1I9F_2_B', '2I94_2_B', '2I9M_1_A', '2I9N_1_A', '2I9O_1_A', '3I90_2_C', '3I91_2_C', '5I9B_2_B', '5I9T_2_D', '1IAK_3_P', '1IAU_2_B', '2IAH_2_I', '2IAM_3_P', '2IAN_3_C', '4IA1_2_B', '4IA2_2_B', '4IA3_2_B', '4IA7_2_B', '4IAC_2_S', '4IAD_2_S', '4IAF_2_S', '4IAG_1_A', '4IAI_2_S', '4IAK_2_S', '4IAY_2_S', '4IAZ_2_S', '5IAB_2_D', '5IAE_2_D', '5IAG_2_B', '5IAJ_2_B', '5IAK_2_B', '5IAN_3_B', '5IAR_2_B', '5IAS_2_B', '5IAY_2_B', '1IB9_1_A', '1IBC_3_C', '1IBK_22_V', '4AQY_21_V', '1AR6_1_0', '1AR7_1_0', '1AR8_1_0', '1AR9_1_0', '1ARD_1_A', '1ARE_1_A', '1ARF_1_A', '2ARI_1_A', '2ARQ_2_P', '2ARR_2_P', '3AR2_1_A', '3AR3_1_A', '3AR4_1_A', '3AR5_1_A', '3AR6_1_A', '3AR7_1_A', '3AR8_1_A', '3AR9_1_A', '4AR2_2_P', '1AS4_2_B', '1AS5_1_A', '1ASJ_1_0', '2ASQ_2_B', '2AST_4_D', '3ASK_2_P', '3ASL_2_B', '3ASW_2_B', '1AT5_1_A', '1ATI_2_C', '1ATI_3_D', '1ATN_1_A', '1ATP_2_I', '2ATC_1_A', '2ATG_1_A', '2ATP_2_E', '3AT0_2_B', '3ATW_2_C', '1AUY_1_A', '2AUC_2_D', '3AUN_2_B', '3AUW_1_A', '4AU7_2_C', '4AUC_2_B', '4AUI_2_D', '4AUV_1_A', '5AUM_3_C', '1AV2_1_A', '1AV3_1_A', '1AV5_1_A', '1AVF_1_P', '1AVP_2_B', '1AVT_1_A', '2AV1_3_C', '2AV7_3_C', '3AV9_2_X', '3AVA_2_X', '3AVB_2_X', '3AVC_2_D', '3AVF_2_D', '3AVG_2_D', '3AVH_2_E', '3AVI_2_D', '3AVJ_2_D', '3AVK_2_D', '3AVL_2_F', '3AVM_2_D', '3AVN_2_G', '3AVR_2_B', '3AVZ_2_B', '1IBL_24_V', '1IBM_24_V', '1IBN_1_A', '1IBO_1_A', '1IBT_2_B', '1IBU_2_B', '2IBA_1_A', '2IBF_2_B', '3IBC_3_E', '4IB0_2_S', '4IB1_2_S', '4IB3_2_S', '4IB5_2_D', '5IBC_2_B', '5IBP_2_B', '5IBR_2_B', '1IC9_1_A', '1ICE_2_T', '1ICL_1_A', '1ICO_1_A', '1ICY_1_A', '2IC0_1_A', '2ICQ_1_A', '2ICW_3_C', '3ICI_2_C', '5IC4_3_I', '5IC6_3_E', '5ICN_3_C', '5ICX_3_E', '5ICY_3_E', '5ICZ_3_E', '1ID6_1_A', '1ID7_1_A', '1IDG_2_B', '1IDH_2_B', '1IDN_1_1', '2ID4_2_C', '2IDH_1_A', '3IDG_3_C', '3IDI_3_C', '3IDJ_3_C', '3IDM_3_C', '3IDN_3_C', '4IDW_1_A', '4IDW_2_B', '5ID0_3_E', '5ID1_3_E', '1IE6_1_A', '1IEN_1_A', '1IEO_1_A', '3IET_3_X', '4IE9_2_I', '4IEL_2_C', '1IFH_3_P', '2IFF_2_H', '2IFI_1_A', '2IFJ_1_A', '2IFR_2_B', '2IFW_2_C', '2IFZ_1_A', '3IFL_3_P', '3IFO_3_P', '3IFP_3_P', '4IF6_2_B', '4IFI_2_B', '4IFL_2_P', '2IGF_3_P', '2IGR_1_A', '2IGU_1_A', '2IGZ_1_A', '3IG7_1_A', '3IGG_1_A', '4IG9_2_B', '4IGA_2_B', '4IGK_2_C', '5IGO_2_U', '5IGQ_2_U', '5IGQ_3_V', '1IH9_1_A', '1IHJ_2_C', '1IHQ_1_A', '1IHS_1_L', '1IHS_3_I', '1IHT_1_L', '1IHT_3_I', '2IH0_1_A', '2IH6_1_A', '2IH7_1_A', '2IHA_1_A', '2IHS_2_C', '4IHL_2_P', '4IHN_1_A', '4IHN_2_B', '4IHO_3_C', '1IIJ_1_A', '2IIJ_2_B', '3IIQ_2_C', '3IIW_2_B', '3IIY_2_B', '4IIM_2_C', '4IIO_2_C', '4IIQ_3_C', '5II0_2_D', '5IIZ_1_A', '1IJ0_1_A', '1IJ1_1_A', '1IJ2_1_A', '1IJ3_1_A', '1IJU_1_A', '1IJV_1_A', '3IJ0_2_B', '3IJ1_2_B', '4IJ8_2_I', '4IJ9_2_I', '5IJS_1_A', '1IK9_2_C', '1IKF_3_C', '3IK5_2_D', '4IKA_2_D', '4IKN_2_B', '1ILP_2_C', '1ILQ_2_C', '3ILG_1_A', '3ILG_2_B', '4IL6_6_F', '4IL6_8_I', '4IL6_9_J', '4IL6_10_K', '4IL6_11_L', '4IL6_12_M', '4IL6_14_T', '4IL6_17_Y', '4IL6_20_R', '1IM1_1_A', '1IM3_3_C', '1IM7_1_A', '1IM9_3_C', '1IMI_1_A', '1IMW_1_A', '4IMI_3_F', '4IMJ_3_F', '4IMZ_2_B', '5IM9_1_A', '5IMA_1_A', '5IMC_1_A', '5IMD_1_A', '5IMF_1_A', '5IMV_1_A', '5IMZ_1_A', '1IN2_1_A', '1IN3_1_A', '1INQ_3_C', '2INS_1_A', '2INS_2_B', '3INC_1_A', '3INC_2_B', '3INS_1_A', '3INS_2_B', '4INH_2_J', '4INS_1_A', '4INS_2_B', '5INW_2_C', '5INY_1_A', '5INZ_1_A', '7INS_1_A', '7INS_2_B', '9INS_1_A', '9INS_2_B', '1IOG_1_A', '1IOG_2_B', '1IOH_1_A', '1IOH_2_B', '3IO8_2_B', '3IO9_2_B', '3IOL_2_B', '4IO9_30_4', '4IOA_30_4', '4IOC_30_4', '4IOI_5_C', '4IOX_2_D', '5IO0_1_A', '5IO2_1_A', '5IOK_2_C', '5ION_1_A', '5IOP_3_E', '5IOW_1_A', '2IPK_3_C', '2IPU_3_P', '2IPZ_1_A', '3IPQ_2_B', '3IPS_2_C', '3IPU_2_C', '3IPV_1_A', '4IPT_1_A', '4IPZ_2_B', '5IP7_13_Q', '5IP9_13_Q', '5IPH_1_A', '1IQ5_2_B', '3IQQ_2_B', '4IQR_4_I', '5IQ7_3_P', '5IQ9_3_C', '5IQL_2_B', '5IQM_2_F', '5IQN_2_B', '5IQO_2_B', '1IR3_2_B', '1IRR_1_A', '1IRS_2_B', '3IR0_1_A', '3IR0_2_B', '4IRO_1_A', '5IR1_3_E', '5IR6_3_C', '5IRO_2_B', '1ISQ_2_B', '3ISW_2_C', '4IS6_3_C', '4ISQ_2_D', '4ISR_2_D', '2IT7_1_A', '2IT8_1_A', '2ITK_2_B', '3ITB_2_L', '3ITN_2_B', '5ITF_3_E', '2IUH_2_B', '2IUI_2_C', '3IUR_2_B', '3IUX_2_B', '4IU7_2_C', '4IUI_2_C', '4IUM_2_B', '4IUR_2_C', '4IUT_2_C', '4IUU_2_C', '4IUV_2_C', '4IUZ_1_A', '4IUZ_2_B', '2IV2_1_X', '2IV4_1_A', '2IV5_1_A', '2IV6_1_A', '2IV8_2_P', '2IV9_2_P', '2IVZ_2_E', '3IVB_2_M', '3IVQ_2_C', '3IVV_2_D', '4IV2_2_C', '4IV4_2_C', '4IVW_2_C', '4IVY_2_C', '5IV2_3_E', '5IVN_2_B', '5IVZ_3_E', '1IWC_1_A', '1IWF_1_A', '1IWQ_2_B', '2IWJ_1_A', '3IWB_2_A', '3IWC_2_A', '3IWD_2_A', '3IWY_1_B', '4IW6_2_C', '4IW8_2_C', '4IWC_2_C', '4IWD_1_A', '4IWF_2_C', '4IWW_1_A', '5IWA_20_V', '1IXA_1_A', '1IXT_1_A', '1IXU_1_A', '3IXA_3_C', '3IXS_2_B', '3IXT_3_P', '4IX0_1_A', '4IXQ_8_I', '4IXQ_11_L', '4IXQ_12_M', '4IXQ_14_T', '4IXQ_20_Y', '4IXR_8_I', '4IXR_11_L', '4IXR_12_M', '4IXR_14_T', '4IXR_20_G', '5IX1_2_P', '5IX2_2_P', '5IXQ_2_B', '5IXT_2_B', '1IYC_1_A', '3IYW_1_A', '4IYD_1_A', '4IYD_2_B', '4IYF_1_A', '4IYF_2_B', '5IY4_2_B', '5IYV_2_B', '5IYX_2_B', '1IZA_1_A', '1IZA_2_B', '1IZB_1_A', '1IZB_2_B', '1IZE_2_B', '1IZL_2_B', '1IZL_3_C', '1IZL_8_H', '1IZL_9_I', '1IZL_10_K', '1IZL_11_O', '1IZL_12_U', '1IZL_14_X', '2IZQ_1_A', '2IZX_2_C', '5IZ0_2_C', '5IZU_2_B', '2J0Z_1_A', '5J0M_1_A', '1J19_2_B', '2J10_1_A', '2J11_1_A', '2J15_1_A', '3J1O_2_I', '3J1O_7_N', '3J1R_1_A', '4J1V_2_E', '5J19_2_C', '5J1O_1_A', '1J2X_2_B', '2J28_5_4', '2J28_6_7', '4J24_2_K', '4J26_2_I', '4J2C_2_B', '4J2J_2_D', '4J2L_2_C', '4J2X_2_B', '5J2W_1_A', '2J30_2_B', '2J31_2_B', '2J32_2_B', '2J33_2_B', '2J37_6_S', '3J31_2_R', '5J3H_1_B', '5J3Q_2_B', '5J3T_3_C', '5J3V_2_C', '1J4M_1_A', '1J4P_2_B', '1J4Q_2_B', '2J4Y_1_A', '3J45_1_y', '3J45_2_E', '3J46_1_y', '3J46_2_E', '3J46_3_G', '3J46_4_n', '3J47_3_O', '3J47_4_P', '3J47_5_Q', '3J47_6_R', '3J47_7_S', '3J47_8_T', '3J4K_2_F', '4J44_2_B', '4J45_2_B', '4J46_2_B', '4J47_2_B', '4J48_2_B', '4J4A_1_A', '4J4Q_2_B', '1J5B_1_A', '1J5E_21_V', '1J5J_1_A', '1J5L_1_A', '1J5M_1_A', '2J58_1_A', '2J5H_1_A', '3J5L_5_4', '3J5M_2_B', '3J5P_1_B', '3J5Q_1_D', '3J5Q_2_A', '3J5R_1_B', '1J71_2_B', '1J73_1_A', '1J73_2_B', '1J7Z_1_A', '2J7X_2_B', '2J7Y_2_B', '3J70_5_E', '3J7Y_40_f', '3J7Y_51_t', '3J7Z_5_4', '4J73_2_B', '4J77_1_C', '4J78_2_B', '4J7F_1_A', '4J7F_2_B', '4J7I_2_B', '5J7O_2_G', '5J7U_2_M', '1J80_1_A', '1J81_1_A', '1J82_1_A', '1J8H_3_C', '1J8N_1_A', '1J8Z_1_A', '2J8U_3_C', '3J80_35_h', '3J81_35_h', '3J89_1_A', '3J8A_1_F', '3J8B_1_A', '3J8B_2_C', '3J8B_3_E', '3J8B_4_F', '3J8B_5_H', '3J8B_6_K', '3J8B_7_L', '3J8B_8_M', '3J8C_1_A', '3J8C_2_C', '3J8C_3_E', '3J8C_4_F', '3J8C_5_H', '3J8C_6_K', '3J8C_7_L', '3J8C_8_M', '3J8F_4_4', '3J8G_26_8', '4J81_2_C', '4J82_2_C', '4J83_2_B', '4J84_2_C', '4J86_2_C', '4J88_1_A', '4J89_1_A', '4J8A_1_A', '4J8G_2_C', '4J8O_2_B', '4J8R_3_I', '4J8S_2_B', '5J8H_2_B', '1J9V_1_A', '2J9J_3_C', '2J9N_2_B', '3J9B_1_A', '3J9B_2_B', '3J9B_3_C', '3J9F_4_4', '3J9S_1_A', '4J9C_2_B', '4J9D_2_B', '4J9E_2_B', '4J9F_2_B', '4J9G_2_B', '4J9H_2_G', '4J9I_2_B', '5J9Q_5_L', '1JAA_1_A', '1JAC_2_B', '1JAN_2_I', '1JAP_2_I', '1JAR_1_A', '1JAU_1_A', '1JAV_1_A', '2JAM_2_D', '2JAM_3_E', '3JAB_4_D', '3JAC_1_A', '3JAM_35_h', '3JAU_1_A', '4JAA_2_S', '1JB0_7_I', '1JB0_11_M', '1JB0_12_X', '1JB6_1_A', '1JBD_2_B', '1JBE_1_A', '1JBF_1_A', '1JBL_1_A', '1JBN_1_A', '1JBP_2_S', '1JBU_3_X', '2JBU_2_C', '2JBY_2_B', '3JB6_3_C', '3JB7_3_C', '3JB9_11_K', '3JB9_19_W', '3JB9_20_Y', '3JB9_21_a', '3JB9_28_R', '3JB9_29_r', '3JB9_33_x', '3JBC_4_4', '3JBD_4_4', '3JBE_4_4', '3JBF_4_4', '3JBG_4_4', '3JBQ_4_D', '3JBR_1_A', '3JBR_4_F', '1JC8_1_A', '1JCA_1_A', '1JCA_2_B', '1JCO_1_A', '1JCO_2_B', '1JCP_1_A', '2JCC_3_C', '3JC2_3_w', '3JC2_4_3', '3JCK_1_A', '3JCU_6_F', '3JCU_9_I', '3JCU_12_L', '3JCU_13_M', '3JCU_19_T', '5JCU_1_A', '5JCY_2_B', '1JD5_2_B', '1JD6_2_B', '1JD8_1_A', '1JDH_2_B', '1JDK_1_A', '1JDM_1_A', '1JDP_2_H', '2JDL_2_C', '2JDO_2_C', '2JDR_2_C', '2JDS_2_I', '2JDT_2_I', '2JDV_2_I', '3JD5_30_o', '3JD5_32_s', '4JDH_2_B', '4JDJ_2_B', '4JDK_2_B', '5JDU_1_A', '1JEB_1_A', '1JEG_2_B', '1JEK_1_A', '1JEK_2_B', '1JEN_2_A', '1JET_2_B', '1JEU_2_B', '1JEV_2_B', '2JE4_2_C', '2JER_1_A', '2JES_2_B', '2JET_1_A', '4JE8_2_D', '5JEJ_1_C', '5JEK_2_C', '5JEL_2_B', '5JEO_1_B', '5JER_1_B', '1JF1_3_C', '2JF1_2_T', '2JF9_2_P', '2JFA_3_P', '4JFD_3_C', '4JFE_3_C', '4JFF_3_C', '4JFG_1_A', '4JFO_3_C', '4JFP_3_C', '4JFQ_3_C', '4JFX_3_P', '4JFZ_3_P', '5JFG_2_B', '5JFT_2_F', '1JGN_2_B', '2JGB_2_B', '2JGC_2_B', '2JGE_1_A', '2JGF_1_A', '2JGI_1_A', '2JGL_1_A', '2JGO_1_A', '4JG0_3_P', '4JG1_3_P', '4JGJ_2_X', '5JGE_1_A', '5JGE_2_C', '1JH4_2_B', '2JH0_1_C', '2JH0_3_H', '2JH5_1_C', '2JH5_3_H', '2JH6_1_C', '2JH6_3_H', '4JHJ_2_C', '4JHK_2_C', '5JHC_1_A', '5JHF_4_G', '5JHF_5_I', '5JHI_1_A', '5JHN_2_F', '5JHQ_2_E', '1JI9_1_A', '4JI0_12_L', '4JI0_21_U', '4JI1_12_L', '4JI1_21_U', '4JI2_21_U', '4JI3_21_U', '4JI4_12_L', '4JI4_21_U', '4JI5_12_L', '4JI5_21_U', '4JI6_12_L', '4JI6_21_U', '4JI7_21_U', '4JI8_21_U', '4JIF_2_B', '4JIJ_1_P', '4JIZ_2_B', '5JI4_1_A', '5JIN_2_F', '5JIY_2_F', '1JJO_3_E', '1JJZ_1_A', '4JJ7_2_B', '4JJ8_2_C', '4JJE_2_B', '4JJM_2_E', '4JJQ_2_B', '5JJ0_2_F', '5JJY_2_B', '1JK4_2_B', '1JKY_2_B', '2JK9_2_B', '2JKR_5_P', '2JKT_5_P', '4JK5_2_B', '4JK6_2_B', '1JL4_3_C', '1JLO_1_A', '1JLP_1_A', '1JLU_2_S', '1JLY_1_A', '1JLZ_1_A', '2JLD_2_E', '4JLQ_2_B', '4JLU_2_B', '5JLB_2_B', '5JLF_2_F', '5JLH_3_H', '1JM0_1_A', '1JM4_1_A', '1JMB_1_A', '1JMT_2_B', '1JMU_3_G', '2JM0_1_A', '2JM6_1_A', '2JMA_2_B', '2JMF_2_B', '2JMJ_2_P', '2JMN_1_A', '2JMN_2_B', '2JMX_2_B', '2JMY_1_A', '4JMG_2_B', '4JMH_2_B', '4JML_2_E', '4JMR_2_F', '4JMY_2_C', '4JMY_3_E', '5JM0_1_A', '5JME_2_F', '1JN5_3_C', '1JN7_1_A', '1JNO_1_A', '1JNV_1_A', '1JNV_2_D', '1JNV_3_Y', '1JNV_4_Z', '2JN5_1_A', '2JND_2_B', '2JNI_1_A', '2JNR_1_A', '2JNR_2_B', '2JNW_2_B', '1JO3_1_A', '1JO4_1_A', '1JOH_1_A', '1JOT_2_B', '2JO4_1_A', '2JO5_1_A', '2JO9_1_A', '2JO9_2_B', '2JOA_2_B', '2JOC_1_A', '2JOD_2_B', '2JOF_1_A', '2JOG_2_B', '2JOS_1_A', '2JOU_1_A', '4JO1_3_P', '4JO2_3_P', '4JO3_3_P', '4JO6_2_Y', '4JOE_2_C', '4JOF_2_C', '4JOG_2_C', '4JOH_2_C', '4JOJ_2_C', '4JOK_2_C', '4JOL_2_E', '4JOP_2_C', '4JOR_2_C', '1JPF_3_C', '1JPG_3_C', '5AVI_2_B', '5AVL_2_B', '1AW8_1_A', '1AW8_2_B', '1AWF_1_L', '1AWF_3_I', '1AWH_1_A', '1AWY_1_A', '2AWW_2_C', '3AW0_2_B', '3AWR_2_C', '4AW9_2_I', '4AWA_2_I', '4AWS_1_A', '4AWT_1_A', '5AWJ_2_C', '5AWK_2_C', '5AWL_1_A', '5AWT_2_B', '5AWU_2_B', '1AXC_2_B', '1AXH_1_A', '1AXW_1_A', '2AX3_2_B', '2AXF_3_C', '2AXG_3_C', '2AXI_2_B', '2AXK_1_A', '2AXT_8_I', '2AXT_10_K', '2AXT_11_L', '2AXT_12_M', '2AXT_14_T', '2AXT_17_X', '2AXZ_2_E', '2AXZ_3_I', '3AX2_2_B', '3AX3_2_B', '3AX5_2_B', '3AXK_2_S', '3AXM_2_S', '4AX9_2_I', '4AX9_3_L', '4AXA_2_I', '4AXB_1_A', '5AX3_2_B', '5AXI_2_E', '5AXU_1_A', '5AXV_1_A', '1AY2_1_A', '1AY6_1_L', '1AY6_3_I', '1AYA_2_P', '1AYB_2_P', '1AYC_2_P', '3AYU_2_B', '4AY6_2_E', '4AYV_1_A', '4AYV_3_D', '4AYY_1_A', '4AYY_3_D', '5AYF_1_A', '1AZ6_1_A', '1AZG_1_A', '1AZH_1_A', '1AZJ_1_A', '1AZK_1_A', '2AZM_2_C', '3AZD_1_A', '4AZ2_1_A', '4AZ2_3_D', '4AZA_2_B', '5AZ8_2_B', '5AZF_2_C', '5AZG_2_C', '5AZT_2_C', '1B03_1_A', '1B05_2_B', '1B0G_3_C', '1B0H_2_B', '1B0Q_1_A', '2B0F_2_B', '2B0S_3_P', '2B0Y_1_A', '1JPP_2_C', '2JP6_1_A', '2JP8_1_P', '2JPJ_1_A', '2JPK_1_A', '2JPL_1_A', '2JPM_1_A', '2JPW_1_A', '2JPX_1_A', '2JPY_1_A', '3JPX_2_B', '5JP1_2_B', '5JP2_1_E', '5JP3_2_B', '5JP6_1_A', '5JPQ_1_A', '5JPQ_3_H', '5JPQ_5_M', '5JPQ_6_Q', '5JPQ_7_R', '2JQ0_1_A', '2JQ1_1_A', '2JQ2_1_A', '2JQ9_2_B', '2JQB_1_A', '2JQC_1_A', '2JQK_2_B', '2JQS_1_A', '2JQU_1_A', '2JQW_1_A', '3JQ5_2_B', '3JQO_3_C', '4JQG_1_P', '4JQI_4_V', '4JQX_3_B', '5JQ3_1_A', '5JQ7_1_A', '5JQB_1_A', '5JQF_1_A', '1JRJ_1_A', '1JRR_2_P', '1JRS_2_B', '1JRT_2_B', '2JRD_1_A', '2JRV_1_A', '2JRW_1_A', '2JRY_1_A', '3JR3_2_D', '3JRV_2_C', '4JR0_2_C', '4JR1_2_C', '4JR2_2_C', '4JRX_3_C', '4JRY_3_C', '5JR2_2_E', '1JSP_1_A', '2JSB_1_A', '2JSH_1_A', '2JSI_1_A', '2JSJ_1_A', '3JS1_1_A', '3JSD_1_A', '3JSD_2_B', '4JS0_2_B', '2JT9_1_A', '2JT9_2_B', '2JTA_1_A', '2JTB_1_A', '2JTT_2_C', '2JTU_1_A', '2JTW_1_A', '3JTC_2_C', '3JTI_2_B', '4JTA_3_Y', '4JTC_3_Y', '4JTD_3_Y', '5JTM_2_E', '5JTP_2_E', '1JU5_2_B', '1JU8_1_A', '1JUF_3_C', '1JUI_2_P', '1JUN_1_A', '2JUE_1_A', '2JUI_1_A', '2JUM_1_A', '2JUM_2_B', '2JUP_1_W', '2JUQ_1_A', '2JUR_1_A', '2JUS_1_A', '2JUT_1_A', '2JUU_1_A', '2JUU_2_B', '2JUV_1_A', '2JUV_2_B', '2JUY_1_A', '3JUA_2_B', '5JUB_2_C', '1JVQ_2_C', '1JVQ_3_D', '2JV1_1_A', '2JV1_2_B', '2JVX_1_A', '2JVY_1_A', '3JV2_2_C', '4JV5_21_U', '1JWM_3_C', '1JWS_3_C', '1JWU_3_C', '1JWY_3_C', '2JW1_2_B', '2JWM_1_A', '3JWR_2_C', '4JWC_2_C', '4JWD_2_C', '4JWE_2_C', '4JWI_2_C', '1JX2_3_C', '1JXP_2_C', '1JXQ_2_E', '2JX1_3_A', '2JX4_1_A', '2JX6_1_A', '2JXF_1_A', '2JXZ_1_A', '3JXT_2_C', '3JXV_1_A', '4JXT_2_B', '5JXH_2_H', '5JXJ_2_H', '1JY4_1_A', '1JY6_1_A', '1JY9_1_A', '1JYC_2_P', '1JYI_2_P', '1JYR_2_L', '2JY0_1_A', '2JYP_1_A', '3JYM_1_A', '4JYA_21_U', '4JYD_1_A', '4JYE_1_A', '4JYF_1_A', '4JYG_2_F', '4JYH_2_C', '4JYI_2_F', '5JYQ_1_A', '5JYQ_2_B', '1JZP_1_A', '2JZI_2_B', '3JZ1_1_A', '3JZ2_1_A', '3JZH_2_B', '3JZO_2_P', '3JZP_2_P', '3JZQ_2_P', '3JZR_2_P', '3JZS_2_P', '4JZN_3_K', '4JZO_3_I', '4JZW_2_M', '4JZZ_2_R', '1K09_1_A', '1K09_2_B', '1K0P_1_A', '2K00_2_B', '2K0F_2_B', '3K05_2_C', '3K0H_2_B', '4K0A_2_R', '4K0K_21_U', '4K0U_2_B', '5K0Y_11_M', '5K0Y_26_d', '1K18_1_A', '2K10_1_A', '2K17_1_P', '2K1I_1_A', '2K1K_1_A', '2K1L_1_A', '2K1P_1_A', '2K1Q_2_B', '2K1V_1_B', '2K1V_2_A', '3K1F_13_M', '4K1E_2_B', '5K1H_2_A', '1K21_1_L', '1K21_3_I', '1K22_1_L', '1K22_3_I', '1K2D_3_P', '2K20_2_B', '2K2F_1_C', '2K2I_2_B', '2K2R_2_B', '2K2U_2_B', '2K2Y_1_A', '2K2Z_1_A', '3K22_2_H', '3K23_2_D', '3K24_2_C', '3K27_2_B', '3K2U_2_B', '1K3A_2_B', '1K3M_1_A', '1K3M_2_B', '1K3N_2_B', '1K3Q_2_B', '2K38_1_A', '2K3C_1_A', '2K3U_2_B', '3K33_3_E', '4K38_2_C', '4K39_2_D', '1K43_1_A', '1K48_1_A', '1K4U_2_P', '1K4W_2_B', '2K42_2_B', '2K44_1_A', '2K4U_1_A', '3K48_2_R', '3K4V_1_A', '4K45_2_B', '4K4J_2_B', '5K4L_2_F', '1K5R_1_A', '1K5R_2_B', '2K58_1_B', '2K59_1_B', '2K5U_1_A', '5K58_3_L', '5K5G_1_A', '1K64_1_A', '2K6O_1_A', '2K6Q_2_B', '2K6R_1_A', '2K6T_1_A', '2K6T_2_B', '2K6U_1_A', '2K6U_2_B', '4K6I_2_B', '4K6Y_2_C', '1K74_3_B', '1K7L_2_B', '2K72_1_A', '2K76_1_A', '2K7G_1_A', '2K7L_1_B', '2K7W_2_B', '3K7Z_1_A', '4K72_2_C', '4K75_2_B', '4K76_2_E', '4K78_2_B', '4K7L_1_A', '4K7T_1_A', '1K81_1_A', '1K83_11_M', '1K8V_1_A', '2K84_1_A', '2K8F_2_B', '2K8J_1_X', '2K8X_1_A', '4K8B_2_C', '4K8Y_2_B', '5K8Q_2_B', '1K91_1_A', '2K91_1_A', '2K91_2_B', '2K98_1_A', '2K9B_1_A', '2K9E_1_A', '2K9O_1_A', '2K9R_1_A', '2K9R_2_B', '2K9U_2_B', '5K92_1_A', '1KA6_2_B', '1KA7_2_B', '1KAL_1_A', '1KAP_2_I', '1KAT_2_X', '2KA1_1_A', '2KA2_1_A', '2KA9_2_B', '2KAD_1_A', '2KAM_1_A', '4KA2_2_R', '4KA7_2_C', '1KB7_1_A', '1KB8_1_A', '2KB8_1_A', '2KBC_1_B', '2KBC_2_A', '2KBL_1_A', '2KBM_1_X', '2KBR_2_B', '2KBS_2_B', '2KBU_1_A', '2KBV_1_A', '2KBW_2_B', '4KBX_1_A', '5KB0_1_A', '5KB1_1_A', '5KB2_1_A', '1KC4_2_B', '1KC5_3_P', '1KCN_1_A', '1KCO_1_A', '1KCP_1_A', '1KCR_3_P', '1KCS_3_P', '2KC8_2_B', '2KCF_1_A', '2KCG_1_A', '2KCH_1_A', '1KD8_1_A', '1KD8_2_B', '1KD9_1_A', '1KD9_2_B', '1KDD_1_B', '1KDD_2_A', '1KDL_1_A', '1KDV_2_B', '1KDX_2_B', '1KDY_2_B', '1KDZ_2_B', '2KDQ_1_A', '2KDR_1_X', '2KDU_2_B', '3KDP_3_G', '1KE2_2_B', '2KE1_2_B', '2KEF_1_A', '2KEG_1_A', '2KEH_1_A', '2KET_1_A', '3KEE_2_E', '4KEL_2_B', '1KFA_2_H', '1KFP_1_A', '2KFE_1_A', '2KFF_2_B', '2KFG_2_B', '2KFH_2_B', '2KFQ_1_A', '2KFT_2_B', '3KF2_2_C', '3KF9_2_B', '3KFU_3_F', '1KG0_3_D', '1KGM_1_A', '2KGB_2_I', '2KGH_1_A', '2KGI_2_B', '2KGN_1_A', '2KGU_1_A', '3KGV_1_A', '4KG9_2_B', '4KGR_1_A', '4KGS_1_A', '4KGT_1_A', '5KGF_7_L', '5KGY_1_A', '1KHP_2_I', '1KHQ_2_I', '2KHB_1_A', '2KHF_1_A', '2KHG_1_A', '2KHH_2_B', '2KHS_2_B', '2KHT_1_A', '4KHP_21_U', '5KHB_1_A', '5KHY_1_A', '1KIO_1_A', '2KI0_1_A', '2KI9_1_A', '2KIB_1_A', '2KIK_1_A', '2KIO_1_A', '2KIR_1_A', '2KIT_1_A', '2KIX_1_A', '3KII_1_A', '3KIK_2_E', '1KJ0_1_A', '1KJ4_2_P', '1KJ5_1_A', '1KJ7_2_P', '1KJF_2_P', '1KJG_2_P', '1KJH_2_P', '1KJV_3_P', '1KJY_2_B', '2KJ4_2_B', '2KJ7_1_A', '2KJJ_1_A', '2KJJ_2_B', '2KJM_1_A', '2KJN_1_A', '2KJO_1_A', '2KJU_1_A', '2KJU_2_B', '3KJ0_2_B', '3KJ1_2_B', '3KJ2_2_B', '3KJL_2_E', '5KJ3_1_A', '5KJG_1_A', '5KJR_2_N', '1KKQ_2_E', '2KK9_1_A', '3KKV_2_I', '5KK9_1_A', '5KKV_1_A', '1KL3_2_E', '1KL5_2_E', '1KL8_2_B', '1KLG_3_C', '1KLQ_2_B', '1KLR_1_A', '1KLS_1_A', '1KLU_3_C', '2KLW_3_C', '3KL8_2_B', '3KLA_3_C', '5KLR_2_A', '5KLT_2_A', '1KMF_1_A', '1KMF_2_B', '1KMR_1_A', '2KM9_1_A', '3KMG_2_B', '3KMR_2_C', '3KMT_2_G', '3KMZ_2_C', '4KMD_2_B', '7KME_1_L', '7KME_3_I', '7KME_4_J', '8KME_1_1', '8KME_3_3', '8KME_4_4', '1KNA_2_P', '1KNE_2_P', '2KN1_1_A', '2KNE_2_B', '2KNH_2_B', '2KNM_1_A', '2KNN_1_A', '2KNP_1_A', '2KNS_1_A', '2KNU_1_A', '3KN2_2_B', '3KN4_1_A', '3KNX_2_B', '4KN9_2_L', '1KOZ_1_A', '2KOH_2_B', '2KOZ_1_A', '4KO1_2_L', '4KO2_2_L', '4KO4_2_L', '1KP0_1_A', '1KPA_1_A', '1KPC_1_A', '1KPE_1_A', '1KPF_1_A', '1KPR_3_P', '2KP0_1_A', '2KPA_1_A', '2KPB_1_A', '2KPE_1_A', '2KPF_1_A', '2KPL_2_B', '2KPZ_2_B', '3KPE_2_B', '3KPO_3_C', '4KP9_1_A', '5KP1_1_A', '5KP3_1_A', '1KQE_1_A', '1KQF_1_A', '1KQG_1_A', '1KQH_1_A', '1KQI_1_A', '2KQF_2_B', '2KQQ_1_A', '2KQQ_2_B', '2KQT_1_A', '3KQ6_1_A', '3KQ6_2_B', '3KQI_2_B', '5KQ1_2_C', '5KQ4_2_F', '2KRB_2_B', '2KRD_2_I', '2KS9_2_B', '2KSA_2_B', '2KSB_2_B', '2KSP_2_B', '2KSQ_1_A', '5KS9_5_I', '1KTL_3_P', '1KTS_1_A', '1KTS_3_C', '1KTT_1_A', '1KTT_3_C', '1KTX_1_A', '2KTB_1_A', '2KTC_1_A', '2KTF_2_B', '2KTN_1_A', '2KTO_1_A', '2KTX_1_A', '3KTI_2_H', '3KTJ_2_H', '3KTK_2_O', '3KTP_2_B', '3KTR_2_B', '4KT0_9_M', '4KTC_2_B', '4KTS_2_B', '4KTU_2_B', '4KTY_2_C', '1KU8_2_B', '1KUG_2_B', '1KUI_2_B', '1KUJ_2_B', '1KUK_2_B', '1KUP_1_A', '1KUP_2_B', '1KUW_1_A', '1KUZ_1_A', '1KUZ_2_B', '2KUK_1_A', '2KUP_2_B', '2KUS_1_A', '2KUX_1_A', '3KUI_2_B', '3KUJ_2_B', '3KUS_2_C', '3KUT_2_C', '4KUF_1_A', '1KV6_2_C', '1KVF_1_A', '1KVG_1_A', '2KV5_1_A', '2KVF_1_A', '2KVG_1_A', '2KVH_1_A', '2KVM_2_B', '2KVX_1_A', '3KV4_2_B', '4KV1_2_C', '4KV4_2_B', '4KVB_12_L', '4KVB_20_U', '4KVT_1_A', '4KVU_1_A', '4KVV_1_A', '5KVM_2_B', '5KVN_1_A', '1KWD_1_A', '1KWE_1_A', '2KWF_2_B', '2KWJ_1_B', '2KWK_1_B', '2KWN_1_B', '2KWO_1_B', '2KWT_1_A', '2KWX_1_A', '3KWW_3_C', '3KWY_2_B', '5KWO_1_A', '5KWP_1_A', '5KWX_1_A', '5KWZ_1_A', '1KX6_1_A', '2KX5_2_B', '2KXA_1_A', '2KXH_2_B', '2KXK_1_A', '2KXK_2_B', '2KXQ_2_B', '2KXW_2_B', '3KXF_5_Q', '4KXQ_2_B', '5KX0_1_A', '5KX1_1_A', '5KX2_1_A', '1KY6_2_P', '1KY7_2_P', '1KYC_1_A', '1KYD_2_P', '1KYF_2_P', '1KYU_2_P', '2KY3_1_A', '2KYA_1_A', '2KYG_2_C', '2KYJ_1_A', '2KYK_1_A', '2KYL_2_B', '2KYM_2_B', '3KYN_3_P', '3KYO_3_P', '3KYT_2_C', '1KZ0_1_A', '1KZ2_1_A', '1KZ5_1_A', '1KZO_3_C', '1KZS_1_A', '1KZT_1_A', '1KZV_1_A', '1KZZ_2_B', '2KZQ_1_A', '2KZU_2_B', '3KZ0_2_C', '3KZE_2_D', '3KZI_8_I', '3KZI_10_K', '3KZI_11_L', '3KZI_12_M', '3KZI_14_T', '5KZT_2_C', '5KZT_3_D', '1L0A_2_B', '2L07_1_A', '2L0E_1_A', '2L0G_1_A', '2L0I_2_B', '2L0L_1_A', '2L0M_1_A', '2L0N_1_A', '2L0O_1_A', '2L0Z_1_A', '3L03_2_C', '3L0E_2_B', '3L0J_2_C', '3L0L_2_C', '5L02_1_A', '1L1K_1_A', '1L1V_2_B', '2L11_2_B', '2L12_2_B', '2L1B_2_B', '2L1C_2_B', '2L1J_1_A', '2L1L_1_A', '2L1O_1_A', '2L1R_2_B', '2L1W_2_B', '2L1X_1_A', '2L1Y_1_A', '2L1Y_2_B', '2L1Z_1_A', '2L1Z_2_B', '4L1G_1_A', '5L11_2_C', '5L1Z_3_C', '5L1Z_4_D', '1L2I_2_C', '1L2Q_1_A', '1L2Y_1_A', '1L2Z_2_B', '2L24_1_A', '2L27_2_B', '2L2E_1_A', '2L2L_2_B', '2L2R_1_A', '4L29_3_m', '5L23_2_B', '1L3Q_1_A', '1L3R_2_I', '2L34_1_A', '2L35_2_B', '2L36_1_A', '2L3H_1_A', '2L3I_1_A', '3L35_1_A', '3L35_2_H', '3L36_1_A', '3L36_2_H', '3L37_1_A', '3L37_2_H', '3L3D_3_C', '3L3G_3_C', '3L3H_3_C', '3L3J_3_C', '3L3K_3_C', '3L3Q_2_B', '3L3X_2_B', '3L3Z_2_B', '4L3C_3_m', '4L3E_3_C', '4L3O_2_E', '5L3F_3_C', '5L3G_3_C', '5L3T_4_D', '5L3T_5_F', '1L4T_1_A', '1L4W_2_B', '1L4X_1_A', '2L44_1_A', '2L45_1_A', '2L46_1_A', '2L4G_1_A', '2L4K_2_B', '2L4T_2_B', '2L4U_1_A', '3L41_2_B', '1L5G_3_C', '2L53_2_B', '2L56_1_A', '2L58_1_A', '2L5B_1_A', '2L5E_2_B', '2L5G_1_A', '2L5I_1_A', '2L5J_1_A', '2L5M_1_A', '2L5R_1_A', '2L5S_1_A', '4L58_2_B', '1L6O_2_D', '1L6X_2_B', '2L60_1_A', '2L61_1_A', '2L62_1_A', '2L63_1_A', '2L64_1_A', '2L6E_2_B', '2L6S_1_A', '2L6T_1_A', '2L6W_1_A', '2L6Y_1_A', '2L6Z_1_A', '2L6Z_2_B', '3L6F_3_C', '3L6X_2_B', '3L6Y_2_B', '4L67_2_B', '4L6V_8_M', '2L75_2_B', '2L77_1_A', '2L79_1_A', '2L7C_1_A', '2L7L_2_B', '2L7S_1_A', '2L7T_1_A', '2L7U_2_B', '3L70_9_I', '3L71_9_I', '3L72_9_I', '3L73_9_I', '3L74_9_I', '3L75_9_I', '4B0O_1_A', '4B0P_1_A', '5B0Y_1_A', '1B17_1_A', '1B17_2_B', '1B18_1_A', '1B18_2_B', '1B19_1_A', '1B19_2_B', '1B1H_2_B', '1B1V_1_A', '2B19_1_A', '2B1A_3_P', '2B1F_1_A', '2B1H_3_P', '2B1J_2_C', '2B1V_2_C', '2B1Z_2_C', '3B1J_2_C', '3B1K_2_C', '3B1M_2_B', '4B18_2_B', '4B19_1_A', '4B1Q_1_P', '4B1U_2_M', '4B1V_2_M', '4B1W_2_M', '4B1X_2_M', '4B1Y_2_M', '5B16_1_A', '5B16_2_B', '1B2A_1_A', '1B2A_2_B', '1B2B_1_A', '1B2B_2_B', '1B2C_1_A', '1B2C_2_B', '1B2D_1_A', '1B2D_2_B', '1B2E_1_A', '1B2E_2_B', '1B2F_1_A', '1B2F_2_B', '1B2G_1_A', '1B2G_2_B', '1B2H_2_B', '2B22_1_A', '2B23_2_C', '2B26_2_D', '3B23_1_A', '3B23_3_C', '4B2M_1_A', '4B2U_1_A', '4B2V_1_A', '1B32_2_B', '1B38_1_A', '1B39_1_A', '1B3F_2_B', '1B3G_2_B', '1B3H_2_B', '1B3L_2_B', '2B38_1_A', '2B3G_2_B', '4B3B_2_C', '4B3M_21_V', '4B3R_21_V', '4B3S_21_V', '4B3T_21_V', '1B40_2_B', '1B45_1_A', '1B46_2_B', '1B4G_1_A', '1B4H_2_B', '1B4I_1_A', '1B4Z_2_B', '4B45_2_B', '4B4N_2_B', '4B4S_2_B', '1B51_2_B', '1B52_2_B', '1B58_2_B', '1B5G_1_L', '1B5G_3_I', '1B5H_2_B', '1B5I_2_B', '1B5J_2_B', '1B5N_1_A', '2B5B_1_A', '2B5K_1_A', '2B5P_1_A', '2B5Q_1_A', '4L7X_2_U', '5L7K_2_B', '2L86_1_A', '2L87_1_A', '2L8J_2_B', '2L8X_1_A', '3L81_2_B', '3L8J_1_A', '3L8L_1_A', '3L8L_2_B', '3L8W_1_A', '4L8B_3_C', '4L8C_3_I', '4L8D_3_E', '4L8S_3_C', '5L83_1_C', '5L85_2_B', '5L8E_2_C', '5L8H_2_B', '1L9H_1_A', '2L96_1_X', '2L99_1_X', '2L9A_1_X', '2L9G_1_A', '2L9I_1_A', '2L9X_1_A', '2L9Z_1_A', '3L9G_1_A', '3L9K_2_W', '3L9L_2_C', '3L9M_2_C', '3L9N_2_C', '4L9L_1_C', '5L9B_2_C', '5L9V_2_C', '1LA4_1_A', '1LA6_1_A', '2LA0_1_A', '2LA2_1_A', '2LA5_2_B', '2LAJ_2_B', '2LAM_1_A', '2LAQ_1_A', '2LAS_2_B', '2LAT_1_A', '2LAW_1_A', '2LAW_2_B', '2LAX_2_B', '2LAY_1_A', '2LAY_2_B', '2LAZ_1_A', '4LAJ_2_K', '5LA9_2_C', '5LAS_2_C', '1LB0_1_A', '1LB5_2_B', '1LB6_2_B', '1LB7_1_A', '1LBJ_1_A', '2LB0_1_A', '2LB0_2_B', '2LB1_1_A', '2LB1_2_B', '2LB2_1_A', '2LB2_2_B', '2LB3_1_A', '2LB3_2_B', '2LBG_1_A', '2LBM_2_C', '2LBZ_1_A', '3LBG_1_A', '3LBW_1_A', '4LB1_1_D', '4LB7_1_D', '4LBB_1_A', '4LBF_1_A', '1LCJ_2_B', '1LCK_2_B', '1LCX_1_A', '2LCM_1_A', '2LCN_1_A', '2LCO_1_A', '2LCS_2_B', '2LCT_2_B', '3LCN_2_C', '4LCD_2_C', '5LC5_7_G', '5LC5_15_O', '5LC5_16_P', '5LC5_17_Q', '5LC5_18_R', '5LC5_24_X', '5LC5_26_Z', '5LC5_28_b', '5LC5_30_d', '5LC5_34_h', '5LC5_35_i', '5LC5_36_j', '5LC5_37_k', '5LC5_38_l', '5LC5_39_m', '5LC5_40_n', '5LC5_42_p', '5LC5_44_r', '5LC5_45_s', '1LD9_3_C', '1LDP_3_P', '1LDP_4_Q', '2LD0_1_A', '2LD2_1_A', '2LDA_1_A', '2LDC_1_A', '2LDD_1_A', '2LDE_1_A', '2LDF_1_A', '2LDJ_1_A', '2LDS_1_A', '3LD4_1_A', '3LDH_1_A', '3LDX_1_L', '3LDX_3_I', '4LD9_7_K', '5LD2_1_B', '5LDH_1_A', '5LDW_7_G', '5LDW_15_O', '5LDW_16_P', '5LDW_17_Q', '5LDW_18_R', '5LDW_23_X', '5LDW_25_Z', '5LDW_27_b', '5LDW_29_d', '5LDW_33_h', '5LDW_34_i', '5LDW_35_j', '5LDW_36_k', '5LDW_37_l', '5LDW_38_m', '5LDW_39_n', '5LDW_41_p', '5LDW_43_r', '5LDW_44_s', '5LDX_7_G', '5LDX_15_O', '5LDX_16_P', '5LDX_17_Q', '5LDX_18_R', '5LDX_23_X', '5LDX_25_Z', '5LDX_27_b', '5LDX_29_d', '5LDX_33_h', '5LDX_34_i', '5LDX_35_j', '5LDX_36_k', '5LDX_37_l', '5LDX_38_m', '5LDX_39_n', '5LDX_41_p', '5LDX_43_r', '5LDX_44_s', '6LDH_1_A', '8LDH_1_A', '9LDB_1_A', '9LDT_1_A', '1LE0_1_A', '1LE1_1_A', '1LE3_1_A', '2LE7_1_A', '2LE8_2_B', '2LEH_2_B', '2LER_1_A', '2LET_1_A', '2LEU_1_A', '2LEW_1_A', '2LEY_1_A', '3LEU_1_A', '3LEX_3_P', '3LEY_3_P', '4LEB_2_B', '1LFC_1_A', '1LFO_1_A', '4LF4_12_L', '4LF4_21_U', '4LF5_12_L', '4LF5_21_U', '4LF6_12_L', '4LF6_21_U', '4LF7_12_L', '4LF7_21_U', '4LF8_12_L', '4LF8_21_U', '4LF9_12_L', '4LF9_21_U', '4LFA_12_L', '4LFA_21_U', '4LFB_12_L', '4LFB_21_U', '4LFC_12_L', '4LFC_21_U', '4LFQ_1_A', '4LFS_1_A', '4LFT_1_A', '5LFF_1_A', '5LFH_1_A', '1LGL_1_A', '2LG5_1_A', '2LG6_1_A', '2LGB_1_A', '2LGB_2_B', '2LGF_2_B', '2LGK_2_B', '3LGE_2_E', '4LG6_2_B', '5LGA_2_B', '1LHC_1_L', '1LHD_1_L', '1LHE_1_L', '1LHE_3_I', '1LHF_1_L', '1LHF_3_I', '1LHG_1_L', '1LHG_3_I', '2LHX_1_A', '1LIQ_1_A', '1LIR_1_A', '2LI3_1_A', '2LI5_2_B', '2LI7_1_A', '2LI9_1_A', '2LIC_1_A', '2LID_1_A', '2LIF_1_A', '2LIX_1_A', '3LIY_2_I', '4LI3_2_A', '5LI1_2_B', '5LIH_2_F', '5LIS_1_A', '5LIS_2_B', '1LJ2_2_C', '1LJV_1_A', '1LJZ_2_B', '2LJ3_1_A', '2LJB_1_A', '2LJC_1_A', '2LJQ_1_A', '2LJS_1_A', '2LJT_1_A', '3LJM_1_A', '5LJ3_31_x', '5LJ5_35_x', '5LJN_2_C', '1LK6_2_C', '1LK6_3_D', '1LKK_2_B', '1LKL_2_B', '1LKQ_1_A', '1LKQ_2_B', '2LK0_1_A', '2LK1_1_A', '2LK5_1_A', '2LK6_1_A', '2LK9_1_A', '2LKE_1_A', '2LKJ_1_A', '2LKQ_1_A', '2LKW_1_A', '3LK4_3_C', '3LKN_3_C', '4LK9_2_B', '4LKA_2_B', '4LKL_2_B', '4LKM_2_B', '4LKU_1_A', '4LKX_3_R', '2LL1_1_A', '2LL2_1_A', '2LL5_1_A', '2LL6_2_B', '2LL7_2_B', '2LLO_2_B', '2LLP_1_A', '2LLQ_2_B', '2LLR_1_A', '3LL8_1_E', '3LLY_2_B', '3LLZ_2_B', '4LLB_2_C', '1LM8_4_H', '1LMR_1_A', '2LM8_1_A', '2LMA_1_A', '2LMF_1_A', '3LM1_2_B', '3LMP_2_C', '5LMN_21_V', '5LMO_21_V', '5LMP_21_V', '5LMQ_21_V', '5LMR_21_V', '5LMS_21_V', '5LMT_21_V', '5LMU_21_V', '5LMV_21_V', '5LMY_1_A', '2LN4_1_A', '2LNE_1_A', '2LNF_1_A', '2LNG_1_A', '2LNK_1_C', '2LNY_1_A', '3LN5_3_C', '3LNJ_2_B', '3LNS_1_A', '3LNY_2_B', '3LNZ_2_B', '4LNR_3_C', '1LO5_3_C', '1LOI_1_A', '2LO2_1_A', '2LO6_2_B', '2LO7_1_A', '2LO9_1_A', '2LOB_2_B', '2LOC_1_A', '2LOZ_2_B', '3LO1_1_A', '3LO2_1_A', '3LO4_1_A', '3LO6_1_A', '3LO9_1_A', '3LOE_1_A', '3LON_2_B', '3LOX_2_B', '3LOZ_1_A', '4LOO_2_B', '4LOP_2_K', '4LOQ_2_M', '4LOY_2_I', '4LOY_3_L', '1LP9_3_C', '1LPH_1_A', '1LPH_2_B', '2LP0_2_B', '2LP8_2_B', '2LPB_2_B', '2LPR_2_P', '3LP9_1_A', '3LPR_2_P', '5LPR_2_P', '6LPR_2_P', '7LPR_2_P', '8LPR_2_P', '9LPR_2_P', '1LQ8_2_B', '1LQB_4_D', '1LQV_2_C', '2LQ0_1_A', '2LQ1_1_A', '2LQ2_1_A', '2LQA_1_A', '2LQC_2_B', '2LQY_1_A', '3LQI_2_R', '3LQJ_2_Q', '3LQV_2_P', '2LR1_2_B', '2LR5_1_A', '2LR7_1_A', '2LR9_1_A', '3LRH_2_B', '4LRR_1_A', '5LRV_3_C', '5LRW_2_B', '5LRX_2_B', '1LS5_2_C', '2LS1_1_A', '2LS2_1_A', '2LS3_1_A', '2LS4_1_A', '2LS9_1_A', '2LSA_1_A', '2LSI_2_B', '2LSJ_2_B', '2LSK_2_B', '2LSP_1_A', '2LSQ_1_A', '2LSR_2_B', '2LSV_2_B', '4LSJ_2_B', '5LSO_2_C', '1LT1_1_A', '1LTJ_4_G', '1LTJ_5_H', '2LTI_1_A', '2LTO_2_B', '2LTV_1_A', '2LTV_2_B', '2LTW_1_A', '2LTW_2_B', '2LTX_1_A', '2LTX_2_B', '2LTY_1_A', '2LTY_2_B', '2LTZ_1_A', '2LTZ_2_B', '1LU0_1_A', '1LU8_1_A', '1LUI_1_A', '1LUK_1_A', '1LUM_1_A', '1LUN_1_A', '1LUP_1_A', '2LU6_1_1', '2LU9_1_A', '2LUE_2_B', '2LUF_1_A', '2LUG_1_A', '2LUR_1_A', '2LUV_1_A', '3LU9_3_C', '3LUO_2_B', '5LUW_2_L', '5LUY_2_L', '1LV4_1_A', '1LVB_2_C', '1LVM_2_C', '1LVM_3_E', '1LVQ_1_A', '1LVR_1_A', '1LVZ_1_A', '2LV6_2_B', '2LVM_2_B', '3LVG_2_D', '3LVH_2_D', '3LVX_1_A', '5LVP_2_E', '2LWA_1_A', '2LWB_1_A', '2LWC_1_A', '2LWQ_1_A', '2LWS_1_A', '2LWT_1_A', '2LWU_1_A', '2LWV_1_A', '3LW1_2_P', '3LW5_9_I', '3LW5_14_R', '1LXF_2_I', '1LXG_2_B', '1LXH_2_B', '2LX0_1_A', '2LX4_1_A', '2LX5_1_A', '2LX6_1_A', '2LXG_1_A', '2LXP_2_B', '2LXS_2_B', '2LXT_2_B', '2LXT_3_C', '2LXZ_1_A', '4LX2_2_B', '4LX3_2_B', '4LXB_2_I', '4LXB_3_L', '5LXM_2_D', '1LYB_3_I', '1LYP_1_A', '2LY0_1_A', '2LYD_2_B', '2LYE_1_A', '2LYF_1_A', '2LYW_1_A', '2LZ3_1_A', '2LZ4_1_A', '2LZ5_1_A', '2LZI_1_A', '2LZO_1_A', '2LZP_1_A', '2LZQ_1_A', '2LZX_1_A', '2LZY_1_A', '3LZB_1_A', '4LZ1_1_L', '4LZ4_1_A', '4LZF_2_B', '1M02_1_A', '1M05_3_E', '1M06_3_J', '1M0G_1_A', '1M0J_1_A', '1M0V_2_B', '2M04_2_B', '2M0H_1_A', '2M0J_2_B', '2M0K_2_B', '2M0O_2_B', '2M0S_1_A', '2M0U_2_B', '2M0V_2_B', '2M0W_1_A', '1M1J_5_I', '2M17_1_A', '2M1A_1_A', '2M1D_1_A', '2M1D_2_B', '2M1E_1_A', '2M1E_2_B', '2M1F_1_A', '2M1J_1_A', '2M1P_1_A', '2M1T_1_A', '3M17_3_I', '3M1B_3_I', '3M1F_2_V', '4M1D_3_P', '4M1Z_2_C', '1M23_1_A', '1M24_1_A', '1M25_1_A', '1M26_2_B', '1M27_2_B', '1M2C_1_A', '1M2S_1_A', '1M2Z_2_B', '2M2G_1_A', '2M2H_1_A', '2M2M_1_A', '2M2M_2_B', '2M2N_1_A', '2M2N_2_B', '2M2O_1_A', '2M2O_2_B', '2M2P_1_A', '2M2P_2_B', '2M2Q_1_A', '2M2R_1_A', '2M2S_1_A', '2M2X_1_A', '2M2Y_1_A', '1M36_1_A', '1M3W_1_A', '2M36_1_A', '2M37_1_A', '2M3F_1_A', '2M3I_1_A', '2M3J_1_A', '2M3M_2_B', '2M3N_1_A', '2M3O_2_P', '4M3C_1_A', '4M3C_3_E', '1M43_2_C', '1M45_2_B', '1M46_2_B', '1M4E_1_A', '1M4F_1_A', '1M4P_2_B', '2M41_1_A', '2M4X_1_A', '2M4Z_1_A', '3M48_1_A', '3M4C_2_E', '4M4F_1_A', '4M4F_2_B', '4M4H_1_A', '4M4H_2_B', '4M4I_1_A', '4M4I_2_B', '4M4J_1_A', '4M4J_2_B', '4M4L_1_A', '4M4L_2_B', '4M4M_1_A', '4M4M_2_B', '1M5A_1_A', '1M5A_2_B', '1M5N_2_Q', '2M50_1_A', '2M55_2_B', '2M59_1_A', '2M5B_2_B', '2M5E_2_B', '2M5L_1_A', '2M5N_1_A', '2M5P_1_X', '2M5Q_1_X', '3M50_2_P', '3M51_2_P', '3M53_2_B', '3M54_2_B', '3M55_2_B', '3M56_2_B', '3M57_2_B', '3M58_2_B', '3M59_2_B', '3M5A_2_B', '3M5M_2_C', '3M5N_2_F', '3M5O_2_C', '4M5S_2_B', '4M5T_2_B', '1M63_4_D', '1M6O_3_C', '2M61_1_A', '2M62_1_A', '2M6A_1_A', '2M6C_1_A', '2M6D_1_A', '2M6E_1_A', '2M6F_1_A', '2M6G_1_A', '2M6H_1_A', '2M6J_1_A', '3M61_2_P', '4M6E_1_A', '1M72_2_D', '1M7E_2_D', '2M73_1_A', '2M77_1_A', '2M78_1_A', '2M79_1_A', '2M7C_1_A', '2M7D_1_A', '2M7E_1_A', '2M7I_1_A', '2M7J_1_A', '2M7R_1_A', '2M7T_1_A', '2M7X_1_A', '4M70_3_R', '4M7C_2_C', '1M8O_1_A', '2M8F_1_A', '2M8M_1_A', '2M8O_1_A', '2M8S_2_B', '2M8V_1_A', '4M8E_2_B', '4M8H_2_B', '2M9E_1_A', '2M9F_1_A', '2M9I_1_A', '2M9J_1_A', '2M9L_1_A', '2M9O_1_A', '3M93_2_C', '3M94_2_C', '4M92_2_B', '4M9S_2_E', '4M9X_2_C', '4M9Y_2_C', '4M9Z_2_E', '1MA2_1_A', '1MA3_2_B', '1MA4_1_A', '1MA5_1_A', '1MA6_1_A', '1MAG_1_A', '2MA9_1_A', '2MAA_1_A', '2MAE_1_A', '2MAG_1_A', '2MAI_1_A', '2MAK_2_B', '2MAU_1_A', '1MB6_1_A', '1MBA_1_A', '1MBE_1_A', '1MBF_1_A', '1MBG_1_A', '1MBH_1_A', '1MBJ_1_A', '1MBK_1_A', '2MBD_1_A', '3MBA_1_A', '3MBE_3_P', '4MBA_1_A', '4MBE_4_H', '5MBA_1_A', '1MCH_2_P', '1MCT_2_I', '1MCV_2_I', '2MC1_2_B', '2MC6_2_B', '2MC7_1_A', '2MCE_1_A', '2MCR_1_A', '2MCU_1_A', '2MCV_1_A', '2MCW_1_A', '2MCX_1_A', '4MCK_1_A', '4MCY_3_C', '4MCZ_3_C', '1MDC_1_A', '1MDI_2_B', '1MDJ_2_B', '1MDK_2_B', '2MD1_1_A', '2MD2_1_A', '2MD3_1_A', '2MD4_1_A', '2MD6_1_A', '2MDB_1_A', '2MDL_1_A', '2MDQ_1_A', '2MDU_1_A', '2MDV_1_A', '2MDW_1_A', '3MD4_1_A', '4MD0_3_C', '4MD4_3_C', '4MD5_3_C', '4MDD_2_C', '4MDH_1_A', '4MDI_3_C', '4MDJ_3_C', '4MDR_2_B', '1MEA_1_A', '1MED_1_A', '1MEQ_1_A', '2ME1_1_A', '2ME2_1_A', '2ME3_1_A', '2ME4_1_A', '2ME7_1_A', '2MEL_1_A', '2MEN_1_A', '2MEO_1_A', '2MET_1_A', '2MEU_1_A', '3ME9_2_C', '3MET_2_C', '4MEX_6_M', '1MF6_1_A', '1MF8_4_D', '1MFG_2_B', '1MFL_2_B', '2MFM_1_A', '2MFO_1_A', '2MFP_1_A', '2MFQ_2_B', '2MFS_1_A', '2MFV_1_A', '2MFX_1_A', '2MFY_1_A', '3MF7_1_A', '3MFE_1_H', '4MFL_2_B', '4MFP_2_B', '4MFQ_2_B', '2MG0_1_A', '2MG1_1_A', '2MG2_1_A', '2MG3_1_A', '2MG5_2_B', '2MG6_1_A', '2MG9_1_A', '2MGO_1_A', '2MGT_1_A', '2MGU_2_M', '3MG9_1_A', '3MG9_2_B', '3MGN_1_A', '3MGN_2_G', '3MGO_3_C', '3MGT_3_C', '4MG5_2_C', '4MG6_2_C', '4MG7_3_C', '4MG8_3_C', '4MG9_3_F', '4MGA_3_C', '4MGB_3_C', '4MGC_2_F', '4MGD_3_F', '4MGP_1_A', '4MGX_2_B', '1MHC_3_C', '1MHE_3_P', '1MHH_1_A', '1MHI_1_A', '1MHI_2_B', '1MHJ_1_A', '1MHJ_2_B', '1MHM_2_A', '1MHU_1_A', '2MH0_1_A', '2MH1_1_A', '2MH5_1_A', '2MHO_2_B', '2MHU_1_A', '2MHW_1_A', '3MH7_2_B', '3MHP_2_C', '3MHR_2_P', '1MIC_1_A', '1MII_1_A', '1MIK_2_B', '1MIZ_1_A', '2MI1_1_A', '2MI9_1_A', '2MIA_1_A', '2MID_1_A', '2MIE_1_A', '2MIF_1_A', '2MIG_1_A', '2MIH_1_A', '2MIJ_1_A', '2MIP_2_E', '2MIT_1_A', '2MIX_1_A', '3MIM_3_X', '4MI8_2_C', '2MJ1_1_A', '2MJ2_1_A', '2MJ9_1_A', '2MJC_1_A', '2MJQ_1_A', '2MJR_1_A', '2MJS_1_A', '2MJT_1_A', '3MJH_2_B', '4MJ5_3_C', '4MJ6_3_C', '4MJH_2_B', '1MK2_2_B', '1MK7_1_A', '1MK9_1_A', '2MK9_1_A', '2MKA_1_A', '2MKB_1_A', '2MKC_2_B', '2MKC_3_C', '2MKP_2_I', '2MKR_2_B', '3MK4_2_B', '3MK7_4_U', '3MK8_2_B', '3MKB_2_B', '4MKJ_1_A', '4MKK_1_A', '2ML7_1_A', '2MLA_1_A', '2MLD_1_A', '2MLI_1_A', '2MLI_2_B', '2MLJ_1_A', '2MLO_1_A', '2MLP_1_A', '2MLQ_1_A', '2MLT_1_A', '2MLU_1_A', '2MLV_1_A', '3ML4_2_E', '3MLR_3_P', '3MLS_3_P', '3MLT_3_P', '3MLU_3_P', '3MLV_3_P', '3MLW_3_P', '3MLX_3_P', '3MLY_3_P', '3MLZ_3_P', '4MLF_1_A', '4MLI_2_B', '4MLS_2_B', '1MM0_1_A', '1MMC_1_A', '2MM5_1_A', '2MM6_1_A', '2MMJ_1_A', '2MMM_1_A', '2MMT_1_A', '2MMW_1_A', '3MMG_2_C', '3MMV_2_X', '1MNB_2_A', '1MNF_2_O', '1MNV_2_C', '2MN1_1_A', '2MN8_1_A', '2MN9_1_A', '2MNJ_1_A', '2MNQ_1_A', '2MNS_1_A', '2MNU_2_B', '2MNZ_2_B', '3MN5_2_S', '3MN6_2_X', '3MN9_2_X', '3MNE_2_B', '3MNO_2_B', '3MNP_2_B', '3MNW_1_P', '3MNZ_1_P', '4MN3_2_B', '4MN8_3_C', '4MNV_2_B', '4MNW_2_B', '4MNX_2_B', '4MNY_2_C', '1MOT_1_A', '2MOA_1_A', '2MOC_1_A', '2MOW_2_B', '3MO8_2_B', '3MOA_1_P', '3MOB_1_P', '3MOD_1_P', '1MP6_1_A', '1MPA_3_P', '1MPJ_1_A', '1MPJ_2_B', '1MPV_1_A', '2MP2_3_C', '2MP9_1_A', '2MPA_3_P', '2MPG_1_A', '2MPG_2_B', '2MPI_1_A', '2MPI_2_B', '2MPJ_1_A', '2MPM_2_B', '2MPQ_1_A', '2MPS_2_B', '2MPT_2_B', '2MPZ_1_A', '3MPH_1_A', '1MQ1_2_C', '1MQX_1_A', '1MQY_1_A', '1MQZ_1_A', '2MQ2_1_A', '2MQ4_1_A', '2MQ5_1_A', '2MQF_1_A', '2MQU_1_A', '3MQP_2_B', '3MQR_2_B', '3MQS_2_D', '4MQ9_6_I', '4MQV_2_B', '1MR0_1_A', '1MRB_1_A', '1MRT_1_A', '2MRB_1_A', '2MRE_2_B', '2MRF_1_A', '2MRT_1_A', '3MR9_3_P', '3MRA_1_A', '3MRB_3_P', '3MRF_3_P', '3MRG_3_P', '3MRH_3_P', '3MRK_3_P', '3MRL_3_P', '3MRM_3_P', '3MRN_3_P', '3MRO_3_P', '3MRP_3_P', '3MRQ_3_P', '3MRR_3_P', '1MSO_1_A', '1MSO_2_B', '2MS4_2_B', '2MSA_1_A', '2MSF_1_A', '2MSO_1_A', '2MSQ_1_A', '2MSR_1_A', '2MSU_1_A', '4MS8_4_B', '4MSW_3_C', '1MT1_2_B', '1MT7_2_P', '1MT8_2_P', '1MT9_2_P', '1MTN_1_A', '1MTQ_1_A', '1MTX_1_A', '2MT7_1_A', '2MT8_1_A', '2MTM_1_A', '2MTO_1_A', '2MTP_2_B', '2MTT_1_A', '2MTU_1_A', '2MTW_1_A', '2MTX_1_A', '2MTY_1_A', '3MT6_2_1', '3MTH_1_A', '3MTH_2_B', '5B56_2_C', '5B5B_2_C', '1B6H_2_B', '1B6J_2_C', '4B60_2_C', '1B7H_2_B', '1B7X_1_A', '1B7X_3_C', '2B7F_2_I', '3B71_2_D', '3B7S_2_B', '3B7T_2_B', '4B7E_2_B', '4B7K_2_B', '4B7T_2_B', '5B75_2_B', '5B76_2_B', '5B77_2_B', '5B78_2_B', '1B8H_2_D', '1B8Q_2_B', '3B8E_3_G', '4B8O_2_B', '4B8P_2_C', '1B9E_1_A', '1B9E_2_B', '1B9J_2_B', '1B9P_1_A', '1B9Q_1_A', '1B9U_1_A', '2B9H_2_C', '2B9I_2_C', '2B9J_2_C', '3B95_2_P', '4B9W_2_P', '1BA8_1_A', '1BA8_3_C', '1BAB_1_A', '1BAH_1_A', '2BAI_1_A', '2BAO_1_A', '2BAU_1_A', '3BAE_3_A', '4BAH_1_A', '4BAH_3_D', '4BAK_1_A', '4BAK_3_D', '4BAM_1_A', '4BAM_3_D', '4BAN_1_A', '4BAN_3_D', '4BAO_1_A', '4BAO_3_D', '4BAQ_1_A', '4BAQ_3_D', '1BB0_1_A', '1BB0_3_C', '1BB1_1_A', '1BB1_2_B', '1BB1_3_C', '1BBA_1_A', '1BBR_4_F', '1BBZ_2_B', '2BBA_2_P', '2BBL_1_A', '2BBM_2_B', '2BBN_2_B', '2BBP_1_A', '2BBU_2_B', '4MT2_1_A', '1MU6_1_A', '1MU6_3_C', '1MU8_1_A', '1MU8_3_C', '1MUE_1_A', '1MUE_3_C', '1MUJ_3_C', '2MU6_1_A', '2MU7_1_A', '2MU8_1_A', '2MU9_1_A', '2MUA_1_A', '2MUD_1_A', '2MUE_1_A', '2MUF_1_A', '2MUG_1_A', '2MUH_1_A', '2MUJ_1_A', '2MUV_1_A', '2MUW_1_A', '2MUZ_1_A', '3MUK_2_D', '1MV4_1_A', '1MV9_2_B', '1MVC_2_B', '1MVI_1_A', '1MVJ_1_A', '1MVU_3_P', '2MV1_1_B', '2MV1_2_A', '2MV4_1_A', '2MV7_2_B', '2MVA_1_A', '2MVC_1_A', '2MVC_2_B', '2MVD_1_A', '2MVD_2_B', '2MVH_1_A', '2MVJ_1_A', '2MVK_1_A', '2MVL_1_A', '2MVX_1_A', '3MV5_2_C', '3MV7_3_C', '3MV8_3_C', '3MV9_3_C', '3MVH_2_B', '3MVJ_2_I', '4MVK_2_B', '1MW4_2_B', '1MWN_2_X', '2MW0_1_A', '2MW3_1_A', '2MW6_1_A', '2MW7_1_A', '2MW9_1_A', '2MWA_1_A', '2MWB_1_A', '2MWD_1_A', '2MWE_1_A', '2MWF_1_A', '2MWJ_1_A', '2MWK_1_A', '2MWL_1_A', '2MWN_1_A', '2MWO_2_B', '2MWP_2_B', '2MWS_1_A', '2MWT_1_A', '2MWY_2_B', '1MXE_2_E', '1MXL_2_I', '1MXN_1_A', '1MXP_1_A', '1MXQ_1_A', '2MXG_1_A', '2MXH_1_A', '2MXM_1_A', '2MXO_1_A', '2MXP_1_A', '2MXQ_1_A', '3MXC_2_L', '3MXY_2_L', '1MYU_1_A', '2MY3_2_B', '2MYL_1_A', '2MYM_1_A', '2MYQ_1_A', '2MYZ_1_A', '3MYJ_3_C', '1MZI_1_A', '1MZN_2_B', '1MZW_2_B', '2MZ2_1_A', '2MZ3_1_A', '2MZ6_1_A', '2MZA_1_A', '2MZD_2_B', '2MZK_1_A', '2MZL_1_A', '2MZM_1_A', '2MZP_2_I', '2MZX_1_A', '4MZ5_1_A', '4MZF_1_A', '4MZG_1_A', '4MZH_2_B', '4MZJ_2_T', '4MZK_2_T', '4MZL_2_C', '4MZZ_1_A', '1N09_1_A', '1N0A_1_A', '1N0C_1_A', '1N0D_1_A', '1N0W_2_B', '1N0X_3_P', '2N01_1_A', '2N07_1_X', '2N08_1_A', '2N09_1_A', '2N0B_1_A', '2N0C_1_A', '2N0D_1_A', '2N0E_1_A', '2N0F_1_A', '2N0G_1_A', '2N0H_1_A', '2N0I_1_A', '2N0N_1_A', '2N0O_1_A', '2N0V_1_A', '2N0X_1_A', '2N0Y_2_B', '3N00_2_B', '4N0Y_3_A', '1N12_2_B', '1N13_2_B', '1N1L_2_C', '1N1U_1_A', '2N16_1_A', '2N1C_1_A', '2N1E_1_A', '2N1G_2_B', '2N1N_1_A', '2N1O_1_A', '2N1P_1_A', '2N1R_1_A', '2N1S_1_A', '4N1A_2_G', '1N2Y_1_A', '2N21_1_A', '2N22_2_B', '2N23_2_B', '2N24_1_A', '2N2F_1_A', '2N2G_1_A', '2N2H_1_A', '2N2S_1_A', '2N2V_1_A', '2N2V_2_B', '2N2W_1_A', '2N2W_2_B', '2N2X_1_A', '2N2X_2_B', '3N23_3_G', '3N2D_2_B', '1N32_23_V', '1N33_23_V', '1N34_22_V', '1N36_21_V', '1N3N_3_I', '2N30_1_A', '2N3A_1_A', '2N3K_2_B', '2N3P_1_A', '3N3X_2_B', '4N3L_1_L', '4N3L_3_I', '4N3M_1_A', '1N4H_2_B', '1N4M_2_C', '1N4P_3_M', '2N4Q_1_A', '2N4R_1_A', '2N4S_1_A', '2N4T_1_A', '2N4U_1_A', '2N4V_1_A', '2N4W_1_A', '3N4D_1_A', '3N4H_1_A', '4N4H_2_B', '4N4I_2_B', '4N4Y_3_C', '1N5A_3_C', '1N5G_1_A', '2N58_1_A', '2N5C_1_A', '2N5K_1_A', '2N5Q_1_A', '2N5R_1_A', '2N5W_1_A', '2N5Y_1_A', '3N55_2_B', '3N57_2_C', '3N5E_3_D', '3N5U_2_C', '4N5E_4_B', '4N5T_2_B', '1N64_3_P', '1N6D_2_G', '1N6E_2_B', '1N6J_4_G', '1N6T_1_A', '2N63_1_A', '2N65_1_A', '2N68_1_A', '2N6B_1_A', '2N6M_1_A', '2N6N_1_A', '2N6O_1_A', '2N6U_1_A', '2N6V_1_A', '2N6Y_1_A', '2N6Z_1_A', '1N7F_2_C', '1N7T_2_B', '2N7F_1_A', '2N7I_1_A', '2N7L_1_C', '2N7N_1_A', '2N7O_1_A', '2N7T_1_A', '3N7Y_2_D', '4N78_6_P', '4N7F_1_A', '4N7G_2_B', '4N7H_1_A', '4N7H_2_B', '4N7Y_2_C', '1N8M_1_A', '1N8O_1_A', '2N8B_1_A', '2N8C_1_A', '2N8E_1_A', '2N8H_1_A', '2N8J_2_B', '2N8S_1_A', '2N8T_1_A', '2N8T_2_B', '2N8U_1_A', '3N84_2_G', '3N8M_2_B', '4N84_2_C', '4N8C_3_X', '1N9U_1_A', '1N9V_1_A', '2N9C_1_A', '2N9E_1_A', '2N9M_1_A', '2N9N_1_A', '2N9T_1_A', '3N93_2_C', '3N95_2_E', '3N96_2_E', '3N9L_2_B', '3N9N_2_B', '3N9O_2_B', '3N9O_3_C', '3N9P_2_B', '3N9Q_2_B', '3N9Q_3_C', '4N9M_1_A', '4N9S_1_A', '4N9V_1_A', '1NAK_3_P', '1NAU_1_A', '2NA0_1_A', '2NA5_1_A', '2NA6_1_A', '2NA7_1_A', '2NAJ_1_A', '2NAT_1_A', '2NAU_1_A', '2NAV_1_A', '2NAW_1_A', '2NAY_1_A', '3NAF_1_A', '3NAZ_2_E', '4NA2_1_A', '4NA3_1_A', '4NAG_1_A', '4NAW_3_C', '4NAW_4_D', '1NB1_1_A', '1NB3_2_P', '1NB5_2_P', '1NBJ_1_A', '2NB5_1_A', '2NB6_1_A', '2NB7_1_A', '2NB8_1_A', '3NBB_1_A', '3NBJ_1_A', '4NB3_2_C', '1NC8_1_A', '1NCP_1_N', '1NCP_2_C', '2NC3_1_A', '2NC4_1_A', '2NC5_1_A', '2NC6_1_A', '2NCZ_2_B', '4NCO_2_B', '4NCU_1_A', '4NCV_1_A', '4NCW_1_A', '2ND0_2_B', '2ND1_2_B', '2ND3_1_A', '2NDF_2_B', '2NDG_2_B', '2NDM_1_A', '2NDN_1_A', '3NDD_2_B', '3NDF_2_B', '3NDT_1_A', '3NDU_1_A', '1NES_2_I', '4NE9_3_D', '4NEE_3_E', '3NF3_2_C', '3NFE_1_A', '3NFK_2_C', '3NFL_2_E', '3NFN_3_C', '4NF9_2_C', '1NG8_1_A', '3NG6_1_A', '4NGH_3_P', '1NH0_2_I', '3NHC_1_A', '3NHD_1_A', '4NHC_3_P', '1NIL_1_A', '1NIM_1_A', '1NIW_2_B', '1NIX_1_A', '1NIY_1_A', '1NIZ_1_A', '3NI3_1_A', '3NIH_2_B', '3NII_2_B', '3NIM_2_X', '3NIN_2_D', '4NIB_1_A', '4NIB_2_B', '4NIE_2_C', '4NIQ_2_C', '4NIZ_1_A', '1NJ0_1_A', '1NJ3_1_A', '1NJQ_1_A', '1NJT_2_E', '3NJF_2_B', '3NJG_2_B', '3NJI_2_B', '3NJJ_2_B', '3NJN_2_B', '3NJW_1_A', '4NJ0_1_A', '4NJ1_1_A', '4NJ2_1_A', '4NJ3_1_A', '1NKF_1_A', '1NKK_2_E', '3NK3_2_C', '3NK4_2_C', '4NKQ_3_B', '1NLN_2_B', '1NLT_2_B', '2NL9_2_B', '2NLA_2_B', '2NLB_1_A', '2NLC_1_A', '2NLD_1_A', '2NLE_1_A', '2NLF_1_A', '2NLG_1_A', '2NLH_1_A', '2NLP_1_A', '2NLQ_1_A', '2NLS_1_A', '1NM6_2_B', '1NMJ_1_A', '2NM1_2_B', '2NMB_2_B', '2NMV_3_B', '3NMX_2_D', '4NM0_2_B', '4NM3_2_B', '4NM5_2_B', '4NM5_3_C', '4NM7_2_B', '4NM7_3_C', '4NMO_2_C', '4NMP_2_C', '4NMQ_2_C', '4NMR_2_C', '4NMS_2_C', '4NMT_2_C', '4NMV_2_C', '4NMX_3_Z', '2NN6_1_A', '2NNA_3_C', '2NNU_2_B', '2NNX_1_A', '4NNL_2_C', '4NNM_2_C', '4NNX_3_C', '1NO9_1_L', '1NO9_3_I', '1NOP_3_C', '1NOT_1_A', '2NOR_1_A', '2NOU_1_A', '4NO0_3_C', '4NO2_3_C', '4NO3_3_C', '1NPO_2_B', '1NPQ_2_B', '2NP0_2_B', '2NPA_2_B', '2NPH_2_S', '2NPH_3_T', '2NPV_1_A', '1NQ7_2_B', '2NQA_2_D', '4NQA_3_C', '4NQS_3_D', '4NQV_3_M', '4NQX_3_M', '1NRL_2_C', '1NRM_1_A', '1NRN_1_L', '1NRN_3_R', '1NRO_1_L', '1NRO_3_R', '1NRP_1_L', '1NRP_3_R', '1NRQ_1_L', '1NRQ_3_R', '1NRR_1_L', '1NRS_1_L', '1NRS_3_R', '1NRS_4_I', '1NRU_1_A', '2NR1_1_A', '2NRL_1_A', '2NRM_1_A', '2NRN_1_A', '4NR1_2_S', '4NRX_1_P', '1NS3_2_C', '2NS3_1_A', '2NS4_1_A', '2NS8_2_H', '3NSL_1_A', '4NSK_3_C', '1NT1_2_H', '1NT5_1_A', '1NT6_1_A', '1NTH_1_A', '1NTV_2_B', '3NTH_2_C', '3NTI_2_C', '3NTW_2_B', '4NTP_1_A', '4NTR_1_A', '1NU2_2_B', '1NU7_1_A', '2NU5_1_A', '2NUD_2_C', '2NUO_1_A', '4NU1_2_B', '4NU8_2_A', '4NUF_2_P', '4NUU_2_C', '4NUV_2_C', '1NVO_1_A', '1NVQ_2_B', '1NVR_2_B', '1NVS_2_B', '2NV7_2_C', '2NVJ_1_A', '3NVE_1_A', '3NVH_1_A', '1NWD_2_B', '2NW3_3_C', '2NWN_2_B', '3NWQ_1_A', '3NWX_1_A', '4NW8_1_A', '4NW9_1_A', '1NX0_2_C', '1NX1_2_C', '1NXN_1_A', '2NX0_1_A', '2NX5_3_C', '2NX6_1_A', '2NX7_1_A', '2NXD_2_P', '2NXL_2_P', '2NXM_2_P', '3NX8_1_A', '3NX8_2_B', '3NXE_1_A', '3NXF_1_A', '3NXN_1_A', '4NXB_1_A', '4NXE_1_A', '4NXF_1_A', '4NXG_1_A', '4NXM_12_L', '4NXM_21_U', '4NXN_12_L', '4NXN_21_U', '4NXQ_2_D', '4NXR_2_B', '1NY2_1_1', '1NY2_3_3', '1NYB_2_A', '1NYJ_1_A', '3NY3_2_B', '3NYG_1_A', '3NYN_1_A', '3NYO_1_A', '4NY3_2_C', '1NZQ_1_L', '1NZQ_3_D', '1NZS_1_A', '2NZZ_1_A', '3NZI_2_B', '4NZE_2_L', '4NZE_3_I', '1O06_1_A', '1O0D_1_L', '1O0D_3_D', '1O0E_1_A', '1O0P_2_B', '2O00_1_A', '2O01_9_I', '2O01_11_K', '2O02_2_P', '2O0S_1_A', '3O0E_2_L', '3O1D_2_B', '3O1E_2_B', '3O1Y_1_A', '4O1V_2_B', '1O2G_1_L', '1O2G_3_I', '3O20_1_A', '3O2B_2_B', '3O2H_2_B', '3O2Q_3_F', '4O21_2_S', '4O22_2_S', '1O3P_1_A', '3O34_2_B', '3O37_2_E', '3O3Y_1_A', '3O3Z_1_A', '3O3Z_2_B', '4O30_2_C', '4O36_1_A', '4O37_1_A', '4O3T_3_P', '4O3U_3_P', '2O4J_2_C', '2O4R_2_C', '3O40_2_B', '3O41_3_P', '3O42_2_B', '3O43_2_B', '3O45_3_P', '4O45_2_B', '4O46_3_M', '1O53_1_A', '1O5A_1_A', '1O5B_1_A', '1O5C_1_A', '1O5G_1_L', '1O5G_3_I', '2O5G_2_B', '4O56_2_B', '1O6K_2_C', '1O6L_2_C', '2O60_2_B', '2O6N_1_A', '3O65_2_B', '3O6L_3_C', '3O6M_3_C', '4O62_2_D', '4O6D_2_B', '4O6F_2_B', '4O6W_2_C', '2O7H_1_A', '3O7A_2_B', '3O7L_3_I', '1O8V_1_A', '1O8Y_1_A', '1O8Z_1_A', '2O88_2_C', '2O8M_2_C', '2O8Z_1_A', '1O9A_2_B', '1O9K_3_P', '1O9S_2_K', '1O9U_2_B', '2O9I_2_C', '2O9K_2_B', '2O9Q_2_C', '4O9W_2_B', '1OAI_2_B', '3OA6_4_G', '3OAK_2_C', '3OAP_2_B', '3OAX_1_A', '4OAJ_2_B', '4OAR_2_B', '1OB4_1_A', '1OB6_1_A', '1OB7_1_A', '1OBD_1_A', '1OBX_2_B', '1OBY_2_P', '2OBH_2_C', '2OBO_2_B', '2OBQ_2_B', '3OB2_1_A', '3OBP_1_A', '3OBX_2_B', '4OBD_2_E', '4OBF_2_E', '4OBG_2_E', '4OBH_2_E', '4OBJ_2_C', '4OBK_2_C', '2OC0_2_B', '2OC1_2_B', '2OC7_2_B', '2OC8_2_B', '3OCB_2_C', '4OC7_2_B', '1ODP_1_A', '1ODQ_1_A', '1ODR_1_A', '2OD2_2_B', '2OD3_1_A', '2OD7_2_B', '2OD8_2_B', '2OD9_2_B', '2ODB_2_B', '2ODD_1_B', '2ODR_1_A', '2ODR_2_B', '2ODR_3_C', '2ODR_4_D', '3OD5_2_C', '3ODI_2_B', '3ODL_2_B', '3ODV_1_A', '4OD7_2_D', '4ODC_1_A', '4ODK_2_B', '4ODL_2_C', '4ODM_2_E', '4ODN_2_B', '4ODP_2_B', '4ODQ_2_B', '1OEB_2_C', '1OEF_1_A', '1OEG_1_A', '1OEH_1_A', '1OEI_1_A', '1OEX_2_B', '2OEI_1_A', '3OE0_2_I', '4OED_2_B', '4OEY_2_B', '4OEZ_2_B', '1OF2_3_C', '2OFC_1_A', '2OFD_1_A', '2OFE_1_A', '2OFQ_2_B', '4OFR_2_B', '4OFU_2_B', '1OGA_3_C', '1OGT_3_C', '3OGK_3_Q', '3OGL_3_Q', '3OGM_3_Q', '4OGA_1_A', '4OGA_2_B', '4OGA_6_F', '4OGF_1_A', '4OGG_1_A', '4OGQ_5_E', '4OGQ_6_F', '4OGQ_7_G', '4OGQ_8_H', '4OGR_4_D', '2OH0_2_I', '2OH5_1_A', '2OH6_1_A', '2OH7_1_A', '4OH4_2_F', '4OH5_2_B', '4OH6_2_B', '4OHA_2_B', '1OIG_1_A', '1OIQ_1_A', '1OIR_1_A', '1OIT_1_A', '2OI3_2_B', '2OIN_2_C', '3OIQ_2_B', '4OIH_2_B', '4OIL_2_B', '4OIN_8_I', '4OIP_8_I', '4OIQ_8_I', '4OIR_8_I', '4OIU_2_B', '1OJ5_2_B', '2OJ2_2_B', '2OJE_3_C', '2OJF_2_I', '2OJM_1_A', '2OJN_1_A', '2OJO_1_A', '2OJU_2_C', '2OJX_2_E', '4OJ9_2_B', '4OJF_3_A', '1OK7_2_C', '1OKX_2_C', '2OKR_2_C', '3OKA_2_C', '3OKH_2_B', '3OKI_2_B', '3OKK_1_A', '3OKR_2_F', '4OK1_2_B', '4OKB_2_B'])\n"
     ]
    }
   ],
   "source": [
    "def get_psiphi(d, aa, i): \n",
    "    try:\n",
    "        return d[f\"{aa_dict[aa]}-{i+1}\"]\n",
    "    except KeyError:\n",
    "        return [np.nan, np.nan]\n",
    "    \n",
    "dropped_seq = {}\n",
    "        \n",
    "for file in files[:]:\n",
    "    print(f'transforming {file}')\n",
    "    filename = file.split('/')[-1]\n",
    "    data = read_json(file)\n",
    "    keys = list(data.keys())\n",
    "    new_data = {}\n",
    "    aa_keys = \"WYFMILVAGPSTCEDQNHRK*\"\n",
    "    ss_keys = \"LSTIGHBE*\"\n",
    "    w = 20\n",
    "    padding = w - 1\n",
    "    for key in keys:\n",
    "        item = data[key]\n",
    "        if len(item[\"Sequence\"]) < 40:\n",
    "            dropped_seq[key] = {\"item\": item, \"error\": \"shorter than 40 aa\"}\n",
    "            continue\n",
    "        seq = (\"*\" * padding) + item[\"Sequence\"] + (\"*\" * padding)\n",
    "        ss_seq = (\"*\" * padding) + item[\"DSSP\"] + (\"*\" * padding)\n",
    "        assert len(seq) == len(ss_seq), f\"{key} failed to transform, seq and ss have different lengths.\"\n",
    "        try:\n",
    "            values = np.array([aa_keys.index(aa) for aa in seq], dtype=np.int8).reshape((-1, 1))\n",
    "            values = np.append(values, np.array([ss_keys.index(ss) for ss in ss_seq], dtype=np.int8).reshape((-1, 1)), axis=1)\n",
    "            values = np.append(values, np.array([get_psiphi(item[\"PsiPhi\"], aa, i-padding) for i, aa in enumerate(seq)]).reshape((-1, 2)), axis=1)\n",
    "            new_data[key] = values\n",
    "        except ValueError:\n",
    "            dropped_seq[key] = {\"item\": item, \"error\": \"non-cononical aa\"}\n",
    "            continue\n",
    "    write_json(new_data, str(new_wd / filename), encoder='numpy')\n",
    "    \n",
    "print(dropped_seq.keys())"
   ]
  },
  {
   "cell_type": "code",
   "execution_count": 61,
   "id": "c684866e-ecb9-416f-8f97-7fc0175c5076",
   "metadata": {},
   "outputs": [
    {
     "name": "stdout",
     "output_type": "stream",
     "text": [
      "11205\n"
     ]
    }
   ],
   "source": [
    "print(len(dropped_seq.keys()))"
   ]
  },
  {
   "cell_type": "code",
   "execution_count": 62,
   "id": "6bb11cce-fb17-4277-b118-fe9f99d686a3",
   "metadata": {},
   "outputs": [],
   "source": [
    "try_again = [key for key, item in dropped_seq.items() if item['error'] == \"non-cononical aa\"]"
   ]
  },
  {
   "cell_type": "code",
   "execution_count": 63,
   "id": "a31d6e73-fe16-42d5-8027-7b45ca55b35e",
   "metadata": {},
   "outputs": [
    {
     "data": {
      "text/plain": [
       "1309"
      ]
     },
     "execution_count": 63,
     "metadata": {},
     "output_type": "execute_result"
    }
   ],
   "source": [
    "len(try_again)"
   ]
  },
  {
   "cell_type": "code",
   "execution_count": 64,
   "id": "b48d33ce-145b-45f3-8f61-9be4209aa859",
   "metadata": {},
   "outputs": [],
   "source": [
    "dropped_seq_2 = {}\n",
    "aa_keys = \"WYFMILVAGPSTCEDQNHRK*\"\n",
    "ss_keys = \"LSTIGHBE*\"\n",
    "w = 20\n",
    "padding = w - 1\n",
    "new_data = {}\n",
    "for key in try_again:\n",
    "    seq = dropped_seq[key]['item']['Sequence']\n",
    "    striped_seq = seq.strip('X')\n",
    "    if 'X' not in striped_seq:\n",
    "        leading_x = len(seq) - len(seq.lstrip('X'))\n",
    "        leading_x = None if leading_x == 0 else leading_x\n",
    "        trailing_x = len(seq) - len(seq.rstrip('X'))\n",
    "        trailing_x = None if trailing_x == 0 else -trailing_x\n",
    "        if leading_x or trailing_x:\n",
    "            striped_ss = dropped_seq[key]['item']['DSSP'][leading_x:trailing_x]\n",
    "            if len(striped_seq) == len(striped_ss):\n",
    "                seq = (\"*\" * padding) + striped_seq + (\"*\" * padding)\n",
    "                ss_seq = (\"*\" * padding) + striped_ss + (\"*\" * padding)\n",
    "                try:\n",
    "                    values = np.array([aa_keys.index(aa) for aa in seq], dtype=np.int8).reshape((-1, 1))\n",
    "                    values = np.append(values, np.array([ss_keys.index(ss) for ss in ss_seq], dtype=np.int8).reshape((-1, 1)), axis=1)\n",
    "                    values = np.append(values, np.array([get_psiphi(item[\"PsiPhi\"], aa, i-padding) for i, aa in enumerate(seq)]).reshape((-1, 2)), axis=1)\n",
    "                    new_data[key] = values\n",
    "                except ValueError:\n",
    "                    dropped_seq_2[key] = {\"item\": dropped_seq[key]['item'], \"error\": \"non-cononical aa\"}\n",
    "                    continue\n",
    "            else:\n",
    "                dropped_seq_2[key] = {\"item\": dropped_seq[key]['item'], \"error\": \"trim not working\"}\n",
    "        \n",
    "    else:\n",
    "        dropped_seq_2[key] = {\"item\": dropped_seq[key]['item'], \"error\": \"internal X\"}\n",
    "write_json(new_data, str(new_wd / \"leading_trailing_X_fixed.json.gz\"), encoder='numpy')"
   ]
  },
  {
   "cell_type": "code",
   "execution_count": 65,
   "id": "ae423391-2f23-45ad-953a-e25269a785f9",
   "metadata": {},
   "outputs": [
    {
     "name": "stdout",
     "output_type": "stream",
     "text": [
      "392\n"
     ]
    }
   ],
   "source": [
    "print(len(dropped_seq_2.keys()))"
   ]
  },
  {
   "cell_type": "code",
   "execution_count": 66,
   "id": "f1c08320-3728-4e40-bbf6-3f10201379f8",
   "metadata": {},
   "outputs": [],
   "source": [
    "try_again = [key for key, item in dropped_seq_2.items() if item['error'] == \"internal X\"]"
   ]
  },
  {
   "cell_type": "code",
   "execution_count": 67,
   "id": "96bc9e56-7bdb-4df8-89e3-75c04616cf0f",
   "metadata": {},
   "outputs": [],
   "source": [
    "dropped_seq_3 = {}\n",
    "aa_keys = \"WYFMILVAGPSTCEDQNHRK*\"\n",
    "ss_keys = \"LSTIGHBE*\"\n",
    "w = 20\n",
    "padding = w - 1\n",
    "new_data = {}\n",
    "for key in try_again:\n",
    "    seq = dropped_seq_2[key]['item']['Sequence']\n",
    "    striped_seq = seq.strip('X')\n",
    "    if len(striped_seq) - len(striped_seq.replace('X', '')) == 1:\n",
    "        striped_seq = seq.strip('X').replace('X', 'A')\n",
    "        leading_x = len(seq) - len(seq.lstrip('X'))\n",
    "        leading_x = None if leading_x == 0 else leading_x\n",
    "        trailing_x = len(seq) - len(seq.rstrip('X'))\n",
    "        trailing_x = None if trailing_x == 0 else -trailing_x\n",
    "        if leading_x or trailing_x:\n",
    "            striped_ss = dropped_seq_2[key]['item']['DSSP'][leading_x:trailing_x]\n",
    "            if len(striped_seq) == len(striped_ss):\n",
    "                seq = (\"*\" * padding) + striped_seq + (\"*\" * padding)\n",
    "                ss_seq = (\"*\" * padding) + striped_ss + (\"*\" * padding)\n",
    "                try:\n",
    "                    values = np.array([aa_keys.index(aa) for aa in seq], dtype=np.int8).reshape((-1, 1))\n",
    "                    values = np.append(values, np.array([ss_keys.index(ss) for ss in ss_seq], dtype=np.int8).reshape((-1, 1)), axis=1)\n",
    "                    values = np.append(values, np.array([get_psiphi(item[\"PsiPhi\"], aa, i-padding) for i, aa in enumerate(seq)]).reshape((-1, 2)), axis=1)\n",
    "                    new_data[key] = values\n",
    "                except ValueError:\n",
    "                    dropped_seq_3[key] = {\"item\": dropped_seq_2[key]['item'], \"error\": \"non-cononical aa\"}\n",
    "                    continue\n",
    "        \n",
    "    else:\n",
    "        dropped_seq_3[key] = {\"item\": dropped_seq_2[key]['item'], \"error\": \"internal X more than 1\"}\n",
    "write_json(new_data, str(new_wd / \"fixed_with_one_internal_X.json.gz\"), encoder='numpy')"
   ]
  },
  {
   "cell_type": "code",
   "execution_count": 71,
   "id": "3408cf8f-e3f5-439d-b2ca-86b32b919762",
   "metadata": {},
   "outputs": [
    {
     "name": "stdout",
     "output_type": "stream",
     "text": [
      "113\n"
     ]
    }
   ],
   "source": [
    "print(len(dropped_seq_3.keys()))"
   ]
  },
  {
   "cell_type": "code",
   "execution_count": 73,
   "id": "af59a02b-887b-443f-ba40-8603c36c757e",
   "metadata": {},
   "outputs": [
    {
     "data": {
      "text/plain": [
       "113"
      ]
     },
     "execution_count": 73,
     "metadata": {},
     "output_type": "execute_result"
    }
   ],
   "source": [
    "try_again = [key for key, item in dropped_seq_3.items() if item['error'] == \"internal X more than 1\"]"
   ]
  },
  {
   "cell_type": "code",
   "execution_count": 74,
   "id": "7ea83072-67c3-4f70-859f-5b337aa5e4a2",
   "metadata": {},
   "outputs": [],
   "source": [
    "dropped_seq_4 = {}\n",
    "aa_keys = \"WYFMILVAGPSTCEDQNHRK*\"\n",
    "ss_keys = \"LSTIGHBE*\"\n",
    "w = 20\n",
    "padding = w - 1\n",
    "new_data = {}\n",
    "for key in try_again:\n",
    "    seq = dropped_seq_3[key]['item']['Sequence']\n",
    "    striped_seq = seq.strip('X')\n",
    "    if len(striped_seq) - len(striped_seq.replace('X', '')) == 2:\n",
    "        striped_seq = seq.strip('X').replace('X', 'A')\n",
    "        leading_x = len(seq) - len(seq.lstrip('X'))\n",
    "        leading_x = None if leading_x == 0 else leading_x\n",
    "        trailing_x = len(seq) - len(seq.rstrip('X'))\n",
    "        trailing_x = None if trailing_x == 0 else -trailing_x\n",
    "        if leading_x or trailing_x:\n",
    "            striped_ss = dropped_seq_3[key]['item']['DSSP'][leading_x:trailing_x]\n",
    "            if len(striped_seq) == len(striped_ss):\n",
    "                seq = (\"*\" * padding) + striped_seq + (\"*\" * padding)\n",
    "                ss_seq = (\"*\" * padding) + striped_ss + (\"*\" * padding)\n",
    "                try:\n",
    "                    values = np.array([aa_keys.index(aa) for aa in seq], dtype=np.int8).reshape((-1, 1))\n",
    "                    values = np.append(values, np.array([ss_keys.index(ss) for ss in ss_seq], dtype=np.int8).reshape((-1, 1)), axis=1)\n",
    "                    values = np.append(values, np.array([get_psiphi(item[\"PsiPhi\"], aa, i-padding) for i, aa in enumerate(seq)]).reshape((-1, 2)), axis=1)\n",
    "                    new_data[key] = values\n",
    "                except ValueError:\n",
    "                    dropped_seq_4[key] = {\"item\": dropped_seq_3[key]['item'], \"error\": \"non-cononical aa\"}\n",
    "                    continue\n",
    "        \n",
    "    else:\n",
    "        dropped_seq_4[key] = {\"item\": dropped_seq_3[key]['item'], \"error\": \"internal X more than 2\"}\n",
    "write_json(new_data, str(new_wd / \"fixed_with_two_internal_X.json.gz\"), encoder='numpy')"
   ]
  },
  {
   "cell_type": "code",
   "execution_count": 75,
   "id": "da13a5c3-dca5-420c-8632-33c9d15b41e3",
   "metadata": {},
   "outputs": [
    {
     "name": "stdout",
     "output_type": "stream",
     "text": [
      "94\n"
     ]
    }
   ],
   "source": [
    "print(len(dropped_seq_4.keys()))"
   ]
  },
  {
   "cell_type": "code",
   "execution_count": 76,
   "id": "acda85d5-d74b-40f4-8bfd-4c4635145a51",
   "metadata": {},
   "outputs": [
    {
     "data": {
      "text/plain": [
       "94"
      ]
     },
     "execution_count": 76,
     "metadata": {},
     "output_type": "execute_result"
    }
   ],
   "source": [
    "try_again = [key for key, item in dropped_seq_4.items() if item['error'] == \"internal X more than 2\"]\n",
    "len(try_again)"
   ]
  },
  {
   "cell_type": "code",
   "execution_count": 77,
   "id": "fa8002f9-0d35-4d61-985c-ccc965fd0dde",
   "metadata": {},
   "outputs": [],
   "source": [
    "dropped_seq_5 = {}\n",
    "aa_keys = \"WYFMILVAGPSTCEDQNHRK*\"\n",
    "ss_keys = \"LSTIGHBE*\"\n",
    "w = 20\n",
    "padding = w - 1\n",
    "new_data = {}\n",
    "for key in try_again:\n",
    "    seq = dropped_seq_4[key]['item']['Sequence']\n",
    "    striped_seq = seq.strip('X')\n",
    "    if len(striped_seq) - len(striped_seq.replace('X', '')) == 3:\n",
    "        striped_seq = seq.strip('X').replace('X', 'A')\n",
    "        leading_x = len(seq) - len(seq.lstrip('X'))\n",
    "        leading_x = None if leading_x == 0 else leading_x\n",
    "        trailing_x = len(seq) - len(seq.rstrip('X'))\n",
    "        trailing_x = None if trailing_x == 0 else -trailing_x\n",
    "        if leading_x or trailing_x:\n",
    "            striped_ss = dropped_seq_4[key]['item']['DSSP'][leading_x:trailing_x]\n",
    "            if len(striped_seq) == len(striped_ss):\n",
    "                seq = (\"*\" * padding) + striped_seq + (\"*\" * padding)\n",
    "                ss_seq = (\"*\" * padding) + striped_ss + (\"*\" * padding)\n",
    "                try:\n",
    "                    values = np.array([aa_keys.index(aa) for aa in seq], dtype=np.int8).reshape((-1, 1))\n",
    "                    values = np.append(values, np.array([ss_keys.index(ss) for ss in ss_seq], dtype=np.int8).reshape((-1, 1)), axis=1)\n",
    "                    values = np.append(values, np.array([get_psiphi(item[\"PsiPhi\"], aa, i-padding) for i, aa in enumerate(seq)]).reshape((-1, 2)), axis=1)\n",
    "                    new_data[key] = values\n",
    "                except ValueError:\n",
    "                    dropped_seq_5[key] = {\"item\": dropped_seq_4[key]['item'], \"error\": \"non-cononical aa\"}\n",
    "                    continue\n",
    "        \n",
    "    else:\n",
    "        dropped_seq_5[key] = {\"item\": dropped_seq_4[key]['item'], \"error\": \"internal X more than 3\"}\n",
    "write_json(new_data, str(new_wd / \"fixed_with_three_internal_X.json.gz\"), encoder='numpy')"
   ]
  },
  {
   "cell_type": "code",
   "execution_count": 78,
   "id": "e1546a33-5132-4ebc-84ff-7a7d84f5a0bb",
   "metadata": {},
   "outputs": [
    {
     "name": "stdout",
     "output_type": "stream",
     "text": [
      "89\n"
     ]
    }
   ],
   "source": [
    "print(len(dropped_seq_5.keys()))"
   ]
  },
  {
   "cell_type": "code",
   "execution_count": 79,
   "id": "33310378-a501-4eca-96f4-9c4a90b4a64f",
   "metadata": {},
   "outputs": [
    {
     "data": {
      "text/plain": [
       "89"
      ]
     },
     "execution_count": 79,
     "metadata": {},
     "output_type": "execute_result"
    }
   ],
   "source": [
    "try_again = [key for key, item in dropped_seq_5.items() if item['error'] == \"internal X more than 3\"]\n",
    "len(try_again)"
   ]
  },
  {
   "cell_type": "code",
   "execution_count": null,
   "id": "2529e50f-7a6f-4c29-9200-345d74b51f65",
   "metadata": {},
   "outputs": [],
   "source": []
  },
  {
   "cell_type": "code",
   "execution_count": null,
   "id": "cf74d1dc-ded7-4804-8c12-b5436db8817c",
   "metadata": {},
   "outputs": [],
   "source": []
  },
  {
   "cell_type": "code",
   "execution_count": null,
   "id": "f78b6923-3cac-473a-bf67-f4976efa07eb",
   "metadata": {},
   "outputs": [],
   "source": []
  },
  {
   "cell_type": "code",
   "execution_count": null,
   "id": "e64661a1-8997-4eb3-b6d2-2cdeaff4cb76",
   "metadata": {},
   "outputs": [],
   "source": []
  },
  {
   "cell_type": "code",
   "execution_count": null,
   "id": "8ffc86d9-6432-409d-8be7-9501ceddc920",
   "metadata": {},
   "outputs": [],
   "source": []
  },
  {
   "cell_type": "code",
   "execution_count": null,
   "id": "cee8b1d4-1acf-488a-9b3c-226280f23db4",
   "metadata": {},
   "outputs": [],
   "source": []
  },
  {
   "cell_type": "code",
   "execution_count": null,
   "id": "1713748f-73a9-45a1-8955-98a0e7473940",
   "metadata": {},
   "outputs": [],
   "source": []
  },
  {
   "cell_type": "code",
   "execution_count": null,
   "id": "9a5c3638-9606-40da-b57e-332e4fb30602",
   "metadata": {},
   "outputs": [],
   "source": []
  },
  {
   "cell_type": "code",
   "execution_count": null,
   "id": "d661ea91-d529-41e9-b12e-32664cd32c02",
   "metadata": {},
   "outputs": [],
   "source": []
  },
  {
   "cell_type": "code",
   "execution_count": null,
   "id": "d26185bb-aa28-4f62-89f4-950fab813a13",
   "metadata": {},
   "outputs": [],
   "source": []
  },
  {
   "cell_type": "code",
   "execution_count": null,
   "id": "9bc8237d-d81c-45a3-89b4-8535fdc75cb7",
   "metadata": {},
   "outputs": [],
   "source": []
  },
  {
   "cell_type": "code",
   "execution_count": null,
   "id": "ecd5fd63-cdc7-438a-9577-dc2b6cb7d8a7",
   "metadata": {},
   "outputs": [],
   "source": []
  },
  {
   "cell_type": "code",
   "execution_count": null,
   "id": "b59a0fa4-e9ca-47dc-b576-b36d07ac80ac",
   "metadata": {},
   "outputs": [],
   "source": []
  },
  {
   "cell_type": "code",
   "execution_count": 30,
   "id": "e2f7e78a-1951-4ae1-a511-08e62afb59b3",
   "metadata": {},
   "outputs": [
    {
     "data": {
      "text/plain": [
       "{'200L_1_A': 'pfam failed'}"
      ]
     },
     "execution_count": 30,
     "metadata": {},
     "output_type": "execute_result"
    }
   ],
   "source": [
    "def get_psiphi(d, aa, i): \n",
    "    try:\n",
    "        return d[f\"{aa_dict[aa]}-{i+1}\"]\n",
    "    except KeyError:\n",
    "        return [np.nan, np.nan]\n",
    "    \n",
    "dropped_seq = {}\n",
    "dropped_seq_domain = {}\n",
    "        \n",
    "for file in files[:1]:\n",
    "    print(f'transforming {file}')\n",
    "    filename = file.split('/')[-1]\n",
    "    data = read_json(file)\n",
    "    keys = list(data.keys())\n",
    "    new_data = {}\n",
    "    pfam_domains = {}\n",
    "    aa_keys = \"WYFMILVAGPSTCEDQNHRK*\"\n",
    "    ss_keys = \"LSTIGHBE*\"\n",
    "    w = 20\n",
    "    padding = w - 1\n",
    "    i = 0\n",
    "    for key in keys:\n",
    "        item = data[key]\n",
    "        pdbID = key.split('_')[0]\n",
    "        try:\n",
    "            pfam_domains[key] = prody.searchPfam(pdbID)\n",
    "            pdb_file = f'{pdbID}.pdb.gz'\n",
    "            system(f'mv {pdb_file} {pdb_files/pdb_file}')\n",
    "        except:\n",
    "            dropped_seq_domain[key] = \"pfam failed\"\n",
    "        break\n",
    "#         if len(item[\"Sequence\"]) < 50:\n",
    "#             dropped_seq[key] = {\"item\": item, \"error\": \"shorter than 50 aa\"}\n",
    "#             continue\n",
    "#         seq = (\"*\" * padding) + item[\"Sequence\"] + (\"*\" * padding)\n",
    "#         ss_seq = (\"*\" * padding) + item[\"DSSP\"] + (\"*\" * padding)\n",
    "#         assert len(seq) == len(ss_seq), f\"{key} failed to transform, seq and ss have different lengths.\"\n",
    "#         length = len(seq)\n",
    "#         try:\n",
    "#             values = np.array([aa_keys.index(aa) for aa in seq], dtype=np.int8).reshape((-1, 1))\n",
    "#             values = np.append(values, np.array([ss_keys.index(ss) for ss in ss_seq], dtype=np.int8).reshape((-1, 1)), axis=1)\n",
    "#             values = np.append(values, np.array([get_psiphi(item[\"PsiPhi\"], aa, i-padding) for i, aa in enumerate(seq)]).reshape((-1, 2)), axis=1)\n",
    "#             new_data[key] = values\n",
    "#         except ValueError:\n",
    "#             dropped_seq[key] = {\"item\": item, \"error\": \"non-cononical aa\"}\n",
    "#             continue\n",
    "        \n",
    "\n",
    "        # store domain names\n",
    "        \n",
    "        ##\n",
    "        \n",
    "        \n",
    "    write_json(new_data, str(new_wd / filename), encoder='numpy')"
   ]
  }
 ],
 "metadata": {
  "kernelspec": {
   "display_name": "Python 3 (ipykernel)",
   "language": "python",
   "name": "python3"
  },
  "language_info": {
   "codemirror_mode": {
    "name": "ipython",
    "version": 3
   },
   "file_extension": ".py",
   "mimetype": "text/x-python",
   "name": "python",
   "nbconvert_exporter": "python",
   "pygments_lexer": "ipython3",
   "version": "3.9.7"
  }
 },
 "nbformat": 4,
 "nbformat_minor": 5
}
