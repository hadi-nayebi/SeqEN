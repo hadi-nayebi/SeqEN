{
 "cells": [
  {
   "cell_type": "code",
   "execution_count": 14,
   "id": "f623a387-c3c4-4897-b0ae-20d524cbfebe",
   "metadata": {},
   "outputs": [],
   "source": [
    "from SeqEN2.session import Session\n",
    "from SeqEN2.model.model import Model\n",
    "from SeqEN2.autoencoder.autoencoder import Autoencoder\n",
    "from glob import glob\n",
    "from os import system\n",
    "from torch import no_grad\n",
    "from torch import argmax\n",
    "from torch import sum as torch_sum"
   ]
  },
  {
   "cell_type": "code",
   "execution_count": 21,
   "id": "b4c6439e-b6b7-45c9-a175-fe1bfce4d986",
   "metadata": {},
   "outputs": [],
   "source": [
    "class NewAutoencoder(Autoencoder):\n",
    "    def test_batch(self, input_vals, device, input_noise=0.0, wandb_log=True):\n",
    "        \"\"\"\n",
    "        Test a single batch of data, this will move into autoencoder\n",
    "        :param input_vals:\n",
    "        :return:\n",
    "        \"\"\"\n",
    "        with no_grad():\n",
    "            input_ndx, one_hot_input = self.transform_input(\n",
    "                input_vals, device, input_noise=input_noise\n",
    "            )\n",
    "            reconstructor_output = self.forward_test(one_hot_input)\n",
    "            reconstructor_loss = self.criterion_NLLLoss(\n",
    "                reconstructor_output, input_ndx.reshape((-1,))\n",
    "            )\n",
    "            # reconstructor acc\n",
    "            reconstructor_ndx = argmax(reconstructor_output, dim=1)\n",
    "            reconstructor_accuracy = (\n",
    "                torch_sum(reconstructor_ndx == input_ndx.reshape((-1,)))\n",
    "                / reconstructor_ndx.shape[0]\n",
    "            )\n",
    "            # reconstruction_loss, discriminator_loss, classifier_loss\n",
    "            if wandb_log:\n",
    "                wandb.log({\"test_reconstructor_loss\": reconstructor_loss.item()})\n",
    "                wandb.log(\n",
    "                    {\"test_reconstructor_accuracy\": reconstructor_accuracy.item()}\n",
    "                )\n",
    "            else:\n",
    "                return reconstructor_loss, reconstructor_accuracy\n",
    "            # clean up\n",
    "            del reconstructor_loss\n",
    "            del reconstructor_output\n",
    "            return\n",
    "\n",
    "\n",
    "class NewModel(Model):\n",
    "    def build_model(self, model_type, arch):\n",
    "        if model_type == \"AE\":\n",
    "            self.autoencoder = NewAutoencoder(self.d0, self.d1, self.dn, self.w, arch)\n",
    "        # elif model_type == \"AAE\":\n",
    "        #     self.autoencoder = AdversarialAutoencoder(\n",
    "        #         self.d0, self.d1, self.dn, self.w, arch\n",
    "        #     )\n",
    "        # elif model_type == \"AAEC\":\n",
    "        #     self.autoencoder = AdversarialAutoencoderClassifier(\n",
    "        #         self.d0, self.d1, self.dn, self.w, arch\n",
    "        #     )\n",
    "        self.autoencoder.to(self.device)\n",
    "\n",
    "    def test(self, num_test_items=1, input_noise=0.0):\n",
    "        for test_batch in self.data_loader.get_test_batch(\n",
    "            num_test_items=num_test_items\n",
    "        ):\n",
    "            results = self.autoencoder.test_batch(\n",
    "                test_batch, self.device, input_noise=input_noise, wandb_log=False\n",
    "            )\n",
    "            print(results)\n",
    "\n",
    "\n",
    "class NewSession(Session):\n",
    "    def add_model(self, name, arch, model_type, d0=21, d1=8, dn=10, w=20):\n",
    "        arch = self.load_arch(arch)\n",
    "        if self.model is None:\n",
    "            self.model = NewModel(name, arch, model_type, d0=d0, d1=d1, dn=dn, w=w)\n",
    "\n",
    "    def load_data(self, dataset_name):\n",
    "        data_files = sorted(glob(str(Model.root) + f\"/data/{dataset_name}/*.csv.gz\"))[\n",
    "            :2\n",
    "        ]\n",
    "        self.model.load_data(dataset_name, data_files)"
   ]
  },
  {
   "cell_type": "code",
   "execution_count": 22,
   "id": "f67c89b8-f8bd-43a3-bfe5-2374803dbc39",
   "metadata": {},
   "outputs": [],
   "source": [
    "session = NewSession()\n",
    "model_name = \"dummy\"\n",
    "arch = \"gen1\"\n",
    "model_type = \"AE\"\n",
    "dataset = \"w_20_KeggSeq_ndx_wpACT\"\n",
    "run_title = \"prototyping_consensus_acc\""
   ]
  },
  {
   "cell_type": "code",
   "execution_count": 23,
   "id": "1fd87b42-3ba7-4820-b128-df07ee1ea851",
   "metadata": {},
   "outputs": [
    {
     "name": "stdout",
     "output_type": "stream",
     "text": [
      "(tensor(3.0896), tensor(0.0380))\n"
     ]
    }
   ],
   "source": [
    "session.add_model(model_name, arch, model_type)\n",
    "session.load_data(dataset)\n",
    "session.test(num_test_items=1, input_noise=0.0)"
   ]
  },
  {
   "cell_type": "code",
   "execution_count": null,
   "id": "9a8d90ba-ca61-4eee-ac58-9749592d0fcf",
   "metadata": {},
   "outputs": [],
   "source": []
  },
  {
   "cell_type": "code",
   "execution_count": null,
   "id": "ac03d6cf-9fa9-4b41-913f-d07d22dabc4d",
   "metadata": {},
   "outputs": [],
   "source": []
  },
  {
   "cell_type": "code",
   "execution_count": null,
   "id": "37e7e005-2b8d-467e-9976-29ce6305cafa",
   "metadata": {},
   "outputs": [],
   "source": []
  },
  {
   "cell_type": "code",
   "execution_count": null,
   "id": "2381727b-ea5a-4c18-8901-4b8ce19d7bbc",
   "metadata": {},
   "outputs": [],
   "source": []
  },
  {
   "cell_type": "code",
   "execution_count": 10,
   "id": "2860d632-ec12-465e-a9ef-503bb2f4497b",
   "metadata": {},
   "outputs": [],
   "source": [
    "run_dir = session.root / \"models\" / f\"{model_name}\" / \"versions\" / f\"{run_title}\""
   ]
  },
  {
   "cell_type": "code",
   "execution_count": 12,
   "id": "a9a8b6f0-6576-44ba-a17e-7bc57f495882",
   "metadata": {},
   "outputs": [
    {
     "data": {
      "text/plain": [
       "0"
      ]
     },
     "execution_count": 12,
     "metadata": {},
     "output_type": "execute_result"
    }
   ],
   "source": [
    "system(f\"rm -r {str(run_dir)}\")"
   ]
  },
  {
   "cell_type": "code",
   "execution_count": null,
   "id": "9f121fc6-3a01-43e4-b323-03b3ca0a99e5",
   "metadata": {},
   "outputs": [],
   "source": []
  },
  {
   "cell_type": "code",
   "execution_count": null,
   "id": "ea97251e-17c1-495e-ac34-550fc689f47e",
   "metadata": {},
   "outputs": [],
   "source": []
  },
  {
   "cell_type": "code",
   "execution_count": null,
   "id": "fde2267a-ce40-4b61-8032-7a6df5b33596",
   "metadata": {},
   "outputs": [],
   "source": []
  }
 ],
 "metadata": {
  "kernelspec": {
   "display_name": "Python 3 (ipykernel)",
   "language": "python",
   "name": "python3"
  },
  "language_info": {
   "codemirror_mode": {
    "name": "ipython",
    "version": 3
   },
   "file_extension": ".py",
   "mimetype": "text/x-python",
   "name": "python",
   "nbconvert_exporter": "python",
   "pygments_lexer": "ipython3",
   "version": "3.9.7"
  }
 },
 "nbformat": 4,
 "nbformat_minor": 5
}
