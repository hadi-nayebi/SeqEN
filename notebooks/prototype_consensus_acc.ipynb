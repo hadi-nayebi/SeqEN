{
 "cells": [
  {
   "cell_type": "code",
   "execution_count": 235,
   "id": "f623a387-c3c4-4897-b0ae-20d524cbfebe",
   "metadata": {},
   "outputs": [],
   "source": [
    "from SeqEN2.session import Session\n",
    "from SeqEN2.model.model import Model\n",
    "from SeqEN2.autoencoder.autoencoder import Autoencoder\n",
    "from glob import glob\n",
    "from os import system\n",
    "from torch import no_grad\n",
    "from torch import argmax\n",
    "from torch import sum as torch_sum\n",
    "import torch\n",
    "import numpy as np\n",
    "import cProfile\n",
    "import pstats"
   ]
  },
  {
   "cell_type": "code",
   "execution_count": 236,
   "id": "b4c6439e-b6b7-45c9-a175-fe1bfce4d986",
   "metadata": {},
   "outputs": [],
   "source": [
    "class NewAutoencoder(Autoencoder):\n",
    "    def test_batch(self, input_vals, device, input_noise=0.0, wandb_log=True):\n",
    "        \"\"\"\n",
    "        Test a single batch of data, this will move into autoencoder\n",
    "        :param input_vals:\n",
    "        :return:\n",
    "        \"\"\"\n",
    "        with no_grad():\n",
    "            input_ndx, one_hot_input = self.transform_input(\n",
    "                input_vals, device, input_noise=input_noise\n",
    "            )\n",
    "            reconstructor_output = self.forward_test(one_hot_input)\n",
    "            reconstructor_loss = self.criterion_NLLLoss(\n",
    "                reconstructor_output, input_ndx.reshape((-1,))\n",
    "            )\n",
    "            # reconstructor acc\n",
    "            reconstructor_ndx = argmax(reconstructor_output, dim=1)\n",
    "            return reconstructor_ndx\n",
    "\n",
    "            # reconstructor_accuracy = (\n",
    "            #     torch_sum(reconstructor_ndx == input_ndx.reshape((-1,)))\n",
    "            #     / reconstructor_ndx.shape[0]\n",
    "            # )\n",
    "            # # reconstruction_loss, discriminator_loss, classifier_loss\n",
    "            # if wandb_log:\n",
    "            #     wandb.log({\"test_reconstructor_loss\": reconstructor_loss.item()})\n",
    "            #     wandb.log(\n",
    "            #         {\"test_reconstructor_accuracy\": reconstructor_accuracy.item()}\n",
    "            #     )\n",
    "            # else:\n",
    "            #     return reconstructor_loss, reconstructor_accuracy\n",
    "            # # clean up\n",
    "            # del reconstructor_loss\n",
    "            # del reconstructor_output\n",
    "            return\n",
    "\n",
    "\n",
    "class NewModel(Model):\n",
    "    def build_model(self, model_type, arch):\n",
    "        if model_type == \"AE\":\n",
    "            self.autoencoder = NewAutoencoder(self.d0, self.d1, self.dn, self.w, arch)\n",
    "        # elif model_type == \"AAE\":\n",
    "        #     self.autoencoder = AdversarialAutoencoder(\n",
    "        #         self.d0, self.d1, self.dn, self.w, arch\n",
    "        #     )\n",
    "        # elif model_type == \"AAEC\":\n",
    "        #     self.autoencoder = AdversarialAutoencoderClassifier(\n",
    "        #         self.d0, self.d1, self.dn, self.w, arch\n",
    "        #     )\n",
    "        self.autoencoder.to(self.device)\n",
    "\n",
    "    def test(self, num_test_items=1, input_noise=0.0):\n",
    "        for test_batch in self.data_loader.get_test_batch(\n",
    "            num_test_items=num_test_items\n",
    "        ):\n",
    "            results = self.autoencoder.test_batch(\n",
    "                test_batch, self.device, input_noise=input_noise, wandb_log=False\n",
    "            )\n",
    "            return results\n",
    "\n",
    "\n",
    "class NewSession(Session):\n",
    "    def add_model(self, name, arch, model_type, d0=21, d1=8, dn=10, w=20):\n",
    "        arch = self.load_arch(arch)\n",
    "        if self.model is None:\n",
    "            self.model = NewModel(name, arch, model_type, d0=d0, d1=d1, dn=dn, w=w)\n",
    "\n",
    "    def load_data(self, dataset_name):\n",
    "        data_files = sorted(glob(str(Model.root) + f\"/data/{dataset_name}/*.csv.gz\"))[\n",
    "            :2\n",
    "        ]\n",
    "        self.model.load_data(dataset_name, data_files)\n",
    "\n",
    "    def test(self, num_test_items=1, input_noise=0.0):\n",
    "        return self.model.test(num_test_items=num_test_items, input_noise=input_noise)"
   ]
  },
  {
   "cell_type": "code",
   "execution_count": 237,
   "id": "f67c89b8-f8bd-43a3-bfe5-2374803dbc39",
   "metadata": {},
   "outputs": [],
   "source": [
    "session = NewSession()\n",
    "model_name = \"dummy\"\n",
    "arch = \"gen1\"\n",
    "model_type = \"AE\"\n",
    "dataset = \"w_20_KeggSeq_ndx_wpACT\"\n",
    "run_title = \"prototyping_consensus_acc\"\n",
    "w = 20"
   ]
  },
  {
   "cell_type": "code",
   "execution_count": 238,
   "id": "1fd87b42-3ba7-4820-b128-df07ee1ea851",
   "metadata": {},
   "outputs": [],
   "source": [
    "session.add_model(model_name, arch, model_type)\n",
    "session.load_data(dataset)\n",
    "result = session.test(num_test_items=1, input_noise=0.0)"
   ]
  },
  {
   "cell_type": "code",
   "execution_count": 239,
   "id": "9a8d90ba-ca61-4eee-ac58-9749592d0fcf",
   "metadata": {},
   "outputs": [
    {
     "data": {
      "text/plain": [
       "tensor([13, 13,  5,  ..., 13, 13, 13])"
      ]
     },
     "execution_count": 239,
     "metadata": {},
     "output_type": "execute_result"
    }
   ],
   "source": [
    "result"
   ]
  },
  {
   "cell_type": "code",
   "execution_count": 240,
   "id": "ac03d6cf-9fa9-4b41-913f-d07d22dabc4d",
   "metadata": {},
   "outputs": [
    {
     "data": {
      "text/plain": [
       "tensor([[13, 13,  5,  ..., 13, 13, 13],\n",
       "        [13, 13,  5,  ..., 13, 13, 13],\n",
       "        [13, 13,  5,  ..., 13, 13, 13],\n",
       "        ...,\n",
       "        [13, 13,  5,  ..., 13, 13, 13],\n",
       "        [13, 13,  5,  ..., 13, 13, 13],\n",
       "        [13, 13,  5,  ..., 13, 13, 13]])"
      ]
     },
     "execution_count": 240,
     "metadata": {},
     "output_type": "execute_result"
    }
   ],
   "source": [
    "result.reshape((-1, w))"
   ]
  },
  {
   "cell_type": "code",
   "execution_count": 241,
   "id": "37e7e005-2b8d-467e-9976-29ce6305cafa",
   "metadata": {},
   "outputs": [
    {
     "name": "stdout",
     "output_type": "stream",
     "text": [
      "tensor([[3, 0, 3, 0, 1],\n",
      "        [2, 0, 1, 3, 1],\n",
      "        [0, 2, 3, 0, 2],\n",
      "        [1, 1, 3, 3, 0],\n",
      "        [3, 3, 3, 1, 1],\n",
      "        [3, 1, 0, 0, 1],\n",
      "        [0, 1, 2, 2, 1],\n",
      "        [2, 0, 3, 1, 1],\n",
      "        [0, 1, 0, 2, 0],\n",
      "        [0, 3, 1, 0, 1],\n",
      "        [3, 3, 1, 0, 3],\n",
      "        [1, 0, 2, 2, 1],\n",
      "        [0, 2, 1, 3, 2],\n",
      "        [2, 2, 3, 0, 3],\n",
      "        [0, 2, 3, 2, 2],\n",
      "        [0, 3, 1, 3, 1]])\n"
     ]
    }
   ],
   "source": [
    "w = 5\n",
    "l = 20\n",
    "ol = l - w + 1\n",
    "output = torch.randint(0, w - 1, (ol, w)).long()\n",
    "\n",
    "print(output)\n",
    "\n",
    "\n",
    "def consensus(output, ndx, w):\n",
    "    f_size = min(l - ndx, ndx + 1)\n",
    "    if f_size > w:\n",
    "        f_size = w\n",
    "    f = torch.fliplr(torch.eye(f_size).long())\n",
    "    # print(f_size)\n",
    "    r_min = max(0, ndx - w + 1)\n",
    "    r_max = r_min + f_size\n",
    "    r_indices = torch.tensor(range(r_min, r_max))\n",
    "    c_min = max(0, ndx - ol + 1)\n",
    "    c_max = min(ndx, w - 1) + 1\n",
    "    c_indices = torch.tensor(range(c_min, c_max))\n",
    "    sub_result = torch.index_select(\n",
    "        torch.index_select(output, 0, r_indices), 1, c_indices\n",
    "    )\n",
    "    print(torch.mode(torch.diagonal(torch.fliplr(f * sub_result))).values.item())\n",
    "    print(\"****************\")"
   ]
  },
  {
   "cell_type": "code",
   "execution_count": null,
   "id": "2381727b-ea5a-4c18-8901-4b8ce19d7bbc",
   "metadata": {},
   "outputs": [],
   "source": []
  },
  {
   "cell_type": "code",
   "execution_count": null,
   "id": "d56b986d-c647-4665-aa38-9b76820a85ef",
   "metadata": {},
   "outputs": [],
   "source": []
  },
  {
   "cell_type": "code",
   "execution_count": null,
   "id": "d053376a-843c-4db3-8dd7-963329fe6c6f",
   "metadata": {},
   "outputs": [],
   "source": []
  },
  {
   "cell_type": "code",
   "execution_count": 257,
   "id": "0cee9f80-58f7-4d30-b5c3-e368c3589c53",
   "metadata": {},
   "outputs": [],
   "source": [
    "def consensus(output, ndx, w):\n",
    "    ol = len(output)\n",
    "    l = ol + w - 1\n",
    "    f_size = min(l - ndx, ndx + 1)\n",
    "    if f_size > w:\n",
    "        f_size = w\n",
    "    f = torch.fliplr(torch.eye(f_size).long())\n",
    "    r_min = max(0, ndx - w + 1)\n",
    "    r_max = r_min + f_size\n",
    "    r_indices = torch.tensor(range(r_min, r_max))\n",
    "    c_min = max(0, ndx - ol + 1)\n",
    "    c_max = min(ndx, w - 1) + 1\n",
    "    c_indices = torch.tensor(range(c_min, c_max))\n",
    "    sub_result = torch.index_select(\n",
    "        torch.index_select(output, 0, r_indices), 1, c_indices\n",
    "    )\n",
    "    return torch.mode(torch.diagonal(torch.fliplr(f * sub_result))).values\n",
    "\n",
    "\n",
    "def acc(seq, output, w):\n",
    "    n = 0\n",
    "    for i, ndx in enumerate(seq):\n",
    "        consensus_ndx = consensus(output, i, w)\n",
    "\n",
    "        if ndx == consensus_ndx:\n",
    "            n += 1\n",
    "        # print(i, ndx, consensus_ndx, n)\n",
    "    return n / len(seq)\n",
    "\n",
    "\n",
    "def main(w, l):\n",
    "    ol = l - w + 1\n",
    "    output = torch.randint(0, 21, (ol, w)).long()\n",
    "    seq = torch.randint(0, 21, (l,)).long()\n",
    "    consensus_acc = acc(seq, output, w)\n",
    "    # print(consensus_acc)\n",
    "\n",
    "\n",
    "main(20, 100)"
   ]
  },
  {
   "cell_type": "code",
   "execution_count": 262,
   "id": "f7947bac-f4dc-4ea1-877b-a81c7816d315",
   "metadata": {},
   "outputs": [
    {
     "name": "stdout",
     "output_type": "stream",
     "text": [
      "         201602 function calls in 1.079 seconds\n",
      "\n",
      "   Ordered by: internal time\n",
      "\n",
      "   ncalls  tottime  percall  cumtime  percall filename:lineno(function)\n",
      "    20000    0.192    0.000    0.192    0.000 {built-in method tensor}\n",
      "    10000    0.180    0.000    0.953    0.000 /var/folders/kp/v03j_nl16632jlw_xj5z___00000gn/T/ipykernel_24590/472421105.py:1(consensus)\n",
      "    20000    0.128    0.000    0.128    0.000 {built-in method fliplr}\n",
      "    10000    0.125    0.000    0.125    0.000 {built-in method mode}\n",
      "      100    0.111    0.001    1.074    0.011 /var/folders/kp/v03j_nl16632jlw_xj5z___00000gn/T/ipykernel_24590/472421105.py:17(acc)\n",
      "    20000    0.107    0.000    0.107    0.000 {built-in method index_select}\n",
      "    10200    0.066    0.000    0.066    0.000 {method 'long' of 'torch._C._TensorBase' objects}\n",
      "    10000    0.044    0.000    0.044    0.000 {built-in method eye}\n",
      "    10000    0.034    0.000    0.034    0.000 {built-in method diagonal}\n",
      "    10100    0.029    0.000    0.047    0.000 /Users/hadinayebi/opt/anaconda3/envs/SeqEN/lib/python3.9/site-packages/torch/_tensor.py:620(__len__)\n",
      "    10200    0.011    0.000    0.011    0.000 {built-in method torch._C._get_tracing_state}\n",
      "    20000    0.011    0.000    0.011    0.000 {built-in method builtins.max}\n",
      "    20000    0.011    0.000    0.011    0.000 {built-in method builtins.min}\n",
      "      100    0.009    0.000    0.009    0.000 {method 'unbind' of 'torch._C._TensorBase' objects}\n",
      "    10100    0.009    0.000    0.056    0.000 {built-in method builtins.len}\n",
      "    10200    0.004    0.000    0.004    0.000 {method 'dim' of 'torch._C._TensorBase' objects}\n",
      "      200    0.003    0.000    0.003    0.000 {built-in method randint}\n",
      "    10100    0.002    0.000    0.002    0.000 {built-in method torch._C._has_torch_function_unary}\n",
      "      100    0.001    0.000    1.079    0.011 /var/folders/kp/v03j_nl16632jlw_xj5z___00000gn/T/ipykernel_24590/472421105.py:27(main)\n",
      "      100    0.000    0.000    0.010    0.000 /Users/hadinayebi/opt/anaconda3/envs/SeqEN/lib/python3.9/site-packages/torch/_tensor.py:632(__iter__)\n",
      "      100    0.000    0.000    0.000    0.000 {built-in method builtins.iter}\n",
      "        1    0.000    0.000    0.000    0.000 /Users/hadinayebi/opt/anaconda3/envs/SeqEN/lib/python3.9/cProfile.py:117(__exit__)\n",
      "        1    0.000    0.000    0.000    0.000 {method 'disable' of '_lsprof.Profiler' objects}\n",
      "\n",
      "\n"
     ]
    }
   ],
   "source": [
    "l = 100\n",
    "w = 20\n",
    "r = 100\n",
    "job = f\"tensor_{w}_{l}_{r}\"\n",
    "job = f\"np_{w}_{l}_{r}\"\n",
    "\n",
    "with cProfile.Profile() as pr:\n",
    "    for _ in range(r):\n",
    "        main(w, l)\n",
    "stats = pstats.Stats(pr)\n",
    "stats.sort_stats(pstats.SortKey.TIME)\n",
    "stats.print_stats()\n",
    "filename = f\"./profiling_{job}.prof\"\n",
    "stats.dump_stats(filename)"
   ]
  },
  {
   "cell_type": "code",
   "execution_count": 263,
   "id": "7915cf3a-a5fd-44d2-b56b-4f72657e235c",
   "metadata": {},
   "outputs": [
    {
     "name": "stdout",
     "output_type": "stream",
     "text": [
      "snakeviz web server started on 127.0.0.1:8080; enter Ctrl-C to exit\n",
      "http://127.0.0.1:8080/snakeviz/%2FUsers%2Fhadinayebi%2FR%2FEG_HN_R%2FLabNoteBook%2F20211025%3AA%2FSeqEN%2Fnotebooks%2Fprofiling_np_20_100_100.prof\n",
      "\n",
      "Bye!\n"
     ]
    },
    {
     "data": {
      "text/plain": [
       "0"
      ]
     },
     "execution_count": 263,
     "metadata": {},
     "output_type": "execute_result"
    }
   ],
   "source": [
    "system(f\"snakeviz {filename}\")"
   ]
  },
  {
   "cell_type": "code",
   "execution_count": null,
   "id": "f9eeac2e-be4e-4431-8c2d-9c218369e55e",
   "metadata": {},
   "outputs": [],
   "source": []
  },
  {
   "cell_type": "code",
   "execution_count": null,
   "id": "22799001-f7ed-4627-b95e-c59fea6d581c",
   "metadata": {},
   "outputs": [],
   "source": []
  },
  {
   "cell_type": "code",
   "execution_count": null,
   "id": "00f7b76d-1428-4e63-a2fd-4bf931244b79",
   "metadata": {},
   "outputs": [],
   "source": []
  },
  {
   "cell_type": "code",
   "execution_count": null,
   "id": "d8fe0cca-5f01-45c8-9c35-8029363477bb",
   "metadata": {},
   "outputs": [],
   "source": []
  },
  {
   "cell_type": "code",
   "execution_count": null,
   "id": "03dd6b90-7fe1-4ff5-8b53-259464d17e72",
   "metadata": {},
   "outputs": [],
   "source": []
  },
  {
   "cell_type": "code",
   "execution_count": null,
   "id": "d8f3dd6f-41bb-442e-886e-a6e40e884d61",
   "metadata": {},
   "outputs": [],
   "source": []
  },
  {
   "cell_type": "code",
   "execution_count": null,
   "id": "d4c4a6c3-2ee2-421c-9c6d-4a10576cae7e",
   "metadata": {},
   "outputs": [],
   "source": []
  },
  {
   "cell_type": "code",
   "execution_count": null,
   "id": "5c093dd6-0a40-416c-9197-4bf32a76d27a",
   "metadata": {},
   "outputs": [],
   "source": []
  },
  {
   "cell_type": "code",
   "execution_count": null,
   "id": "3dda4be1-3709-4889-8785-a48c34e2a3c7",
   "metadata": {},
   "outputs": [],
   "source": []
  },
  {
   "cell_type": "code",
   "execution_count": 10,
   "id": "2860d632-ec12-465e-a9ef-503bb2f4497b",
   "metadata": {},
   "outputs": [],
   "source": [
    "run_dir = session.root / \"models\" / f\"{model_name}\" / \"versions\" / f\"{run_title}\""
   ]
  },
  {
   "cell_type": "code",
   "execution_count": 12,
   "id": "a9a8b6f0-6576-44ba-a17e-7bc57f495882",
   "metadata": {},
   "outputs": [
    {
     "data": {
      "text/plain": [
       "0"
      ]
     },
     "execution_count": 12,
     "metadata": {},
     "output_type": "execute_result"
    }
   ],
   "source": [
    "system(f\"rm -r {str(run_dir)}\")"
   ]
  },
  {
   "cell_type": "code",
   "execution_count": null,
   "id": "9f121fc6-3a01-43e4-b323-03b3ca0a99e5",
   "metadata": {},
   "outputs": [],
   "source": []
  },
  {
   "cell_type": "code",
   "execution_count": null,
   "id": "ea97251e-17c1-495e-ac34-550fc689f47e",
   "metadata": {},
   "outputs": [],
   "source": []
  },
  {
   "cell_type": "code",
   "execution_count": null,
   "id": "fde2267a-ce40-4b61-8032-7a6df5b33596",
   "metadata": {},
   "outputs": [],
   "source": []
  }
 ],
 "metadata": {
  "kernelspec": {
   "display_name": "Python 3 (ipykernel)",
   "language": "python",
   "name": "python3"
  },
  "language_info": {
   "codemirror_mode": {
    "name": "ipython",
    "version": 3
   },
   "file_extension": ".py",
   "mimetype": "text/x-python",
   "name": "python",
   "nbconvert_exporter": "python",
   "pygments_lexer": "ipython3",
   "version": "3.9.7"
  }
 },
 "nbformat": 4,
 "nbformat_minor": 5
}
